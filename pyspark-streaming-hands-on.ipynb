{
 "cells": [
  {
   "cell_type": "markdown",
   "metadata": {},
   "source": [
    "# Clase - Computación Distribuida\n",
    "\n",
    "## Pyspark Streaming Hands-on \n",
    "#### Marcelo Medel Vergara - Diplomado Data Engineer USACH\n"
   ]
  },
  {
   "cell_type": "markdown",
   "metadata": {},
   "source": [
    "### Input Sources\n",
    "\n",
    "Structured Streaming nos permite recibir datos desde distintas fuentes de datos:\n",
    "\n",
    "- Apache Kafka 0.10 - https://kafka.apache.org/ \n",
    "- Archivos en un sistema de archivos distribuidos \n",
    "    - HDFS - https://hadoop.apache.org/docs/r1.2.1/hdfs_design.html \n",
    "    - Amazon - S3 https://aws.amazon.com/es/s3/ \n",
    "- Socket local para propósitos de testing - https://docs.python.org/3/library/socket.html \n",
    "\n",
    "### Sinks \n",
    "\n",
    "Un sink determina dónde y cómo se almacenan los resultados del procesamiento de streaming\n",
    "\n",
    "- **File Sink**: útil para escribir los resultados del procesamiento en archivos (CSV, Parquet, JSON).\n",
    "\n",
    "- **Console Sink**: Los resultados del procesamiento se imprimen en la consola de salida de PySpark.\n",
    "\n",
    "- **Kafka Sink**: Se puede enviar los resultados del procesamiento a Kafka.\n",
    "\n",
    "- **JDBC Sink**: Puede escribir los datos en una tabla de una base de datos compatible con JDBC.\n",
    "\n"
   ]
  },
  {
   "cell_type": "code",
   "execution_count": 5,
   "metadata": {},
   "outputs": [
    {
     "data": {
      "text/plain": [
       "'/Users/marcelomedel/opt/anaconda3/envs/pyspark/lib/python3.10/site-packages/pyspark'"
      ]
     },
     "execution_count": 5,
     "metadata": {},
     "output_type": "execute_result"
    }
   ],
   "source": [
    "import findspark\n",
    "findspark.find()"
   ]
  },
  {
   "cell_type": "code",
   "execution_count": 1,
   "metadata": {},
   "outputs": [
    {
     "name": "stderr",
     "output_type": "stream",
     "text": [
      "Setting default log level to \"WARN\".\n",
      "To adjust logging level use sc.setLogLevel(newLevel). For SparkR, use setLogLevel(newLevel).\n",
      "24/10/16 20:40:09 WARN NativeCodeLoader: Unable to load native-hadoop library for your platform... using builtin-java classes where applicable\n"
     ]
    },
    {
     "data": {
      "text/html": [
       "\n",
       "            <div>\n",
       "                <p><b>SparkSession - in-memory</b></p>\n",
       "                \n",
       "        <div>\n",
       "            <p><b>SparkContext</b></p>\n",
       "\n",
       "            <p><a href=\"http://192.168.100.26:4040\">Spark UI</a></p>\n",
       "\n",
       "            <dl>\n",
       "              <dt>Version</dt>\n",
       "                <dd><code>v3.5.1</code></dd>\n",
       "              <dt>Master</dt>\n",
       "                <dd><code>local[*]</code></dd>\n",
       "              <dt>AppName</dt>\n",
       "                <dd><code>streaming</code></dd>\n",
       "            </dl>\n",
       "        </div>\n",
       "        \n",
       "            </div>\n",
       "        "
      ],
      "text/plain": [
       "<pyspark.sql.session.SparkSession at 0x112cb6a10>"
      ]
     },
     "execution_count": 1,
     "metadata": {},
     "output_type": "execute_result"
    }
   ],
   "source": [
    "import findspark\n",
    "findspark.find()\n",
    "\n",
    "from pyspark.sql import SparkSession\n",
    "\n",
    "spark = SparkSession.builder.appName(\"streaming\").getOrCreate()\n",
    "\n",
    "spark.active()"
   ]
  },
  {
   "cell_type": "code",
   "execution_count": 3,
   "metadata": {},
   "outputs": [
    {
     "name": "stderr",
     "output_type": "stream",
     "text": [
      "                                                                                \r"
     ]
    },
    {
     "name": "stdout",
     "output_type": "stream",
     "text": [
      "root\n",
      " |-- conn_country: string (nullable = true)\n",
      " |-- episode_name: string (nullable = true)\n",
      " |-- episode_show_name: string (nullable = true)\n",
      " |-- incognito_mode: boolean (nullable = true)\n",
      " |-- ip_addr_decrypted: string (nullable = true)\n",
      " |-- master_metadata_album_album_name: string (nullable = true)\n",
      " |-- master_metadata_album_artist_name: string (nullable = true)\n",
      " |-- master_metadata_track_name: string (nullable = true)\n",
      " |-- ms_played: long (nullable = true)\n",
      " |-- offline: boolean (nullable = true)\n",
      " |-- offline_timestamp: long (nullable = true)\n",
      " |-- platform: string (nullable = true)\n",
      " |-- reason_end: string (nullable = true)\n",
      " |-- reason_start: string (nullable = true)\n",
      " |-- shuffle: boolean (nullable = true)\n",
      " |-- skipped: string (nullable = true)\n",
      " |-- spotify_episode_uri: string (nullable = true)\n",
      " |-- spotify_track_uri: string (nullable = true)\n",
      " |-- ts: string (nullable = true)\n",
      " |-- user_agent_decrypted: string (nullable = true)\n",
      " |-- username: string (nullable = true)\n",
      "\n",
      "+------------+------------+-----------------+--------------+-----------------+--------------------------------+---------------------------------+--------------------------+---------+-------+-----------------+--------------------+----------+------------+-------+-------+-------------------+--------------------+--------------------+--------------------+-----------+\n",
      "|conn_country|episode_name|episode_show_name|incognito_mode|ip_addr_decrypted|master_metadata_album_album_name|master_metadata_album_artist_name|master_metadata_track_name|ms_played|offline|offline_timestamp|            platform|reason_end|reason_start|shuffle|skipped|spotify_episode_uri|   spotify_track_uri|                  ts|user_agent_decrypted|   username|\n",
      "+------------+------------+-----------------+--------------+-----------------+--------------------------------+---------------------------------+--------------------------+---------+-------+-----------------+--------------------+----------+------------+-------+-------+-------------------+--------------------+--------------------+--------------------+-----------+\n",
      "|          CL|        NULL|             NULL|         false|             NULL|                      Audioslave|                       Audioslave|       Show Me How to Live|   277840|  false|    1485613394490|iOS 10.2 (iPhone8,1)|      NULL|   trackdone|  false|   NULL|               NULL|spotify:track:4j4...|2017-01-28T14:35:07Z|                NULL|12135236562|\n",
      "|          CL|        NULL|             NULL|         false|             NULL|                      Audioslave|                       Audioslave|                  Gasoline|   279333|  false|    1485614093978|iOS 10.2 (iPhone8,1)|      NULL|   trackdone|  false|   NULL|               NULL|spotify:track:6ze...|2017-01-28T14:40:01Z|                NULL|12135236562|\n",
      "|          CL|        NULL|             NULL|         false|             NULL|                      Audioslave|                       Audioslave|              What You Are|   249400|  false|    1485614400206|iOS 10.2 (iPhone8,1)|      NULL|   trackdone|  false|   NULL|               NULL|spotify:track:5D4...|2017-01-28T14:44:10Z|                NULL|12135236562|\n",
      "|          CL|        NULL|             NULL|         false|             NULL|                      Audioslave|                       Audioslave|              Like a Stone|   293960|  false|    1485614649671|iOS 10.2 (iPhone8,1)|      NULL|   trackdone|  false|   NULL|               NULL|spotify:track:2Mr...|2017-01-28T14:49:04Z|                NULL|12135236562|\n",
      "|          CL|        NULL|             NULL|         false|             NULL|                      Audioslave|                       Audioslave|                Set It Off|   263200|  false|    1485614943660|iOS 10.2 (iPhone8,1)|      NULL|   trackdone|  false|   NULL|               NULL|spotify:track:0OL...|2017-01-28T14:53:51Z|                NULL|12135236562|\n",
      "|          CL|        NULL|             NULL|         false|             NULL|                      Audioslave|                       Audioslave|         Shadow on the Sun|   343400|  false|    1485615230427|iOS 10.2 (iPhone8,1)|      NULL|   trackdone|  false|   NULL|               NULL|spotify:track:1NI...|2017-01-28T15:00:02Z|                NULL|12135236562|\n",
      "|          CL|        NULL|             NULL|         false|             NULL|                      Audioslave|                       Audioslave|          I Am the Highway|   334906|  false|    1485615600639|iOS 10.2 (iPhone8,1)|      NULL|   trackdone|  false|   NULL|               NULL|spotify:track:72Z...|2017-01-28T15:44:41Z|                NULL|12135236562|\n",
      "|          CL|        NULL|             NULL|         false|             NULL|                      Audioslave|                       Audioslave|                  Exploder|    58409|  false|    1485618280420|iOS 10.2 (iPhone8,1)|      NULL|   trackdone|  false|   NULL|               NULL|spotify:track:5Ce...|2017-01-28T15:45:40Z|                NULL|12135236562|\n",
      "|          CL|        NULL|             NULL|         false|             NULL|            How You Sell Soul...|                     Public Enemy|      Harder Than You T...|   249521|  false|    1485618340134|iOS 10.2 (iPhone8,1)|      NULL|    clickrow|  false|   NULL|               NULL|spotify:track:5Yp...|2017-01-28T15:49:50Z|                NULL|12135236562|\n",
      "|          CL|        NULL|             NULL|         false|             NULL|            Fear Of A Black P...|                     Public Enemy|           Fight The Power|   282640|  false|    1485618589237|iOS 10.2 (iPhone8,1)|      NULL|   trackdone|  false|   NULL|               NULL|spotify:track:26z...|2017-01-28T15:54:35Z|                NULL|12135236562|\n",
      "|          CL|        NULL|             NULL|         false|             NULL|                     He Got Game|                     Public Enemy|               He Got Game|   286200|  false|    1485618872287|iOS 10.2 (iPhone8,1)|      NULL|   trackdone|  false|   NULL|               NULL|spotify:track:7aR...|2017-01-28T15:59:36Z|                NULL|12135236562|\n",
      "|          CL|        NULL|             NULL|         false|             NULL|            Apocalypse 91… Th...|                     Public Enemy|            Can't Truss It|   321560|  false|    1485619174529|iOS 10.2 (iPhone8,1)|      NULL|   trackdone|  false|   NULL|               NULL|spotify:track:54C...|2017-01-28T16:08:11Z|                NULL|12135236562|\n",
      "|          CL|        NULL|             NULL|         false|             NULL|                 Made In Chicago|                     Public Enemy|           Bring the Noise|    97559|  false|    1485619690535|iOS 10.2 (iPhone8,1)|      NULL|   trackdone|  false|   NULL|               NULL|spotify:track:6Le...|2017-01-28T16:09:50Z|                NULL|12135236562|\n",
      "|          CL|        NULL|             NULL|         false|             NULL|            The Day Is My Ene...|                      The Prodigy|               Shut 'Em Up|   260000|  false|    1485619789483|iOS 10.2 (iPhone8,1)|      NULL|      fwdbtn|  false|   NULL|               NULL|spotify:track:6uz...|2017-01-28T16:14:09Z|                NULL|12135236562|\n",
      "|          CL|        NULL|             NULL|         false|             NULL|            It Takes A Nation...|                     Public Enemy|           Bring The Noise|   226040|  false|    1485620048572|iOS 10.2 (iPhone8,1)|      NULL|   trackdone|  false|   NULL|               NULL|spotify:track:2bK...|2017-01-28T16:17:55Z|                NULL|12135236562|\n",
      "|          CL|        NULL|             NULL|         false|             NULL|            It Takes A Nation...|                     Public Enemy|      Don't Believe The...|    53084|  false|    1485620274933|iOS 10.2 (iPhone8,1)|      NULL|   trackdone|  false|   NULL|               NULL|spotify:track:0PL...|2017-01-28T18:28:21Z|                NULL|12135236562|\n",
      "|          CL|        NULL|             NULL|         false|             NULL|                   Greatest Hits|                           N.W.A.|      Straight Outta Co...|   230968|  false|    1485628100619|iOS 10.2 (iPhone8,1)|      NULL|    clickrow|  false|   NULL|               NULL|spotify:track:3eG...|2017-01-28T18:32:12Z|                NULL|12135236562|\n",
      "|          CL|        NULL|             NULL|         false|             NULL|                           Hello|                            Adele|                     Hello|     1648|  false|    1485628332165|iOS 10.2 (iPhone8,1)|      NULL|    clickrow|   true|   NULL|               NULL|spotify:track:0EN...|2017-01-28T18:32:15Z|                NULL|12135236562|\n",
      "|          CL|        NULL|             NULL|         false|             NULL|                         La Bala|                       Ana Tijoux|              Sacar la Voz|     1021|  false|    1485628334241|iOS 10.2 (iPhone8,1)|      NULL|      fwdbtn|   true|   NULL|               NULL|spotify:track:1tR...|2017-01-28T18:32:16Z|                NULL|12135236562|\n",
      "|          CL|        NULL|             NULL|         false|             NULL|                              18|                             Moby|             In This World|      766|  false|    1485628335311|iOS 10.2 (iPhone8,1)|      NULL|  trackerror|   true|   NULL|               NULL|spotify:track:5cG...|2017-01-28T18:32:17Z|                NULL|12135236562|\n",
      "+------------+------------+-----------------+--------------+-----------------+--------------------------------+---------------------------------+--------------------------+---------+-------+-----------------+--------------------+----------+------------+-------+-------+-------------------+--------------------+--------------------+--------------------+-----------+\n",
      "only showing top 20 rows\n",
      "\n"
     ]
    }
   ],
   "source": [
    "data = spark.read.json(\"data/streaming/streaming.json\")\n",
    "data.printSchema()\n",
    "data.show()"
   ]
  },
  {
   "cell_type": "code",
   "execution_count": 6,
   "metadata": {},
   "outputs": [
    {
     "name": "stdout",
     "output_type": "stream",
     "text": [
      "root\n",
      " |-- conn_country: string (nullable = true)\n",
      " |-- episode_name: string (nullable = true)\n",
      " |-- episode_show_name: string (nullable = true)\n",
      " |-- incognito_mode: boolean (nullable = true)\n",
      " |-- ip_addr_decrypted: string (nullable = true)\n",
      " |-- master_metadata_album_album_name: string (nullable = true)\n",
      " |-- master_metadata_album_artist_name: string (nullable = true)\n",
      " |-- master_metadata_track_name: string (nullable = true)\n",
      " |-- ms_played: long (nullable = true)\n",
      " |-- offline: boolean (nullable = true)\n",
      " |-- offline_timestamp: long (nullable = true)\n",
      " |-- platform: string (nullable = true)\n",
      " |-- reason_end: string (nullable = true)\n",
      " |-- reason_start: string (nullable = true)\n",
      " |-- shuffle: boolean (nullable = true)\n",
      " |-- skipped: boolean (nullable = true)\n",
      " |-- spotify_episode_uri: string (nullable = true)\n",
      " |-- spotify_track_uri: string (nullable = true)\n",
      " |-- ts: timestamp (nullable = true)\n",
      " |-- user_agent_decrypted: string (nullable = true)\n",
      " |-- username: string (nullable = true)\n",
      "\n"
     ]
    }
   ],
   "source": [
    "from pyspark.sql.types import StructType, StructField, StringType, LongType, BooleanType, TimestampType\n",
    "\n",
    "schema = StructType([\n",
    "    StructField(\"conn_country\", StringType(), True),\n",
    "    StructField(\"episode_name\", StringType(), True),\n",
    "    StructField(\"episode_show_name\", StringType(), True),\n",
    "    StructField(\"incognito_mode\", BooleanType(), True),\n",
    "    StructField(\"ip_addr_decrypted\", StringType(), True),\n",
    "    StructField(\"master_metadata_album_album_name\", StringType(), True),\n",
    "    StructField(\"master_metadata_album_artist_name\", StringType(), True),\n",
    "    StructField(\"master_metadata_track_name\", StringType(), True),\n",
    "    StructField(\"ms_played\", LongType(), True),\n",
    "    StructField(\"offline\", BooleanType(), True),\n",
    "    StructField(\"offline_timestamp\", LongType(), True),\n",
    "    StructField(\"platform\", StringType(), True),\n",
    "    StructField(\"reason_end\", StringType(), True),\n",
    "    StructField(\"reason_start\", StringType(), True),\n",
    "    StructField(\"shuffle\", BooleanType(), True),\n",
    "    StructField(\"skipped\", BooleanType(), True),\n",
    "    StructField(\"spotify_episode_uri\", StringType(), True),\n",
    "    StructField(\"spotify_track_uri\", StringType(), True),\n",
    "    StructField(\"ts\", TimestampType(), True),\n",
    "    StructField(\"user_agent_decrypted\", StringType(), True),\n",
    "    StructField(\"username\", StringType(), True)\n",
    "])\n",
    "\n",
    "data_stream = spark.readStream.schema(schema).json(\"data/streaming/\")\n",
    "data_stream.printSchema()"
   ]
  },
  {
   "cell_type": "code",
   "execution_count": 7,
   "metadata": {},
   "outputs": [
    {
     "data": {
      "text/plain": [
       "False"
      ]
     },
     "execution_count": 7,
     "metadata": {},
     "output_type": "execute_result"
    }
   ],
   "source": [
    "data.isStreaming"
   ]
  },
  {
   "cell_type": "code",
   "execution_count": 8,
   "metadata": {},
   "outputs": [
    {
     "data": {
      "text/plain": [
       "True"
      ]
     },
     "execution_count": 8,
     "metadata": {},
     "output_type": "execute_result"
    }
   ],
   "source": [
    "data_stream.isStreaming"
   ]
  },
  {
   "cell_type": "code",
   "execution_count": 9,
   "metadata": {},
   "outputs": [
    {
     "name": "stderr",
     "output_type": "stream",
     "text": [
      "24/10/16 20:52:00 WARN ResolveWriteToStream: Temporary checkpoint location created which is deleted normally when the query didn't fail: /private/var/folders/yc/93pqpkn533n6nlff1n38pb2c0000gn/T/temporary-f7967856-7175-4874-8459-de33fb900b8c. If it's required to delete it under any circumstances, please set spark.sql.streaming.forceDeleteTempCheckpointLocation to true. Important to know deleting temp checkpoint folder is best effort.\n",
      "24/10/16 20:52:00 WARN ResolveWriteToStream: spark.sql.adaptive.enabled is not supported in streaming DataFrames/Datasets and will be disabled.\n"
     ]
    },
    {
     "data": {
      "text/plain": [
       "<pyspark.sql.streaming.query.StreamingQuery at 0x10d3c16c0>"
      ]
     },
     "execution_count": 9,
     "metadata": {},
     "output_type": "execute_result"
    },
    {
     "name": "stdout",
     "output_type": "stream",
     "text": [
      "-------------------------------------------\n",
      "Batch: 0\n",
      "-------------------------------------------\n",
      "+------------+------------+-----------------+--------------+-----------------+--------------------------------+---------------------------------+--------------------------+---------+-------+-----------------+--------------------+----------+------------+-------+-------+-------------------+--------------------+-------------------+--------------------+-----------+\n",
      "|conn_country|episode_name|episode_show_name|incognito_mode|ip_addr_decrypted|master_metadata_album_album_name|master_metadata_album_artist_name|master_metadata_track_name|ms_played|offline|offline_timestamp|            platform|reason_end|reason_start|shuffle|skipped|spotify_episode_uri|   spotify_track_uri|                 ts|user_agent_decrypted|   username|\n",
      "+------------+------------+-----------------+--------------+-----------------+--------------------------------+---------------------------------+--------------------------+---------+-------+-----------------+--------------------+----------+------------+-------+-------+-------------------+--------------------+-------------------+--------------------+-----------+\n",
      "|          CL|        NULL|             NULL|         false|             NULL|                      Audioslave|                       Audioslave|       Show Me How to Live|   277840|  false|    1485613394490|iOS 10.2 (iPhone8,1)|      NULL|   trackdone|  false|   NULL|               NULL|spotify:track:4j4...|2017-01-28 11:35:07|                NULL|12135236562|\n",
      "|          CL|        NULL|             NULL|         false|             NULL|                      Audioslave|                       Audioslave|                  Gasoline|   279333|  false|    1485614093978|iOS 10.2 (iPhone8,1)|      NULL|   trackdone|  false|   NULL|               NULL|spotify:track:6ze...|2017-01-28 11:40:01|                NULL|12135236562|\n",
      "|          CL|        NULL|             NULL|         false|             NULL|                      Audioslave|                       Audioslave|              What You Are|   249400|  false|    1485614400206|iOS 10.2 (iPhone8,1)|      NULL|   trackdone|  false|   NULL|               NULL|spotify:track:5D4...|2017-01-28 11:44:10|                NULL|12135236562|\n",
      "|          CL|        NULL|             NULL|         false|             NULL|                      Audioslave|                       Audioslave|              Like a Stone|   293960|  false|    1485614649671|iOS 10.2 (iPhone8,1)|      NULL|   trackdone|  false|   NULL|               NULL|spotify:track:2Mr...|2017-01-28 11:49:04|                NULL|12135236562|\n",
      "|          CL|        NULL|             NULL|         false|             NULL|                      Audioslave|                       Audioslave|                Set It Off|   263200|  false|    1485614943660|iOS 10.2 (iPhone8,1)|      NULL|   trackdone|  false|   NULL|               NULL|spotify:track:0OL...|2017-01-28 11:53:51|                NULL|12135236562|\n",
      "|          CL|        NULL|             NULL|         false|             NULL|                      Audioslave|                       Audioslave|         Shadow on the Sun|   343400|  false|    1485615230427|iOS 10.2 (iPhone8,1)|      NULL|   trackdone|  false|   NULL|               NULL|spotify:track:1NI...|2017-01-28 12:00:02|                NULL|12135236562|\n",
      "|          CL|        NULL|             NULL|         false|             NULL|                      Audioslave|                       Audioslave|          I Am the Highway|   334906|  false|    1485615600639|iOS 10.2 (iPhone8,1)|      NULL|   trackdone|  false|   NULL|               NULL|spotify:track:72Z...|2017-01-28 12:44:41|                NULL|12135236562|\n",
      "|          CL|        NULL|             NULL|         false|             NULL|                      Audioslave|                       Audioslave|                  Exploder|    58409|  false|    1485618280420|iOS 10.2 (iPhone8,1)|      NULL|   trackdone|  false|   NULL|               NULL|spotify:track:5Ce...|2017-01-28 12:45:40|                NULL|12135236562|\n",
      "|          CL|        NULL|             NULL|         false|             NULL|            How You Sell Soul...|                     Public Enemy|      Harder Than You T...|   249521|  false|    1485618340134|iOS 10.2 (iPhone8,1)|      NULL|    clickrow|  false|   NULL|               NULL|spotify:track:5Yp...|2017-01-28 12:49:50|                NULL|12135236562|\n",
      "|          CL|        NULL|             NULL|         false|             NULL|            Fear Of A Black P...|                     Public Enemy|           Fight The Power|   282640|  false|    1485618589237|iOS 10.2 (iPhone8,1)|      NULL|   trackdone|  false|   NULL|               NULL|spotify:track:26z...|2017-01-28 12:54:35|                NULL|12135236562|\n",
      "|          CL|        NULL|             NULL|         false|             NULL|                     He Got Game|                     Public Enemy|               He Got Game|   286200|  false|    1485618872287|iOS 10.2 (iPhone8,1)|      NULL|   trackdone|  false|   NULL|               NULL|spotify:track:7aR...|2017-01-28 12:59:36|                NULL|12135236562|\n",
      "|          CL|        NULL|             NULL|         false|             NULL|            Apocalypse 91… Th...|                     Public Enemy|            Can't Truss It|   321560|  false|    1485619174529|iOS 10.2 (iPhone8,1)|      NULL|   trackdone|  false|   NULL|               NULL|spotify:track:54C...|2017-01-28 13:08:11|                NULL|12135236562|\n",
      "|          CL|        NULL|             NULL|         false|             NULL|                 Made In Chicago|                     Public Enemy|           Bring the Noise|    97559|  false|    1485619690535|iOS 10.2 (iPhone8,1)|      NULL|   trackdone|  false|   NULL|               NULL|spotify:track:6Le...|2017-01-28 13:09:50|                NULL|12135236562|\n",
      "|          CL|        NULL|             NULL|         false|             NULL|            The Day Is My Ene...|                      The Prodigy|               Shut 'Em Up|   260000|  false|    1485619789483|iOS 10.2 (iPhone8,1)|      NULL|      fwdbtn|  false|   NULL|               NULL|spotify:track:6uz...|2017-01-28 13:14:09|                NULL|12135236562|\n",
      "|          CL|        NULL|             NULL|         false|             NULL|            It Takes A Nation...|                     Public Enemy|           Bring The Noise|   226040|  false|    1485620048572|iOS 10.2 (iPhone8,1)|      NULL|   trackdone|  false|   NULL|               NULL|spotify:track:2bK...|2017-01-28 13:17:55|                NULL|12135236562|\n",
      "|          CL|        NULL|             NULL|         false|             NULL|            It Takes A Nation...|                     Public Enemy|      Don't Believe The...|    53084|  false|    1485620274933|iOS 10.2 (iPhone8,1)|      NULL|   trackdone|  false|   NULL|               NULL|spotify:track:0PL...|2017-01-28 15:28:21|                NULL|12135236562|\n",
      "|          CL|        NULL|             NULL|         false|             NULL|                   Greatest Hits|                           N.W.A.|      Straight Outta Co...|   230968|  false|    1485628100619|iOS 10.2 (iPhone8,1)|      NULL|    clickrow|  false|   NULL|               NULL|spotify:track:3eG...|2017-01-28 15:32:12|                NULL|12135236562|\n",
      "|          CL|        NULL|             NULL|         false|             NULL|                           Hello|                            Adele|                     Hello|     1648|  false|    1485628332165|iOS 10.2 (iPhone8,1)|      NULL|    clickrow|   true|   NULL|               NULL|spotify:track:0EN...|2017-01-28 15:32:15|                NULL|12135236562|\n",
      "|          CL|        NULL|             NULL|         false|             NULL|                         La Bala|                       Ana Tijoux|              Sacar la Voz|     1021|  false|    1485628334241|iOS 10.2 (iPhone8,1)|      NULL|      fwdbtn|   true|   NULL|               NULL|spotify:track:1tR...|2017-01-28 15:32:16|                NULL|12135236562|\n",
      "|          CL|        NULL|             NULL|         false|             NULL|                              18|                             Moby|             In This World|      766|  false|    1485628335311|iOS 10.2 (iPhone8,1)|      NULL|  trackerror|   true|   NULL|               NULL|spotify:track:5cG...|2017-01-28 15:32:17|                NULL|12135236562|\n",
      "+------------+------------+-----------------+--------------+-----------------+--------------------------------+---------------------------------+--------------------------+---------+-------+-----------------+--------------------+----------+------------+-------+-------+-------------------+--------------------+-------------------+--------------------+-----------+\n",
      "only showing top 20 rows\n",
      "\n"
     ]
    }
   ],
   "source": [
    "data_stream.writeStream.format(\"console\").start()"
   ]
  },
  {
   "cell_type": "code",
   "execution_count": 10,
   "metadata": {},
   "outputs": [
    {
     "name": "stderr",
     "output_type": "stream",
     "text": [
      "24/10/16 20:52:54 WARN ResolveWriteToStream: Temporary checkpoint location created which is deleted normally when the query didn't fail: /private/var/folders/yc/93pqpkn533n6nlff1n38pb2c0000gn/T/temporary-84e551e7-61e1-443a-b2ff-cceb448be78f. If it's required to delete it under any circumstances, please set spark.sql.streaming.forceDeleteTempCheckpointLocation to true. Important to know deleting temp checkpoint folder is best effort.\n",
      "24/10/16 20:52:54 WARN ResolveWriteToStream: spark.sql.adaptive.enabled is not supported in streaming DataFrames/Datasets and will be disabled.\n"
     ]
    },
    {
     "data": {
      "text/plain": [
       "<pyspark.sql.streaming.query.StreamingQuery at 0x11463a800>"
      ]
     },
     "execution_count": 10,
     "metadata": {},
     "output_type": "execute_result"
    }
   ],
   "source": [
    "data_stream.writeStream.format(\"memory\").queryName(\"tabla\").start()"
   ]
  },
  {
   "cell_type": "code",
   "execution_count": 11,
   "metadata": {},
   "outputs": [
    {
     "name": "stdout",
     "output_type": "stream",
     "text": [
      "+------------+------------+-----------------+--------------+-----------------+--------------------------------+---------------------------------+--------------------------+---------+-------+-----------------+--------------------+----------+------------+-------+-------+-------------------+--------------------+-------------------+--------------------+-----------+\n",
      "|conn_country|episode_name|episode_show_name|incognito_mode|ip_addr_decrypted|master_metadata_album_album_name|master_metadata_album_artist_name|master_metadata_track_name|ms_played|offline|offline_timestamp|            platform|reason_end|reason_start|shuffle|skipped|spotify_episode_uri|   spotify_track_uri|                 ts|user_agent_decrypted|   username|\n",
      "+------------+------------+-----------------+--------------+-----------------+--------------------------------+---------------------------------+--------------------------+---------+-------+-----------------+--------------------+----------+------------+-------+-------+-------------------+--------------------+-------------------+--------------------+-----------+\n",
      "|          CL|        NULL|             NULL|         false|             NULL|                      Audioslave|                       Audioslave|       Show Me How to Live|   277840|  false|    1485613394490|iOS 10.2 (iPhone8,1)|      NULL|   trackdone|  false|   NULL|               NULL|spotify:track:4j4...|2017-01-28 11:35:07|                NULL|12135236562|\n",
      "|          CL|        NULL|             NULL|         false|             NULL|                      Audioslave|                       Audioslave|                  Gasoline|   279333|  false|    1485614093978|iOS 10.2 (iPhone8,1)|      NULL|   trackdone|  false|   NULL|               NULL|spotify:track:6ze...|2017-01-28 11:40:01|                NULL|12135236562|\n",
      "|          CL|        NULL|             NULL|         false|             NULL|                      Audioslave|                       Audioslave|              What You Are|   249400|  false|    1485614400206|iOS 10.2 (iPhone8,1)|      NULL|   trackdone|  false|   NULL|               NULL|spotify:track:5D4...|2017-01-28 11:44:10|                NULL|12135236562|\n",
      "|          CL|        NULL|             NULL|         false|             NULL|                      Audioslave|                       Audioslave|              Like a Stone|   293960|  false|    1485614649671|iOS 10.2 (iPhone8,1)|      NULL|   trackdone|  false|   NULL|               NULL|spotify:track:2Mr...|2017-01-28 11:49:04|                NULL|12135236562|\n",
      "|          CL|        NULL|             NULL|         false|             NULL|                      Audioslave|                       Audioslave|                Set It Off|   263200|  false|    1485614943660|iOS 10.2 (iPhone8,1)|      NULL|   trackdone|  false|   NULL|               NULL|spotify:track:0OL...|2017-01-28 11:53:51|                NULL|12135236562|\n",
      "|          CL|        NULL|             NULL|         false|             NULL|                      Audioslave|                       Audioslave|         Shadow on the Sun|   343400|  false|    1485615230427|iOS 10.2 (iPhone8,1)|      NULL|   trackdone|  false|   NULL|               NULL|spotify:track:1NI...|2017-01-28 12:00:02|                NULL|12135236562|\n",
      "|          CL|        NULL|             NULL|         false|             NULL|                      Audioslave|                       Audioslave|          I Am the Highway|   334906|  false|    1485615600639|iOS 10.2 (iPhone8,1)|      NULL|   trackdone|  false|   NULL|               NULL|spotify:track:72Z...|2017-01-28 12:44:41|                NULL|12135236562|\n",
      "|          CL|        NULL|             NULL|         false|             NULL|                      Audioslave|                       Audioslave|                  Exploder|    58409|  false|    1485618280420|iOS 10.2 (iPhone8,1)|      NULL|   trackdone|  false|   NULL|               NULL|spotify:track:5Ce...|2017-01-28 12:45:40|                NULL|12135236562|\n",
      "|          CL|        NULL|             NULL|         false|             NULL|            How You Sell Soul...|                     Public Enemy|      Harder Than You T...|   249521|  false|    1485618340134|iOS 10.2 (iPhone8,1)|      NULL|    clickrow|  false|   NULL|               NULL|spotify:track:5Yp...|2017-01-28 12:49:50|                NULL|12135236562|\n",
      "|          CL|        NULL|             NULL|         false|             NULL|            Fear Of A Black P...|                     Public Enemy|           Fight The Power|   282640|  false|    1485618589237|iOS 10.2 (iPhone8,1)|      NULL|   trackdone|  false|   NULL|               NULL|spotify:track:26z...|2017-01-28 12:54:35|                NULL|12135236562|\n",
      "|          CL|        NULL|             NULL|         false|             NULL|                     He Got Game|                     Public Enemy|               He Got Game|   286200|  false|    1485618872287|iOS 10.2 (iPhone8,1)|      NULL|   trackdone|  false|   NULL|               NULL|spotify:track:7aR...|2017-01-28 12:59:36|                NULL|12135236562|\n",
      "|          CL|        NULL|             NULL|         false|             NULL|            Apocalypse 91… Th...|                     Public Enemy|            Can't Truss It|   321560|  false|    1485619174529|iOS 10.2 (iPhone8,1)|      NULL|   trackdone|  false|   NULL|               NULL|spotify:track:54C...|2017-01-28 13:08:11|                NULL|12135236562|\n",
      "|          CL|        NULL|             NULL|         false|             NULL|                 Made In Chicago|                     Public Enemy|           Bring the Noise|    97559|  false|    1485619690535|iOS 10.2 (iPhone8,1)|      NULL|   trackdone|  false|   NULL|               NULL|spotify:track:6Le...|2017-01-28 13:09:50|                NULL|12135236562|\n",
      "|          CL|        NULL|             NULL|         false|             NULL|            The Day Is My Ene...|                      The Prodigy|               Shut 'Em Up|   260000|  false|    1485619789483|iOS 10.2 (iPhone8,1)|      NULL|      fwdbtn|  false|   NULL|               NULL|spotify:track:6uz...|2017-01-28 13:14:09|                NULL|12135236562|\n",
      "|          CL|        NULL|             NULL|         false|             NULL|            It Takes A Nation...|                     Public Enemy|           Bring The Noise|   226040|  false|    1485620048572|iOS 10.2 (iPhone8,1)|      NULL|   trackdone|  false|   NULL|               NULL|spotify:track:2bK...|2017-01-28 13:17:55|                NULL|12135236562|\n",
      "|          CL|        NULL|             NULL|         false|             NULL|            It Takes A Nation...|                     Public Enemy|      Don't Believe The...|    53084|  false|    1485620274933|iOS 10.2 (iPhone8,1)|      NULL|   trackdone|  false|   NULL|               NULL|spotify:track:0PL...|2017-01-28 15:28:21|                NULL|12135236562|\n",
      "|          CL|        NULL|             NULL|         false|             NULL|                   Greatest Hits|                           N.W.A.|      Straight Outta Co...|   230968|  false|    1485628100619|iOS 10.2 (iPhone8,1)|      NULL|    clickrow|  false|   NULL|               NULL|spotify:track:3eG...|2017-01-28 15:32:12|                NULL|12135236562|\n",
      "|          CL|        NULL|             NULL|         false|             NULL|                           Hello|                            Adele|                     Hello|     1648|  false|    1485628332165|iOS 10.2 (iPhone8,1)|      NULL|    clickrow|   true|   NULL|               NULL|spotify:track:0EN...|2017-01-28 15:32:15|                NULL|12135236562|\n",
      "|          CL|        NULL|             NULL|         false|             NULL|                         La Bala|                       Ana Tijoux|              Sacar la Voz|     1021|  false|    1485628334241|iOS 10.2 (iPhone8,1)|      NULL|      fwdbtn|   true|   NULL|               NULL|spotify:track:1tR...|2017-01-28 15:32:16|                NULL|12135236562|\n",
      "|          CL|        NULL|             NULL|         false|             NULL|                              18|                             Moby|             In This World|      766|  false|    1485628335311|iOS 10.2 (iPhone8,1)|      NULL|  trackerror|   true|   NULL|               NULL|spotify:track:5cG...|2017-01-28 15:32:17|                NULL|12135236562|\n",
      "+------------+------------+-----------------+--------------+-----------------+--------------------------------+---------------------------------+--------------------------+---------+-------+-----------------+--------------------+----------+------------+-------+-------+-------------------+--------------------+-------------------+--------------------+-----------+\n",
      "only showing top 20 rows\n",
      "\n"
     ]
    }
   ],
   "source": [
    "spark.sql(\"select * from tabla\").show()"
   ]
  },
  {
   "cell_type": "code",
   "execution_count": 13,
   "metadata": {},
   "outputs": [
    {
     "name": "stderr",
     "output_type": "stream",
     "text": [
      "24/10/16 20:57:50 WARN ResolveWriteToStream: Temporary checkpoint location created which is deleted normally when the query didn't fail: /private/var/folders/yc/93pqpkn533n6nlff1n38pb2c0000gn/T/temporary-6f648cc0-c2fd-491b-9298-3fd6e42402d1. If it's required to delete it under any circumstances, please set spark.sql.streaming.forceDeleteTempCheckpointLocation to true. Important to know deleting temp checkpoint folder is best effort.\n",
      "24/10/16 20:57:50 WARN ResolveWriteToStream: spark.sql.adaptive.enabled is not supported in streaming DataFrames/Datasets and will be disabled.\n"
     ]
    },
    {
     "data": {
      "text/plain": [
       "<pyspark.sql.streaming.query.StreamingQuery at 0x11480edd0>"
      ]
     },
     "execution_count": 13,
     "metadata": {},
     "output_type": "execute_result"
    }
   ],
   "source": [
    "from pyspark.sql.functions import col, expr, round\n",
    "\n",
    "data_stream_zip = data_stream.select(\n",
    "    col(\"master_metadata_album_album_name\").alias(\"album\"),\n",
    "    col(\"master_metadata_album_artist_name\").alias(\"artist\"),\n",
    "    col(\"master_metadata_track_name\").alias(\"track\"),\n",
    "    round(expr(\"ms_played/1000/60\"),1).alias(\"min_played\"),\n",
    "    col(\"reason_start\"),\n",
    "    col(\"ts\")\n",
    ")\n",
    "data_stream_zip.writeStream.format(\"memory\").queryName(\"tabla2\").start()"
   ]
  },
  {
   "cell_type": "code",
   "execution_count": 14,
   "metadata": {},
   "outputs": [
    {
     "name": "stdout",
     "output_type": "stream",
     "text": [
      "+--------------------+------------+--------------------+----------+------------+-------------------+\n",
      "|               album|      artist|               track|min_played|reason_start|                 ts|\n",
      "+--------------------+------------+--------------------+----------+------------+-------------------+\n",
      "|          Audioslave|  Audioslave| Show Me How to Live|       4.6|   trackdone|2017-01-28 11:35:07|\n",
      "|          Audioslave|  Audioslave|            Gasoline|       4.7|   trackdone|2017-01-28 11:40:01|\n",
      "|          Audioslave|  Audioslave|        What You Are|       4.2|   trackdone|2017-01-28 11:44:10|\n",
      "|          Audioslave|  Audioslave|        Like a Stone|       4.9|   trackdone|2017-01-28 11:49:04|\n",
      "|          Audioslave|  Audioslave|          Set It Off|       4.4|   trackdone|2017-01-28 11:53:51|\n",
      "|          Audioslave|  Audioslave|   Shadow on the Sun|       5.7|   trackdone|2017-01-28 12:00:02|\n",
      "|          Audioslave|  Audioslave|    I Am the Highway|       5.6|   trackdone|2017-01-28 12:44:41|\n",
      "|          Audioslave|  Audioslave|            Exploder|       1.0|   trackdone|2017-01-28 12:45:40|\n",
      "|How You Sell Soul...|Public Enemy|Harder Than You T...|       4.2|    clickrow|2017-01-28 12:49:50|\n",
      "|Fear Of A Black P...|Public Enemy|     Fight The Power|       4.7|   trackdone|2017-01-28 12:54:35|\n",
      "|         He Got Game|Public Enemy|         He Got Game|       4.8|   trackdone|2017-01-28 12:59:36|\n",
      "|Apocalypse 91… Th...|Public Enemy|      Can't Truss It|       5.4|   trackdone|2017-01-28 13:08:11|\n",
      "|     Made In Chicago|Public Enemy|     Bring the Noise|       1.6|   trackdone|2017-01-28 13:09:50|\n",
      "|The Day Is My Ene...| The Prodigy|         Shut 'Em Up|       4.3|      fwdbtn|2017-01-28 13:14:09|\n",
      "|It Takes A Nation...|Public Enemy|     Bring The Noise|       3.8|   trackdone|2017-01-28 13:17:55|\n",
      "|It Takes A Nation...|Public Enemy|Don't Believe The...|       0.9|   trackdone|2017-01-28 15:28:21|\n",
      "|       Greatest Hits|      N.W.A.|Straight Outta Co...|       3.8|    clickrow|2017-01-28 15:32:12|\n",
      "|               Hello|       Adele|               Hello|       0.0|    clickrow|2017-01-28 15:32:15|\n",
      "|             La Bala|  Ana Tijoux|        Sacar la Voz|       0.0|      fwdbtn|2017-01-28 15:32:16|\n",
      "|                  18|        Moby|       In This World|       0.0|  trackerror|2017-01-28 15:32:17|\n",
      "+--------------------+------------+--------------------+----------+------------+-------------------+\n",
      "only showing top 20 rows\n",
      "\n"
     ]
    }
   ],
   "source": [
    "spark.sql(\"select * from tabla2\").show()"
   ]
  },
  {
   "cell_type": "markdown",
   "metadata": {},
   "source": [
    "### Output modes\n",
    "\n",
    "- **Complete mode**:\n",
    "    - Envía todo el resultado calculado al destino.\n",
    "    - Útil para datos de estado que cambian con el tiempo.\n",
    "    - Útil cuando el destino no admite actualizaciones a nivel de fila.\n",
    "- **Update mode**:\n",
    "    - Envía solo las filas que difieren de la última escritura al destino.\n",
    "    - Destino debe admitir actualizaciones a nivel de fila.\n",
    "    - Si la consulta no contiene agregaciones, es equivalente al modo de *append*\n",
    "- **Append mode**:\n",
    "    - Nuevas filas se envían al destino especificado\n",
    "    - Garantiza que cada fila se envíe una vez y solo una vez\n",
    "    - Destino debe ser tolerante a fallos"
   ]
  },
  {
   "cell_type": "code",
   "execution_count": 15,
   "metadata": {},
   "outputs": [
    {
     "name": "stderr",
     "output_type": "stream",
     "text": [
      "24/10/16 21:02:18 WARN ResolveWriteToStream: Temporary checkpoint location created which is deleted normally when the query didn't fail: /private/var/folders/yc/93pqpkn533n6nlff1n38pb2c0000gn/T/temporary-0b2cddd7-c080-48eb-a8a4-7b47a1ee5c78. If it's required to delete it under any circumstances, please set spark.sql.streaming.forceDeleteTempCheckpointLocation to true. Important to know deleting temp checkpoint folder is best effort.\n",
      "24/10/16 21:02:18 WARN ResolveWriteToStream: spark.sql.adaptive.enabled is not supported in streaming DataFrames/Datasets and will be disabled.\n"
     ]
    },
    {
     "data": {
      "text/plain": [
       "<pyspark.sql.streaming.query.StreamingQuery at 0x11480e290>"
      ]
     },
     "execution_count": 15,
     "metadata": {},
     "output_type": "execute_result"
    },
    {
     "name": "stderr",
     "output_type": "stream",
     "text": [
      "Java HotSpot(TM) 64-Bit Server VM warning: CodeCache is full. Compiler has been disabled.\n",
      "Java HotSpot(TM) 64-Bit Server VM warning: Try increasing the code cache size using -XX:ReservedCodeCacheSize=\n"
     ]
    },
    {
     "name": "stdout",
     "output_type": "stream",
     "text": [
      "CodeCache: size=131072Kb used=37907Kb max_used=37908Kb free=93164Kb\n",
      " bounds [0x00000001069e8000, 0x0000000108f28000, 0x000000010e9e8000]\n",
      " total_blobs=13920 nmethods=12912 adapters=919\n",
      " compilation: disabled (not enough contiguous free space left)\n"
     ]
    },
    {
     "name": "stderr",
     "output_type": "stream",
     "text": [
      "                                                                                \r"
     ]
    },
    {
     "name": "stdout",
     "output_type": "stream",
     "text": [
      "-------------------------------------------\n",
      "Batch: 0\n",
      "-------------------------------------------\n",
      "+------------+-----+\n",
      "|reason_start|count|\n",
      "+------------+-----+\n",
      "|     appload|  137|\n",
      "|     backbtn|   78|\n",
      "|   trackdone|10540|\n",
      "|     playbtn|    2|\n",
      "|      fwdbtn| 1940|\n",
      "|  trackerror|   71|\n",
      "|    clickrow| 3359|\n",
      "|      remote|   34|\n",
      "+------------+-----+\n",
      "\n"
     ]
    }
   ],
   "source": [
    "data_stream_zip.groupBy(\"reason_start\").count().writeStream.format(\"console\").outputMode(\"complete\").start()"
   ]
  },
  {
   "cell_type": "code",
   "execution_count": 26,
   "metadata": {},
   "outputs": [
    {
     "name": "stderr",
     "output_type": "stream",
     "text": [
      "24/10/16 21:14:30 WARN ResolveWriteToStream: Temporary checkpoint location created which is deleted normally when the query didn't fail: /private/var/folders/yc/93pqpkn533n6nlff1n38pb2c0000gn/T/temporary-65ada7ee-6831-433f-a2a4-9e242a97875b. If it's required to delete it under any circumstances, please set spark.sql.streaming.forceDeleteTempCheckpointLocation to true. Important to know deleting temp checkpoint folder is best effort.\n",
      "24/10/16 21:14:30 WARN ResolveWriteToStream: spark.sql.adaptive.enabled is not supported in streaming DataFrames/Datasets and will be disabled.\n"
     ]
    },
    {
     "data": {
      "text/plain": [
       "<pyspark.sql.streaming.query.StreamingQuery at 0x114639fc0>"
      ]
     },
     "execution_count": 26,
     "metadata": {},
     "output_type": "execute_result"
    },
    {
     "name": "stderr",
     "output_type": "stream",
     "text": [
      "                                                                                \r"
     ]
    },
    {
     "name": "stdout",
     "output_type": "stream",
     "text": [
      "-------------------------------------------\n",
      "Batch: 0\n",
      "-------------------------------------------\n",
      "+--------------------+-----+---------+------------------+-------------------+-------------------+\n",
      "|            platform|count|qd_tracks|        min_played|           first_ts|            last_ts|\n",
      "+--------------------+-----+---------+------------------+-------------------+-------------------+\n",
      "|iOS 11.1.1 (iPhon...|  288|      259| 1170.499999999999|2017-11-13 19:00:18|2017-11-20 22:24:01|\n",
      "|iOS 10.1.1 (iPad4,1)|   12|       11|              18.0|2017-02-12 13:13:33|2017-02-12 13:25:44|\n",
      "|iOS 10.3.1 (iPhon...| 1025|      852|3225.1999999999903|2017-04-20 08:25:15|2017-05-28 15:42:29|\n",
      "|iOS 11.2.1 (iPhon...|  190|      178| 833.0000000000002|2017-12-20 09:08:39|2017-12-25 15:05:50|\n",
      "|OS X 10.12.6 [x86 8]|    9|        8|              42.1|2017-09-05 22:48:11|2017-10-23 11:39:19|\n",
      "|iOS 11.1.2 (iPhon...| 1186|      932|3802.2999999999925|2017-11-21 08:58:48|2017-12-20 02:26:33|\n",
      "|OS X 10.12.5 [x86 8]|    1|        1|               0.2|2017-08-11 21:54:47|2017-08-11 21:54:47|\n",
      "|Windows 10 (10.0....| 5685|     3830|21268.000000000025|2017-01-30 09:47:54|2017-12-21 09:57:16|\n",
      "|iOS 10.3.2 (iPhon...| 1992|     1492| 6533.699999999991|2017-05-29 08:09:16|2017-08-07 20:39:59|\n",
      "|iOS 11.0 (iPhone8,1)|   56|       50|195.70000000000007|2017-09-24 11:23:24|2017-09-26 22:59:16|\n",
      "|iOS 11.0.1 (iPhon...|  151|      146| 492.0000000000002|2017-09-27 08:56:54|2017-10-05 23:24:39|\n",
      "|iOS 10.3.3 (iPhon...| 1544|      811|5561.6000000000095|2017-08-08 08:59:35|2017-09-23 18:56:23|\n",
      "|iOS 11.0.3 (iPhon...| 1076|      852| 4392.500000000002|2017-10-16 14:17:02|2017-11-12 20:47:57|\n",
      "|OS X 10.13.1 [x86 8]|    6|        5|17.200000000000003|2017-12-02 17:15:20|2017-12-04 19:07:56|\n",
      "|iOS 10.3.2 (iPad4,1)|  177|      168| 618.3000000000002|2017-08-01 20:14:03|2017-09-03 08:41:59|\n",
      "|iOS 11.0.2 (iPhon...|  320|      282|             923.3|2017-10-06 08:31:20|2017-10-16 13:23:13|\n",
      "|iOS 10.2.1 (iPhon...| 1911|     1333| 5799.999999999986|2017-02-10 08:13:49|2017-04-19 20:08:31|\n",
      "|iOS 10.2 (iPhone8,1)|  384|      270| 1037.100000000001|2017-01-28 11:35:07|2017-02-09 08:56:39|\n",
      "|OS X 10.12.1 [x86 8]|   51|       47|             108.6|2017-02-18 11:00:33|2017-03-06 09:42:18|\n",
      "|OS X 10.12.3 [x86 8]|   97|       91|232.50000000000006|2017-03-19 23:41:44|2017-07-15 09:29:20|\n",
      "+--------------------+-----+---------+------------------+-------------------+-------------------+\n",
      "\n"
     ]
    }
   ],
   "source": [
    "from pyspark.sql.functions import count, approx_count_distinct, expr, sum, first, last #, count_distinct\n",
    "\n",
    "data_stream.groupBy(\"platform\").agg(\n",
    "    count(\"*\").alias(\"count\"),\n",
    "    approx_count_distinct(\"master_metadata_track_name\").alias(\"qd_tracks\"),\n",
    "    #count_distinct(\"master_metadata_track_name\").alias(\"qd_tracks2\"),\n",
    "    sum(round(expr(\"ms_played/1000/60\"),1)).alias(\"min_played\"),\n",
    "    first(\"ts\").alias(\"first_ts\"),\n",
    "    last(\"ts\").alias(\"last_ts\")\n",
    "#).writeStream.format(\"memory\").outputMode(\"complete\").queryName(\"tabla3\").start()\n",
    ").writeStream.format(\"console\").outputMode(\"complete\").start()"
   ]
  },
  {
   "cell_type": "code",
   "execution_count": 23,
   "metadata": {},
   "outputs": [
    {
     "data": {
      "text/plain": [
       "True"
      ]
     },
     "execution_count": 23,
     "metadata": {},
     "output_type": "execute_result"
    }
   ],
   "source": [
    "data_stream.isStreaming"
   ]
  },
  {
   "cell_type": "code",
   "execution_count": 21,
   "metadata": {},
   "outputs": [
    {
     "name": "stdout",
     "output_type": "stream",
     "text": [
      "+--------------------+-----+---------+------------------+-------------------+-------------------+\n",
      "|            platform|count|qd_tracks|        min_played|           first_ts|            last_ts|\n",
      "+--------------------+-----+---------+------------------+-------------------+-------------------+\n",
      "|iOS 11.1.1 (iPhon...|  288|      259| 1170.499999999999|2017-11-13 19:00:18|2017-11-20 22:24:01|\n",
      "|iOS 10.1.1 (iPad4,1)|   12|       11|              18.0|2017-02-12 13:13:33|2017-02-12 13:25:44|\n",
      "|iOS 10.3.1 (iPhon...| 1025|      852|3225.1999999999903|2017-04-20 08:25:15|2017-05-28 15:42:29|\n",
      "|iOS 11.2.1 (iPhon...|  190|      178| 833.0000000000002|2017-12-20 09:08:39|2017-12-25 15:05:50|\n",
      "|OS X 10.12.6 [x86 8]|    9|        8|              42.1|2017-09-05 22:48:11|2017-10-23 11:39:19|\n",
      "|iOS 11.1.2 (iPhon...| 1186|      932|3802.2999999999925|2017-11-21 08:58:48|2017-12-20 02:26:33|\n",
      "|OS X 10.12.5 [x86 8]|    1|        1|               0.2|2017-08-11 21:54:47|2017-08-11 21:54:47|\n",
      "|Windows 10 (10.0....| 5685|     3830|21268.000000000025|2017-01-30 09:47:54|2017-12-21 09:57:16|\n",
      "|iOS 10.3.2 (iPhon...| 1992|     1492| 6533.699999999991|2017-05-29 08:09:16|2017-08-07 20:39:59|\n",
      "|iOS 11.0 (iPhone8,1)|   56|       50|195.70000000000007|2017-09-24 11:23:24|2017-09-26 22:59:16|\n",
      "|iOS 11.0.1 (iPhon...|  151|      146| 492.0000000000002|2017-09-27 08:56:54|2017-10-05 23:24:39|\n",
      "|iOS 10.3.3 (iPhon...| 1544|      811|5561.6000000000095|2017-08-08 08:59:35|2017-09-23 18:56:23|\n",
      "|iOS 11.0.3 (iPhon...| 1076|      852| 4392.500000000002|2017-10-16 14:17:02|2017-11-12 20:47:57|\n",
      "|OS X 10.13.1 [x86 8]|    6|        5|17.200000000000003|2017-12-02 17:15:20|2017-12-04 19:07:56|\n",
      "|iOS 10.3.2 (iPad4,1)|  177|      168| 618.3000000000002|2017-08-01 20:14:03|2017-09-03 08:41:59|\n",
      "|iOS 11.0.2 (iPhon...|  320|      282|             923.3|2017-10-06 08:31:20|2017-10-16 13:23:13|\n",
      "|iOS 10.2.1 (iPhon...| 1911|     1333| 5799.999999999986|2017-02-10 08:13:49|2017-04-19 20:08:31|\n",
      "|iOS 10.2 (iPhone8,1)|  384|      270| 1037.100000000001|2017-01-28 11:35:07|2017-02-09 08:56:39|\n",
      "|OS X 10.12.1 [x86 8]|   51|       47|             108.6|2017-02-18 11:00:33|2017-03-06 09:42:18|\n",
      "|OS X 10.12.3 [x86 8]|   97|       91|232.50000000000006|2017-03-19 23:41:44|2017-07-15 09:29:20|\n",
      "+--------------------+-----+---------+------------------+-------------------+-------------------+\n",
      "\n"
     ]
    }
   ],
   "source": [
    "spark.sql(\"select * from tabla3\").show()"
   ]
  },
  {
   "cell_type": "markdown",
   "metadata": {},
   "source": [
    "### Triggers\n",
    "\n",
    "Los triggers en Spark Structured Streaming controlan cuándo se envía la data al destino. Por defecto, el streaming comienza a procesar datos tan pronto como el trigger anterior termina. Los triggers son útiles para evitar sobrecargar el destino con demasiadas actualizaciones o para controlar el tamaño de los archivos de salida. Existen dos tipos de triggers:\n",
    "\n",
    "- **Processing Time Trigger**: Se especifica una duración (ej: “10 segundos”) y Spark esperará múltiplos de esa duración para enviar los datos. Si el procesamiento no termina antes del siguiente *trigger*, Spark esperará al siguiente punto en lugar de disparar inmediatamente.\n",
    "- **Once Trigger**: Permite ejecutar un trabajo de streaming solo una vez. Es útil tanto en desarrollo (para probar aplicaciones con un solo conjunto de datos) como en producción (para ejecutar trabajos manualmente a una baja frecuencia, ahorrando recursos).\n"
   ]
  },
  {
   "cell_type": "code",
   "execution_count": 31,
   "metadata": {},
   "outputs": [
    {
     "name": "stderr",
     "output_type": "stream",
     "text": [
      "24/10/16 21:27:55 WARN ResolveWriteToStream: Temporary checkpoint location created which is deleted normally when the query didn't fail: /private/var/folders/yc/93pqpkn533n6nlff1n38pb2c0000gn/T/temporary-f860cc71-2baa-4f77-b105-e8bcd96ee6ec. If it's required to delete it under any circumstances, please set spark.sql.streaming.forceDeleteTempCheckpointLocation to true. Important to know deleting temp checkpoint folder is best effort.\n",
      "24/10/16 21:27:55 WARN ResolveWriteToStream: spark.sql.adaptive.enabled is not supported in streaming DataFrames/Datasets and will be disabled.\n"
     ]
    },
    {
     "data": {
      "text/plain": [
       "<pyspark.sql.streaming.query.StreamingQuery at 0x1149c6d40>"
      ]
     },
     "execution_count": 31,
     "metadata": {},
     "output_type": "execute_result"
    },
    {
     "name": "stderr",
     "output_type": "stream",
     "text": [
      "                                                                                \r"
     ]
    },
    {
     "name": "stdout",
     "output_type": "stream",
     "text": [
      "-------------------------------------------\n",
      "Batch: 0\n",
      "-------------------------------------------\n",
      "+-------------------+-----+---------+------------------+-------------------+-------------------+\n",
      "|                day|count|qd_tracks|    sum_min_played|           first_ts|            last_ts|\n",
      "+-------------------+-----+---------+------------------+-------------------+-------------------+\n",
      "|2017-01-28 00:00:00|   82|       76| 290.1960166666667|2017-01-28 11:35:07|2017-01-28 22:38:53|\n",
      "|2017-01-29 00:00:00|   50|       38| 123.4223833333333|2017-01-29 04:28:12|2017-01-29 17:14:49|\n",
      "|2017-01-30 00:00:00|   33|       32|108.40068333333333|2017-01-30 08:44:16|2017-01-30 16:07:14|\n",
      "|2017-01-31 00:00:00|   57|       35|208.20551666666663|2017-01-31 08:39:29|2017-01-31 18:26:37|\n",
      "|2017-02-01 00:00:00|   80|       70|260.59501666666665|2017-02-01 00:58:17|2017-02-01 23:06:27|\n",
      "|2017-02-02 00:00:00|  116|       98|321.07038333333327|2017-02-02 09:05:14|2017-02-02 22:49:46|\n",
      "|2017-02-03 00:00:00|   30|       22| 91.02788333333334|2017-02-03 00:26:51|2017-02-03 18:54:00|\n",
      "|2017-02-04 00:00:00|   33|       30| 75.84011666666667|2017-02-04 12:03:58|2017-02-04 21:33:32|\n",
      "|2017-02-05 00:00:00|   15|       13| 44.62991666666666|2017-02-05 18:49:21|2017-02-05 22:56:17|\n",
      "|2017-02-06 00:00:00|   72|       66| 262.4668166666667|2017-02-06 09:15:16|2017-02-06 20:41:04|\n",
      "|2017-02-07 00:00:00|   99|       79| 265.6892333333333|2017-02-07 08:40:46|2017-02-07 21:18:51|\n",
      "|2017-02-08 00:00:00|   29|       27|           64.2023|2017-02-08 08:21:21|2017-02-08 19:06:12|\n",
      "|2017-02-09 00:00:00|   53|       47|211.05804999999998|2017-02-09 08:33:23|2017-02-09 18:06:48|\n",
      "|2017-02-10 00:00:00|   30|       30|107.32386666666667|2017-02-10 08:13:49|2017-02-10 13:13:15|\n",
      "|2017-02-11 00:00:00|   48|       48|128.90763333333337|2017-02-11 06:21:38|2017-02-11 23:56:47|\n",
      "|2017-02-12 00:00:00|   77|       66|194.01624999999999|2017-02-12 00:01:05|2017-02-12 19:44:28|\n",
      "|2017-02-13 00:00:00|   32|       31|108.12428333333331|2017-02-13 09:00:45|2017-02-13 21:54:58|\n",
      "|2017-02-14 00:00:00|  126|       88|463.88508333333317|2017-02-14 08:09:02|2017-02-14 17:48:23|\n",
      "|2017-02-15 00:00:00|   32|       29|123.47571666666666|2017-02-15 00:12:10|2017-02-15 20:50:49|\n",
      "|2017-02-16 00:00:00|   47|       47|154.67028333333334|2017-02-16 08:00:13|2017-02-16 18:52:45|\n",
      "+-------------------+-----+---------+------------------+-------------------+-------------------+\n",
      "only showing top 20 rows\n",
      "\n"
     ]
    },
    {
     "name": "stderr",
     "output_type": "stream",
     "text": [
      "24/10/16 21:28:05 WARN ProcessingTimeExecutor: Current batch is falling behind. The trigger interval is 5000 milliseconds, but spent 9370 milliseconds\n"
     ]
    }
   ],
   "source": [
    "from pyspark.sql.functions import date_trunc\n",
    "(\n",
    "    data_stream.groupBy(date_trunc(\"day\",\"ts\").alias(\"day\")).agg(\n",
    "    count(\"*\").alias(\"count\"),\n",
    "    approx_count_distinct(\"master_metadata_track_name\").alias(\"qd_tracks\"),\n",
    "    sum(expr(\"ms_played/1000/60\")).alias(\"sum_min_played\"),\n",
    "    first(\"ts\").alias(\"first_ts\"),\n",
    "    last(\"ts\").alias(\"last_ts\")\n",
    ")\n",
    ".sort(\"day\")\n",
    ".writeStream.trigger(processingTime='5 seconds') \n",
    "    .format(\"console\").outputMode(\"complete\")\n",
    "        .start()\n",
    ")"
   ]
  },
  {
   "cell_type": "markdown",
   "metadata": {},
   "source": [
    "## Streaming from socket\n",
    "\n",
    "Usar este código para simular envío de mensajes a través de un socket --> \n"
   ]
  },
  {
   "cell_type": "code",
   "execution_count": 32,
   "metadata": {},
   "outputs": [
    {
     "name": "stderr",
     "output_type": "stream",
     "text": [
      "24/10/16 21:34:39 WARN SparkSession: Using an existing Spark session; only runtime SQL configurations will take effect.\n"
     ]
    },
    {
     "data": {
      "text/html": [
       "\n",
       "            <div>\n",
       "                <p><b>SparkSession - in-memory</b></p>\n",
       "                \n",
       "        <div>\n",
       "            <p><b>SparkContext</b></p>\n",
       "\n",
       "            <p><a href=\"http://192.168.100.26:4040\">Spark UI</a></p>\n",
       "\n",
       "            <dl>\n",
       "              <dt>Version</dt>\n",
       "                <dd><code>v3.5.1</code></dd>\n",
       "              <dt>Master</dt>\n",
       "                <dd><code>local[*]</code></dd>\n",
       "              <dt>AppName</dt>\n",
       "                <dd><code>streaming</code></dd>\n",
       "            </dl>\n",
       "        </div>\n",
       "        \n",
       "            </div>\n",
       "        "
      ],
      "text/plain": [
       "<pyspark.sql.session.SparkSession at 0x112cb6a10>"
      ]
     },
     "execution_count": 32,
     "metadata": {},
     "output_type": "execute_result"
    }
   ],
   "source": [
    "import findspark\n",
    "findspark.find()\n",
    "\n",
    "from pyspark.sql import SparkSession\n",
    "\n",
    "spark = SparkSession.builder.appName(\"streaming-socket\").getOrCreate()\n",
    "\n",
    "spark.active()"
   ]
  },
  {
   "cell_type": "code",
   "execution_count": 33,
   "metadata": {},
   "outputs": [
    {
     "name": "stderr",
     "output_type": "stream",
     "text": [
      "24/10/16 21:35:13 WARN TextSocketSourceProvider: The socket source should not be used for production applications! It does not support recovery.\n"
     ]
    }
   ],
   "source": [
    "from pyspark.sql.types import StructType, StructField, StringType, LongType, BooleanType, TimestampType\n",
    "\n",
    "schema = StructType([\n",
    "    StructField(\"conn_country\", StringType(), True),\n",
    "    StructField(\"episode_name\", StringType(), True),\n",
    "    StructField(\"episode_show_name\", StringType(), True),\n",
    "    StructField(\"incognito_mode\", BooleanType(), True),\n",
    "    StructField(\"ip_addr_decrypted\", StringType(), True),\n",
    "    StructField(\"master_metadata_album_album_name\", StringType(), True),\n",
    "    StructField(\"master_metadata_album_artist_name\", StringType(), True),\n",
    "    StructField(\"master_metadata_track_name\", StringType(), True),\n",
    "    StructField(\"ms_played\", LongType(), True),\n",
    "    StructField(\"offline\", BooleanType(), True),\n",
    "    StructField(\"offline_timestamp\", LongType(), True),\n",
    "    StructField(\"platform\", StringType(), True),\n",
    "    StructField(\"reason_end\", StringType(), True),\n",
    "    StructField(\"reason_start\", StringType(), True),\n",
    "    StructField(\"shuffle\", BooleanType(), True),\n",
    "    StructField(\"skipped\", BooleanType(), True),\n",
    "    StructField(\"spotify_episode_uri\", StringType(), True),\n",
    "    StructField(\"spotify_track_uri\", StringType(), True),\n",
    "    StructField(\"ts\", TimestampType(), True),\n",
    "    StructField(\"user_agent_decrypted\", StringType(), True),\n",
    "    StructField(\"username\", StringType(), True)\n",
    "])\n",
    "\n",
    "raw_stream = spark.readStream\\\n",
    "    .format(\"socket\")\\\n",
    "        .option(\"host\",\"localhost\") \\\n",
    "        .option(\"port\",9999) \\\n",
    "        .load()\n",
    "        "
   ]
  },
  {
   "cell_type": "code",
   "execution_count": 34,
   "metadata": {},
   "outputs": [
    {
     "name": "stdout",
     "output_type": "stream",
     "text": [
      "root\n",
      " |-- value: string (nullable = true)\n",
      "\n"
     ]
    }
   ],
   "source": [
    "raw_stream.printSchema()"
   ]
  },
  {
   "cell_type": "code",
   "execution_count": 36,
   "metadata": {},
   "outputs": [],
   "source": [
    "from pyspark.sql.functions import from_json, col\n",
    "\n",
    "parsed_stream = raw_stream.select(from_json(col(\"value\"), schema).alias(\"data\")).select(\"data.*\")"
   ]
  },
  {
   "cell_type": "code",
   "execution_count": 45,
   "metadata": {},
   "outputs": [
    {
     "name": "stderr",
     "output_type": "stream",
     "text": [
      "24/10/16 21:50:57 WARN ResolveWriteToStream: Temporary checkpoint location created which is deleted normally when the query didn't fail: /private/var/folders/yc/93pqpkn533n6nlff1n38pb2c0000gn/T/temporary-b5736bbc-f274-4d14-a1d3-4ff2bbe253f4. If it's required to delete it under any circumstances, please set spark.sql.streaming.forceDeleteTempCheckpointLocation to true. Important to know deleting temp checkpoint folder is best effort.\n",
      "24/10/16 21:50:57 WARN ResolveWriteToStream: spark.sql.adaptive.enabled is not supported in streaming DataFrames/Datasets and will be disabled.\n"
     ]
    },
    {
     "name": "stderr",
     "output_type": "stream",
     "text": [
      "                                                                                \r"
     ]
    },
    {
     "name": "stdout",
     "output_type": "stream",
     "text": [
      "-------------------------------------------\n",
      "Batch: 0\n",
      "-------------------------------------------\n",
      "+---+---------------------------------+--------+---------+--------------+--------------+\n",
      "|day|master_metadata_album_artist_name|q_tracks|qd_tracks|sum_min_played|avg_min_played|\n",
      "+---+---------------------------------+--------+---------+--------------+--------------+\n",
      "+---+---------------------------------+--------+---------+--------------+--------------+\n",
      "\n"
     ]
    },
    {
     "name": "stderr",
     "output_type": "stream",
     "text": [
      "                                                                                \r"
     ]
    },
    {
     "name": "stdout",
     "output_type": "stream",
     "text": [
      "-------------------------------------------\n",
      "Batch: 1\n",
      "-------------------------------------------\n",
      "+-------------------+---------------------------------+--------+---------+------------------+-----------------+\n",
      "|                day|master_metadata_album_artist_name|q_tracks|qd_tracks|    sum_min_played|   avg_min_played|\n",
      "+-------------------+---------------------------------+--------+---------+------------------+-----------------+\n",
      "|2017-01-28 00:00:00|                       Audioslave|       4|        4|18.342216666666666|4.585554166666666|\n",
      "+-------------------+---------------------------------+--------+---------+------------------+-----------------+\n",
      "\n"
     ]
    },
    {
     "name": "stderr",
     "output_type": "stream",
     "text": [
      "                                                                                \r"
     ]
    },
    {
     "name": "stdout",
     "output_type": "stream",
     "text": [
      "-------------------------------------------\n",
      "Batch: 2\n",
      "-------------------------------------------\n",
      "+-------------------+---------------------------------+--------+---------+-----------------+-----------------+\n",
      "|                day|master_metadata_album_artist_name|q_tracks|qd_tracks|   sum_min_played|   avg_min_played|\n",
      "+-------------------+---------------------------------+--------+---------+-----------------+-----------------+\n",
      "|2017-01-28 00:00:00|                       Audioslave|       7|        7|34.03398333333333|4.861997619047619|\n",
      "+-------------------+---------------------------------+--------+---------+-----------------+-----------------+\n",
      "\n"
     ]
    },
    {
     "name": "stderr",
     "output_type": "stream",
     "text": [
      "                                                                                \r"
     ]
    },
    {
     "name": "stdout",
     "output_type": "stream",
     "text": [
      "-------------------------------------------\n",
      "Batch: 3\n",
      "-------------------------------------------\n",
      "+-------------------+---------------------------------+--------+---------+------------------+-----------------+\n",
      "|                day|master_metadata_album_artist_name|q_tracks|qd_tracks|    sum_min_played|   avg_min_played|\n",
      "+-------------------+---------------------------------+--------+---------+------------------+-----------------+\n",
      "|2017-01-28 00:00:00|                     Public Enemy|       1|        1| 4.158683333333333|4.158683333333333|\n",
      "|2017-01-28 00:00:00|                       Audioslave|       8|        8|35.007466666666666|4.375933333333333|\n",
      "+-------------------+---------------------------------+--------+---------+------------------+-----------------+\n",
      "\n"
     ]
    },
    {
     "name": "stderr",
     "output_type": "stream",
     "text": [
      "                                                                                \r"
     ]
    },
    {
     "name": "stdout",
     "output_type": "stream",
     "text": [
      "-------------------------------------------\n",
      "Batch: 4\n",
      "-------------------------------------------\n",
      "+-------------------+---------------------------------+--------+---------+------------------+-----------------+\n",
      "|                day|master_metadata_album_artist_name|q_tracks|qd_tracks|    sum_min_played|   avg_min_played|\n",
      "+-------------------+---------------------------------+--------+---------+------------------+-----------------+\n",
      "|2017-01-28 00:00:00|                     Public Enemy|       4|        4|18.998683333333332|4.749670833333333|\n",
      "|2017-01-28 00:00:00|                       Audioslave|       8|        8|35.007466666666666|4.375933333333333|\n",
      "+-------------------+---------------------------------+--------+---------+------------------+-----------------+\n",
      "\n"
     ]
    },
    {
     "name": "stderr",
     "output_type": "stream",
     "text": [
      "                                                                                \r"
     ]
    },
    {
     "name": "stdout",
     "output_type": "stream",
     "text": [
      "-------------------------------------------\n",
      "Batch: 5\n",
      "-------------------------------------------\n",
      "+-------------------+---------------------------------+--------+---------+------------------+------------------+\n",
      "|                day|master_metadata_album_artist_name|q_tracks|qd_tracks|    sum_min_played|    avg_min_played|\n",
      "+-------------------+---------------------------------+--------+---------+------------------+------------------+\n",
      "|2017-01-28 00:00:00|                     Public Enemy|       7|        7|25.276733333333333|3.6109619047619046|\n",
      "|2017-01-28 00:00:00|                      The Prodigy|       1|        1| 4.333333333333333| 4.333333333333333|\n",
      "|2017-01-28 00:00:00|                       Audioslave|       8|        8|35.007466666666666| 4.375933333333333|\n",
      "+-------------------+---------------------------------+--------+---------+------------------+------------------+\n",
      "\n"
     ]
    },
    {
     "name": "stderr",
     "output_type": "stream",
     "text": [
      "                                                                                \r"
     ]
    },
    {
     "name": "stdout",
     "output_type": "stream",
     "text": [
      "-------------------------------------------\n",
      "Batch: 6\n",
      "-------------------------------------------\n",
      "+-------------------+---------------------------------+--------+---------+--------------------+--------------------+\n",
      "|                day|master_metadata_album_artist_name|q_tracks|qd_tracks|      sum_min_played|      avg_min_played|\n",
      "+-------------------+---------------------------------+--------+---------+--------------------+--------------------+\n",
      "|2017-01-28 00:00:00|                     Public Enemy|       7|        7|  25.276733333333333|  3.6109619047619046|\n",
      "|2017-01-28 00:00:00|                           N.W.A.|       1|        1|  3.8494666666666664|  3.8494666666666664|\n",
      "|2017-01-28 00:00:00|                            Adele|       1|        1|0.027466666666666664|0.027466666666666664|\n",
      "|2017-01-28 00:00:00|                      The Prodigy|       1|        1|   4.333333333333333|   4.333333333333333|\n",
      "|2017-01-28 00:00:00|                       Ana Tijoux|       1|        1|0.017016666666666666|0.017016666666666666|\n",
      "|2017-01-28 00:00:00|                       Audioslave|       8|        8|  35.007466666666666|   4.375933333333333|\n",
      "+-------------------+---------------------------------+--------+---------+--------------------+--------------------+\n",
      "\n"
     ]
    },
    {
     "name": "stderr",
     "output_type": "stream",
     "text": [
      "                                                                                \r"
     ]
    },
    {
     "name": "stdout",
     "output_type": "stream",
     "text": [
      "-------------------------------------------\n",
      "Batch: 7\n",
      "-------------------------------------------\n",
      "+-------------------+---------------------------------+--------+---------+--------------------+--------------------+\n",
      "|                day|master_metadata_album_artist_name|q_tracks|qd_tracks|      sum_min_played|      avg_min_played|\n",
      "+-------------------+---------------------------------+--------+---------+--------------------+--------------------+\n",
      "|2017-01-28 00:00:00|                     Public Enemy|       7|        7|  25.276733333333333|  3.6109619047619046|\n",
      "|2017-01-28 00:00:00|                             Moby|       1|        1|0.012766666666666667|0.012766666666666667|\n",
      "|2017-01-28 00:00:00|                           N.W.A.|       1|        1|  3.8494666666666664|  3.8494666666666664|\n",
      "|2017-01-28 00:00:00|                            Adele|       1|        1|0.027466666666666664|0.027466666666666664|\n",
      "|2017-01-28 00:00:00|                   Massive Attack|       1|        1|                 0.0|                 0.0|\n",
      "|2017-01-28 00:00:00|                     Depeche Mode|       1|        1|0.014316666666666667|0.014316666666666667|\n",
      "|2017-01-28 00:00:00|                      The Prodigy|       1|        1|   4.333333333333333|   4.333333333333333|\n",
      "|2017-01-28 00:00:00|                       Ana Tijoux|       1|        1|0.017016666666666666|0.017016666666666666|\n",
      "|2017-01-28 00:00:00|                       Audioslave|       8|        8|  35.007466666666666|   4.375933333333333|\n",
      "+-------------------+---------------------------------+--------+---------+--------------------+--------------------+\n",
      "\n"
     ]
    },
    {
     "name": "stderr",
     "output_type": "stream",
     "text": [
      "                                                                                \r"
     ]
    },
    {
     "name": "stdout",
     "output_type": "stream",
     "text": [
      "-------------------------------------------\n",
      "Batch: 8\n",
      "-------------------------------------------\n",
      "+-------------------+---------------------------------+--------+---------+--------------------+--------------------+\n",
      "|                day|master_metadata_album_artist_name|q_tracks|qd_tracks|      sum_min_played|      avg_min_played|\n",
      "+-------------------+---------------------------------+--------+---------+--------------------+--------------------+\n",
      "|2017-01-28 00:00:00|                     Public Enemy|       7|        7|  25.276733333333333|  3.6109619047619046|\n",
      "|2017-01-28 00:00:00|                             Moby|       1|        1|0.012766666666666667|0.012766666666666667|\n",
      "|2017-01-28 00:00:00|                           N.W.A.|       1|        1|  3.8494666666666664|  3.8494666666666664|\n",
      "|2017-01-28 00:00:00|                            Adele|       1|        1|0.027466666666666664|0.027466666666666664|\n",
      "|2017-01-28 00:00:00|                   Massive Attack|       2|        1|                 0.0|                 0.0|\n",
      "|2017-01-28 00:00:00|                     Depeche Mode|       2|        1|0.014316666666666667|0.007158333333333333|\n",
      "|2017-01-28 00:00:00|                      The Prodigy|       1|        1|   4.333333333333333|   4.333333333333333|\n",
      "|2017-01-28 00:00:00|                       Ana Tijoux|       1|        1|0.017016666666666666|0.017016666666666666|\n",
      "|2017-01-28 00:00:00|                       The Police|       1|        1|                 0.0|                 0.0|\n",
      "|2017-01-28 00:00:00|                       Audioslave|       8|        8|  35.007466666666666|   4.375933333333333|\n",
      "+-------------------+---------------------------------+--------+---------+--------------------+--------------------+\n",
      "\n"
     ]
    },
    {
     "name": "stderr",
     "output_type": "stream",
     "text": [
      "                                                                                \r"
     ]
    },
    {
     "name": "stdout",
     "output_type": "stream",
     "text": [
      "-------------------------------------------\n",
      "Batch: 9\n",
      "-------------------------------------------\n",
      "+-------------------+---------------------------------+--------+---------+--------------------+--------------------+\n",
      "|                day|master_metadata_album_artist_name|q_tracks|qd_tracks|      sum_min_played|      avg_min_played|\n",
      "+-------------------+---------------------------------+--------+---------+--------------------+--------------------+\n",
      "|2017-01-28 00:00:00|                          Placebo|       1|        1|                 0.0|                 0.0|\n",
      "|2017-01-28 00:00:00|                     Public Enemy|       7|        7|  25.276733333333333|  3.6109619047619046|\n",
      "|2017-01-28 00:00:00|                             Moby|       1|        1|0.012766666666666667|0.012766666666666667|\n",
      "|2017-01-28 00:00:00|                           N.W.A.|       1|        1|  3.8494666666666664|  3.8494666666666664|\n",
      "|2017-01-28 00:00:00|                   Gustavo Cerati|       1|        1|              0.0503|              0.0503|\n",
      "|2017-01-28 00:00:00|                            Adele|       1|        1|0.027466666666666664|0.027466666666666664|\n",
      "|2017-01-28 00:00:00|                   Massive Attack|       2|        1|                 0.0|                 0.0|\n",
      "|2017-01-28 00:00:00|                     Depeche Mode|       2|        1|0.014316666666666667|0.007158333333333333|\n",
      "|2017-01-28 00:00:00|                      The Prodigy|       1|        1|   4.333333333333333|   4.333333333333333|\n",
      "|2017-01-28 00:00:00|                               U2|       1|        1|0.005416666666666667|0.005416666666666667|\n",
      "|2017-01-28 00:00:00|                       Ana Tijoux|       1|        1|0.017016666666666666|0.017016666666666666|\n",
      "|2017-01-28 00:00:00|                       The Police|       1|        1|                 0.0|                 0.0|\n",
      "|2017-01-28 00:00:00|                       Audioslave|       8|        8|  35.007466666666666|   4.375933333333333|\n",
      "+-------------------+---------------------------------+--------+---------+--------------------+--------------------+\n",
      "\n"
     ]
    },
    {
     "name": "stderr",
     "output_type": "stream",
     "text": [
      "                                                                                \r"
     ]
    },
    {
     "name": "stdout",
     "output_type": "stream",
     "text": [
      "-------------------------------------------\n",
      "Batch: 10\n",
      "-------------------------------------------\n",
      "+-------------------+---------------------------------+--------+---------+--------------------+--------------------+\n",
      "|                day|master_metadata_album_artist_name|q_tracks|qd_tracks|      sum_min_played|      avg_min_played|\n",
      "+-------------------+---------------------------------+--------+---------+--------------------+--------------------+\n",
      "|2017-01-28 00:00:00|                          Placebo|       1|        1|                 0.0|                 0.0|\n",
      "|2017-01-28 00:00:00|                        Morrissey|       1|        1|  3.5877666666666665|  3.5877666666666665|\n",
      "|2017-01-28 00:00:00|                     Public Enemy|       7|        7|  25.276733333333333|  3.6109619047619046|\n",
      "|2017-01-28 00:00:00|                    Amy Winehouse|       1|        1|  4.2824333333333335|  4.2824333333333335|\n",
      "|2017-01-28 00:00:00|                             Moby|       1|        1|0.012766666666666667|0.012766666666666667|\n",
      "|2017-01-28 00:00:00|                           N.W.A.|       1|        1|  3.8494666666666664|  3.8494666666666664|\n",
      "|2017-01-28 00:00:00|                   Gustavo Cerati|       1|        1|              0.0503|              0.0503|\n",
      "|2017-01-28 00:00:00|                            Adele|       1|        1|0.027466666666666664|0.027466666666666664|\n",
      "|2017-01-28 00:00:00|                   Massive Attack|       2|        1|                 0.0|                 0.0|\n",
      "|2017-01-28 00:00:00|                     Depeche Mode|       2|        1|0.014316666666666667|0.007158333333333333|\n",
      "|2017-01-28 00:00:00|                      The Prodigy|       1|        1|   4.333333333333333|   4.333333333333333|\n",
      "|2017-01-28 00:00:00|                               U2|       1|        1|0.005416666666666667|0.005416666666666667|\n",
      "|2017-01-28 00:00:00|                       Ana Tijoux|       1|        1|0.017016666666666666|0.017016666666666666|\n",
      "|2017-01-28 00:00:00|                       The Police|       1|        1|                 0.0|                 0.0|\n",
      "|2017-01-28 00:00:00|                       Audioslave|       8|        8|  35.007466666666666|   4.375933333333333|\n",
      "|2017-01-28 00:00:00|                    Kings of Leon|       1|        1|  3.8459999999999996|  3.8459999999999996|\n",
      "+-------------------+---------------------------------+--------+---------+--------------------+--------------------+\n",
      "\n"
     ]
    },
    {
     "name": "stderr",
     "output_type": "stream",
     "text": [
      "                                                                                \r"
     ]
    },
    {
     "name": "stdout",
     "output_type": "stream",
     "text": [
      "-------------------------------------------\n",
      "Batch: 11\n",
      "-------------------------------------------\n",
      "+-------------------+---------------------------------+--------+---------+--------------------+--------------------+\n",
      "|                day|master_metadata_album_artist_name|q_tracks|qd_tracks|      sum_min_played|      avg_min_played|\n",
      "+-------------------+---------------------------------+--------+---------+--------------------+--------------------+\n",
      "|2017-01-28 00:00:00|                    The Gathering|       1|        1| 0.01933333333333333| 0.01933333333333333|\n",
      "|2017-01-28 00:00:00|                          Placebo|       1|        1|                 0.0|                 0.0|\n",
      "|2017-01-28 00:00:00|                        Morrissey|       2|        2|             3.60595|            1.802975|\n",
      "|2017-01-28 00:00:00|                     Public Enemy|       7|        7|  25.276733333333333|  3.6109619047619046|\n",
      "|2017-01-28 00:00:00|                    Amy Winehouse|       1|        1|  4.2824333333333335|  4.2824333333333335|\n",
      "|2017-01-28 00:00:00|                       Blackfield|       1|        1| 0.41828333333333334| 0.41828333333333334|\n",
      "|2017-01-28 00:00:00|                             Moby|       1|        1|0.012766666666666667|0.012766666666666667|\n",
      "|2017-01-28 00:00:00|                           N.W.A.|       1|        1|  3.8494666666666664|  3.8494666666666664|\n",
      "|2017-01-28 00:00:00|                   Gustavo Cerati|       1|        1|              0.0503|              0.0503|\n",
      "|2017-01-28 00:00:00|                            Adele|       1|        1|0.027466666666666664|0.027466666666666664|\n",
      "|2017-01-28 00:00:00|                   Massive Attack|       2|        1|                 0.0|                 0.0|\n",
      "|2017-01-28 00:00:00|                     Depeche Mode|       2|        1|0.014316666666666667|0.007158333333333333|\n",
      "|2017-01-28 00:00:00|                      The Prodigy|       1|        1|   4.333333333333333|   4.333333333333333|\n",
      "|2017-01-28 00:00:00|                               U2|       1|        1|0.005416666666666667|0.005416666666666667|\n",
      "|2017-01-28 00:00:00|                       Ana Tijoux|       1|        1|0.017016666666666666|0.017016666666666666|\n",
      "|2017-01-28 00:00:00|                       The Police|       1|        1|                 0.0|                 0.0|\n",
      "|2017-01-28 00:00:00|                       Audioslave|       8|        8|  35.007466666666666|   4.375933333333333|\n",
      "|2017-01-28 00:00:00|                    Kings of Leon|       1|        1|  3.8459999999999996|  3.8459999999999996|\n",
      "+-------------------+---------------------------------+--------+---------+--------------------+--------------------+\n",
      "\n"
     ]
    },
    {
     "name": "stderr",
     "output_type": "stream",
     "text": [
      "                                                                                \r"
     ]
    },
    {
     "name": "stdout",
     "output_type": "stream",
     "text": [
      "-------------------------------------------\n",
      "Batch: 12\n",
      "-------------------------------------------\n",
      "+-------------------+---------------------------------+--------+---------+--------------------+--------------------+\n",
      "|                day|master_metadata_album_artist_name|q_tracks|qd_tracks|      sum_min_played|      avg_min_played|\n",
      "+-------------------+---------------------------------+--------+---------+--------------------+--------------------+\n",
      "|2017-01-28 00:00:00|                    The Gathering|       2|        2|             0.03945|            0.019725|\n",
      "|2017-01-28 00:00:00|                            Björk|       1|        1|                 0.0|                 0.0|\n",
      "|2017-01-28 00:00:00|                          Placebo|       1|        1|                 0.0|                 0.0|\n",
      "|2017-01-28 00:00:00|                        Morrissey|       2|        2|             3.60595|            1.802975|\n",
      "|2017-01-28 00:00:00|                     Public Enemy|       7|        7|  25.276733333333333|  3.6109619047619046|\n",
      "|2017-01-28 00:00:00|                    Amy Winehouse|       1|        1|  4.2824333333333335|  4.2824333333333335|\n",
      "|2017-01-28 00:00:00|                       Blackfield|       1|        1| 0.41828333333333334| 0.41828333333333334|\n",
      "|2017-01-28 00:00:00|                             Moby|       1|        1|0.012766666666666667|0.012766666666666667|\n",
      "|2017-01-28 00:00:00|                           N.W.A.|       1|        1|  3.8494666666666664|  3.8494666666666664|\n",
      "|2017-01-28 00:00:00|                   Gustavo Cerati|       1|        1|              0.0503|              0.0503|\n",
      "|2017-01-28 00:00:00|                            Adele|       1|        1|0.027466666666666664|0.027466666666666664|\n",
      "|2017-01-28 00:00:00|                   Massive Attack|       2|        1|                 0.0|                 0.0|\n",
      "|2017-01-28 00:00:00|                     Depeche Mode|       2|        1|0.014316666666666667|0.007158333333333333|\n",
      "|2017-01-28 00:00:00|                      The Prodigy|       1|        1|   4.333333333333333|   4.333333333333333|\n",
      "|2017-01-28 00:00:00|                        Katatonia|       1|        1|                 0.0|                 0.0|\n",
      "|2017-01-28 00:00:00|                               U2|       1|        1|0.005416666666666667|0.005416666666666667|\n",
      "|2017-01-28 00:00:00|                       Ana Tijoux|       1|        1|0.017016666666666666|0.017016666666666666|\n",
      "|2017-01-28 00:00:00|                       The Police|       1|        1|                 0.0|                 0.0|\n",
      "|2017-01-28 00:00:00|                       Audioslave|       8|        8|  35.007466666666666|   4.375933333333333|\n",
      "|2017-01-28 00:00:00|                    Kings of Leon|       1|        1|  3.8459999999999996|  3.8459999999999996|\n",
      "+-------------------+---------------------------------+--------+---------+--------------------+--------------------+\n",
      "\n"
     ]
    },
    {
     "name": "stderr",
     "output_type": "stream",
     "text": [
      "                                                                                \r"
     ]
    },
    {
     "name": "stdout",
     "output_type": "stream",
     "text": [
      "-------------------------------------------\n",
      "Batch: 13\n",
      "-------------------------------------------\n",
      "+-------------------+---------------------------------+--------+---------+--------------------+--------------------+\n",
      "|                day|master_metadata_album_artist_name|q_tracks|qd_tracks|      sum_min_played|      avg_min_played|\n",
      "+-------------------+---------------------------------+--------+---------+--------------------+--------------------+\n",
      "|2017-01-28 00:00:00|                    The Gathering|       2|        2|             0.03945|            0.019725|\n",
      "|2017-01-28 00:00:00|                            Björk|       1|        1|                 0.0|                 0.0|\n",
      "|2017-01-28 00:00:00|                          Placebo|       1|        1|                 0.0|                 0.0|\n",
      "|2017-01-28 00:00:00|                        Morrissey|       2|        2|             3.60595|            1.802975|\n",
      "|2017-01-28 00:00:00|                     Public Enemy|       7|        7|  25.276733333333333|  3.6109619047619046|\n",
      "|2017-01-28 00:00:00|                    Amy Winehouse|       1|        1|  4.2824333333333335|  4.2824333333333335|\n",
      "|2017-01-28 00:00:00|                       Blackfield|       1|        1| 0.41828333333333334| 0.41828333333333334|\n",
      "|2017-01-28 00:00:00|                             Moby|       2|        2|  4.0323166666666665|  2.0161583333333333|\n",
      "|2017-01-28 00:00:00|                           N.W.A.|       1|        1|  3.8494666666666664|  3.8494666666666664|\n",
      "|2017-01-28 00:00:00|                   Gustavo Cerati|       1|        1|              0.0503|              0.0503|\n",
      "|2017-01-28 00:00:00|                            Adele|       1|        1|0.027466666666666664|0.027466666666666664|\n",
      "|2017-01-28 00:00:00|                   Massive Attack|       2|        1|                 0.0|                 0.0|\n",
      "|2017-01-28 00:00:00|                     Depeche Mode|       3|        2|             4.18365|             1.39455|\n",
      "|2017-01-28 00:00:00|                      The Prodigy|       1|        1|   4.333333333333333|   4.333333333333333|\n",
      "|2017-01-28 00:00:00|                        Katatonia|       1|        1|                 0.0|                 0.0|\n",
      "|2017-01-28 00:00:00|                               U2|       1|        1|0.005416666666666667|0.005416666666666667|\n",
      "|2017-01-28 00:00:00|                       Ana Tijoux|       1|        1|0.017016666666666666|0.017016666666666666|\n",
      "|2017-01-28 00:00:00|                      David Bowie|       1|        1|   4.807766666666667|   4.807766666666667|\n",
      "|2017-01-28 00:00:00|                       The Police|       1|        1|                 0.0|                 0.0|\n",
      "|2017-01-28 00:00:00|                       Audioslave|       8|        8|  35.007466666666666|   4.375933333333333|\n",
      "+-------------------+---------------------------------+--------+---------+--------------------+--------------------+\n",
      "only showing top 20 rows\n",
      "\n"
     ]
    },
    {
     "name": "stderr",
     "output_type": "stream",
     "text": [
      "                                                                                \r"
     ]
    },
    {
     "name": "stdout",
     "output_type": "stream",
     "text": [
      "-------------------------------------------\n",
      "Batch: 14\n",
      "-------------------------------------------\n",
      "+-------------------+---------------------------------+--------+---------+--------------------+--------------------+\n",
      "|                day|master_metadata_album_artist_name|q_tracks|qd_tracks|      sum_min_played|      avg_min_played|\n",
      "+-------------------+---------------------------------+--------+---------+--------------------+--------------------+\n",
      "|2017-01-28 00:00:00|                    The Gathering|       2|        2|             0.03945|            0.019725|\n",
      "|2017-01-28 00:00:00|                            Björk|       1|        1|                 0.0|                 0.0|\n",
      "|2017-01-28 00:00:00|                          Placebo|       1|        1|                 0.0|                 0.0|\n",
      "|2017-01-28 00:00:00|                        Morrissey|       2|        2|             3.60595|            1.802975|\n",
      "|2017-01-28 00:00:00|                     Public Enemy|       7|        7|  25.276733333333333|  3.6109619047619046|\n",
      "|2017-01-28 00:00:00|                    Amy Winehouse|       1|        1|  4.2824333333333335|  4.2824333333333335|\n",
      "|2017-01-28 00:00:00|                       Blackfield|       1|        1| 0.41828333333333334| 0.41828333333333334|\n",
      "|2017-01-28 00:00:00|                             Moby|       2|        2|  4.0323166666666665|  2.0161583333333333|\n",
      "|2017-01-28 00:00:00|                           N.W.A.|       1|        1|  3.8494666666666664|  3.8494666666666664|\n",
      "|2017-01-28 00:00:00|                   Gustavo Cerati|       1|        1|              0.0503|              0.0503|\n",
      "|2017-01-28 00:00:00|                            Adele|       1|        1|0.027466666666666664|0.027466666666666664|\n",
      "|2017-01-28 00:00:00|                   Massive Attack|       2|        1|                 0.0|                 0.0|\n",
      "|2017-01-28 00:00:00|                     Depeche Mode|       4|        3|   8.410083333333333|   2.102520833333333|\n",
      "|2017-01-28 00:00:00|                      The Prodigy|       1|        1|   4.333333333333333|   4.333333333333333|\n",
      "|2017-01-28 00:00:00|                        Katatonia|       1|        1|                 0.0|                 0.0|\n",
      "|2017-01-28 00:00:00|                 Jay-Jay Johanson|       1|        1|   6.012216666666666|   6.012216666666666|\n",
      "|2017-01-28 00:00:00|                               U2|       1|        1|0.005416666666666667|0.005416666666666667|\n",
      "|2017-01-28 00:00:00|                       Ana Tijoux|       1|        1|0.017016666666666666|0.017016666666666666|\n",
      "|2017-01-28 00:00:00|                      David Bowie|       1|        1|   4.807766666666667|   4.807766666666667|\n",
      "|2017-01-28 00:00:00|                       The Police|       1|        1|                 0.0|                 0.0|\n",
      "+-------------------+---------------------------------+--------+---------+--------------------+--------------------+\n",
      "only showing top 20 rows\n",
      "\n"
     ]
    },
    {
     "name": "stderr",
     "output_type": "stream",
     "text": [
      "                                                                                \r"
     ]
    },
    {
     "name": "stdout",
     "output_type": "stream",
     "text": [
      "-------------------------------------------\n",
      "Batch: 15\n",
      "-------------------------------------------\n",
      "+-------------------+---------------------------------+--------+---------+--------------------+--------------------+\n",
      "|                day|master_metadata_album_artist_name|q_tracks|qd_tracks|      sum_min_played|      avg_min_played|\n",
      "+-------------------+---------------------------------+--------+---------+--------------------+--------------------+\n",
      "|2017-01-28 00:00:00|                       Pink Floyd|       1|        1|  2.0478333333333336|  2.0478333333333336|\n",
      "|2017-01-28 00:00:00|                    The Gathering|       2|        2|             0.03945|            0.019725|\n",
      "|2017-01-28 00:00:00|                            Björk|       1|        1|                 0.0|                 0.0|\n",
      "|2017-01-28 00:00:00|                          Placebo|       1|        1|                 0.0|                 0.0|\n",
      "|2017-01-28 00:00:00|                  The Cranberries|       1|        1|0.042166666666666665|0.042166666666666665|\n",
      "|2017-01-28 00:00:00|                        Morrissey|       2|        2|             3.60595|            1.802975|\n",
      "|2017-01-28 00:00:00|                     Public Enemy|       7|        7|  25.276733333333333|  3.6109619047619046|\n",
      "|2017-01-28 00:00:00|                    Amy Winehouse|       1|        1|  4.2824333333333335|  4.2824333333333335|\n",
      "|2017-01-28 00:00:00|                       Blackfield|       1|        1| 0.41828333333333334| 0.41828333333333334|\n",
      "|2017-01-28 00:00:00|                             Moby|       2|        2|  4.0323166666666665|  2.0161583333333333|\n",
      "|2017-01-28 00:00:00|                           N.W.A.|       1|        1|  3.8494666666666664|  3.8494666666666664|\n",
      "|2017-01-28 00:00:00|                   Gustavo Cerati|       1|        1|              0.0503|              0.0503|\n",
      "|2017-01-28 00:00:00|                            Adele|       1|        1|0.027466666666666664|0.027466666666666664|\n",
      "|2017-01-28 00:00:00|                   Massive Attack|       2|        1|                 0.0|                 0.0|\n",
      "|2017-01-28 00:00:00|                     Depeche Mode|       4|        3|   8.410083333333333|   2.102520833333333|\n",
      "|2017-01-28 00:00:00|                      The Prodigy|       1|        1|   4.333333333333333|   4.333333333333333|\n",
      "|2017-01-28 00:00:00|                        Katatonia|       1|        1|                 0.0|                 0.0|\n",
      "|2017-01-28 00:00:00|                 Jay-Jay Johanson|       1|        1|   6.012216666666666|   6.012216666666666|\n",
      "|2017-01-28 00:00:00|                               U2|       1|        1|0.005416666666666667|0.005416666666666667|\n",
      "|2017-01-28 00:00:00|                       Ana Tijoux|       1|        1|0.017016666666666666|0.017016666666666666|\n",
      "+-------------------+---------------------------------+--------+---------+--------------------+--------------------+\n",
      "only showing top 20 rows\n",
      "\n"
     ]
    },
    {
     "name": "stderr",
     "output_type": "stream",
     "text": [
      "24/10/16 21:51:47 WARN TextSocketMicroBatchStream: Stream closed by localhost:9999\n",
      "                                                                                \r"
     ]
    },
    {
     "name": "stdout",
     "output_type": "stream",
     "text": [
      "-------------------------------------------\n",
      "Batch: 16\n",
      "-------------------------------------------\n",
      "+-------------------+---------------------------------+--------+---------+--------------------+--------------------+\n",
      "|                day|master_metadata_album_artist_name|q_tracks|qd_tracks|      sum_min_played|      avg_min_played|\n",
      "+-------------------+---------------------------------+--------+---------+--------------------+--------------------+\n",
      "|2017-01-28 00:00:00|                       Pink Floyd|       1|        1|  2.0478333333333336|  2.0478333333333336|\n",
      "|2017-01-28 00:00:00|                    The Gathering|       2|        2|             0.03945|            0.019725|\n",
      "|2017-01-28 00:00:00|                            Björk|       2|        2|  3.9366666666666665|  1.9683333333333333|\n",
      "|2017-01-28 00:00:00|                          Placebo|       1|        1|                 0.0|                 0.0|\n",
      "|2017-01-28 00:00:00|                  The Cranberries|       1|        1|0.042166666666666665|0.042166666666666665|\n",
      "|2017-01-28 00:00:00|                        Morrissey|       2|        2|             3.60595|            1.802975|\n",
      "|2017-01-28 00:00:00|                     Public Enemy|       7|        7|  25.276733333333333|  3.6109619047619046|\n",
      "|2017-01-28 00:00:00|                    Amy Winehouse|       1|        1|  4.2824333333333335|  4.2824333333333335|\n",
      "|2017-01-28 00:00:00|                       Blackfield|       1|        1| 0.41828333333333334| 0.41828333333333334|\n",
      "|2017-01-28 00:00:00|                             Moby|       2|        2|  4.0323166666666665|  2.0161583333333333|\n",
      "|2017-01-28 00:00:00|                           N.W.A.|       1|        1|  3.8494666666666664|  3.8494666666666664|\n",
      "|2017-01-28 00:00:00|                   Gustavo Cerati|       1|        1|              0.0503|              0.0503|\n",
      "|2017-01-28 00:00:00|                            Adele|       1|        1|0.027466666666666664|0.027466666666666664|\n",
      "|2017-01-28 00:00:00|                   Massive Attack|       2|        1|                 0.0|                 0.0|\n",
      "|2017-01-28 00:00:00|                     Depeche Mode|       4|        3|   8.410083333333333|   2.102520833333333|\n",
      "|2017-01-28 00:00:00|                      The Prodigy|       1|        1|   4.333333333333333|   4.333333333333333|\n",
      "|2017-01-28 00:00:00|                   Porcupine Tree|       1|        1|   5.940433333333333|   5.940433333333333|\n",
      "|2017-01-28 00:00:00|                        Katatonia|       1|        1|                 0.0|                 0.0|\n",
      "|2017-01-28 00:00:00|                 Jay-Jay Johanson|       1|        1|   6.012216666666666|   6.012216666666666|\n",
      "|2017-01-28 00:00:00|                  John McLaughlin|       1|        1|   5.004916666666667|   5.004916666666667|\n",
      "+-------------------+---------------------------------+--------+---------+--------------------+--------------------+\n",
      "only showing top 20 rows\n",
      "\n"
     ]
    },
    {
     "name": "stderr",
     "output_type": "stream",
     "text": [
      "                                                                                \r"
     ]
    },
    {
     "name": "stdout",
     "output_type": "stream",
     "text": [
      "-------------------------------------------\n",
      "Batch: 17\n",
      "-------------------------------------------\n",
      "+-------------------+---------------------------------+--------+---------+--------------------+--------------------+\n",
      "|                day|master_metadata_album_artist_name|q_tracks|qd_tracks|      sum_min_played|      avg_min_played|\n",
      "+-------------------+---------------------------------+--------+---------+--------------------+--------------------+\n",
      "|2017-01-28 00:00:00|                       Pink Floyd|       1|        1|  2.0478333333333336|  2.0478333333333336|\n",
      "|2017-01-28 00:00:00|                    The Gathering|       2|        2|             0.03945|            0.019725|\n",
      "|2017-01-28 00:00:00|                            Björk|       2|        2|  3.9366666666666665|  1.9683333333333333|\n",
      "|2017-01-28 00:00:00|                          Placebo|       1|        1|                 0.0|                 0.0|\n",
      "|2017-01-28 00:00:00|                  The Cranberries|       1|        1|0.042166666666666665|0.042166666666666665|\n",
      "|2017-01-28 00:00:00|                        Morrissey|       2|        2|             3.60595|            1.802975|\n",
      "|2017-01-28 00:00:00|                     Public Enemy|       7|        7|  25.276733333333333|  3.6109619047619046|\n",
      "|2017-01-28 00:00:00|                    Amy Winehouse|       1|        1|  4.2824333333333335|  4.2824333333333335|\n",
      "|2017-01-28 00:00:00|                       Blackfield|       1|        1| 0.41828333333333334| 0.41828333333333334|\n",
      "|2017-01-28 00:00:00|                             Moby|       2|        2|  4.0323166666666665|  2.0161583333333333|\n",
      "|2017-01-28 00:00:00|                           N.W.A.|       1|        1|  3.8494666666666664|  3.8494666666666664|\n",
      "|2017-01-28 00:00:00|                   Gustavo Cerati|       1|        1|              0.0503|              0.0503|\n",
      "|2017-01-28 00:00:00|                            Adele|       1|        1|0.027466666666666664|0.027466666666666664|\n",
      "|2017-01-28 00:00:00|                   Massive Attack|       2|        1|                 0.0|                 0.0|\n",
      "|2017-01-28 00:00:00|                     Depeche Mode|       4|        3|   8.410083333333333|   2.102520833333333|\n",
      "|2017-01-28 00:00:00|                      The Prodigy|       1|        1|   4.333333333333333|   4.333333333333333|\n",
      "|2017-01-28 00:00:00|                   Porcupine Tree|       1|        1|   5.940433333333333|   5.940433333333333|\n",
      "|2017-01-28 00:00:00|                        Katatonia|       1|        1|                 0.0|                 0.0|\n",
      "|2017-01-28 00:00:00|                 Jay-Jay Johanson|       1|        1|   6.012216666666666|   6.012216666666666|\n",
      "|2017-01-28 00:00:00|                  John McLaughlin|       1|        1|   5.004916666666667|   5.004916666666667|\n",
      "+-------------------+---------------------------------+--------+---------+--------------------+--------------------+\n",
      "only showing top 20 rows\n",
      "\n"
     ]
    }
   ],
   "source": [
    "from pyspark.sql.functions import count, approx_count_distinct, sum, avg, date_trunc\n",
    "\n",
    "query = parsed_stream \\\n",
    "    .groupBy(date_trunc(\"day\",\"ts\").alias(\"day\"), 'master_metadata_album_artist_name').agg(\n",
    "    count(\"master_metadata_track_name\").alias(\"q_tracks\"),\n",
    "    approx_count_distinct(\"master_metadata_track_name\").alias(\"qd_tracks\"),\n",
    "    sum(expr(\"ms_played/1000/60\")).alias(\"sum_min_played\"),\n",
    "    avg(expr(\"ms_played/1000/60\")).alias(\"avg_min_played\")\n",
    ")\\\n",
    ".writeStream \\\n",
    ".format(\"console\")\\\n",
    ".outputMode(\"complete\")\\\n",
    ".start()\n",
    "\n",
    "# query.awaitTermination()"
   ]
  },
  {
   "cell_type": "code",
   "execution_count": 43,
   "metadata": {},
   "outputs": [
    {
     "name": "stderr",
     "output_type": "stream",
     "text": [
      "24/10/16 21:48:34 WARN ResolveWriteToStream: Temporary checkpoint location created which is deleted normally when the query didn't fail: /private/var/folders/yc/93pqpkn533n6nlff1n38pb2c0000gn/T/temporary-5423a5d3-279e-4e20-8c49-8439664affd9. If it's required to delete it under any circumstances, please set spark.sql.streaming.forceDeleteTempCheckpointLocation to true. Important to know deleting temp checkpoint folder is best effort.\n",
      "24/10/16 21:48:34 WARN ResolveWriteToStream: spark.sql.adaptive.enabled is not supported in streaming DataFrames/Datasets and will be disabled.\n"
     ]
    },
    {
     "name": "stderr",
     "output_type": "stream",
     "text": [
      "                                                                                \r"
     ]
    },
    {
     "name": "stdout",
     "output_type": "stream",
     "text": [
      "-------------------------------------------\n",
      "Batch: 0\n",
      "-------------------------------------------\n",
      "+---+---------------------------------+--------+---------+--------------+--------------+\n",
      "|day|master_metadata_album_artist_name|q_tracks|qd_tracks|sum_min_played|avg_min_played|\n",
      "+---+---------------------------------+--------+---------+--------------+--------------+\n",
      "+---+---------------------------------+--------+---------+--------------+--------------+\n",
      "\n"
     ]
    },
    {
     "name": "stderr",
     "output_type": "stream",
     "text": [
      "                                                                                \r"
     ]
    },
    {
     "name": "stdout",
     "output_type": "stream",
     "text": [
      "-------------------------------------------\n",
      "Batch: 1\n",
      "-------------------------------------------\n",
      "+-------------------+---------------------------------+--------+---------+------------------+-----------------+\n",
      "|                day|master_metadata_album_artist_name|q_tracks|qd_tracks|    sum_min_played|   avg_min_played|\n",
      "+-------------------+---------------------------------+--------+---------+------------------+-----------------+\n",
      "|2017-01-28 00:00:00|                       Audioslave|       4|        4|18.342216666666666|4.585554166666666|\n",
      "+-------------------+---------------------------------+--------+---------+------------------+-----------------+\n",
      "\n"
     ]
    },
    {
     "name": "stderr",
     "output_type": "stream",
     "text": [
      "                                                                                \r"
     ]
    },
    {
     "name": "stdout",
     "output_type": "stream",
     "text": [
      "-------------------------------------------\n",
      "Batch: 2\n",
      "-------------------------------------------\n",
      "+-------------------+---------------------------------+--------+---------+-----------------+-----------------+\n",
      "|                day|master_metadata_album_artist_name|q_tracks|qd_tracks|   sum_min_played|   avg_min_played|\n",
      "+-------------------+---------------------------------+--------+---------+-----------------+-----------------+\n",
      "|2017-01-28 00:00:00|                       Audioslave|       7|        7|34.03398333333333|4.861997619047619|\n",
      "+-------------------+---------------------------------+--------+---------+-----------------+-----------------+\n",
      "\n"
     ]
    },
    {
     "name": "stderr",
     "output_type": "stream",
     "text": [
      "                                                                                \r"
     ]
    },
    {
     "name": "stdout",
     "output_type": "stream",
     "text": [
      "-------------------------------------------\n",
      "Batch: 3\n",
      "-------------------------------------------\n",
      "+-------------------+---------------------------------+--------+---------+------------------+-----------------+\n",
      "|                day|master_metadata_album_artist_name|q_tracks|qd_tracks|    sum_min_played|   avg_min_played|\n",
      "+-------------------+---------------------------------+--------+---------+------------------+-----------------+\n",
      "|2017-01-28 00:00:00|                     Public Enemy|       2|        2|           8.86935|         4.434675|\n",
      "|2017-01-28 00:00:00|                       Audioslave|       8|        8|35.007466666666666|4.375933333333333|\n",
      "+-------------------+---------------------------------+--------+---------+------------------+-----------------+\n",
      "\n"
     ]
    },
    {
     "name": "stderr",
     "output_type": "stream",
     "text": [
      "                                                                                \r"
     ]
    },
    {
     "name": "stdout",
     "output_type": "stream",
     "text": [
      "-------------------------------------------\n",
      "Batch: 4\n",
      "-------------------------------------------\n",
      "+-------------------+---------------------------------+--------+---------+-----------------+-----------------+\n",
      "|                day|master_metadata_album_artist_name|q_tracks|qd_tracks|   sum_min_played|   avg_min_played|\n",
      "+-------------------+---------------------------------+--------+---------+-----------------+-----------------+\n",
      "|2017-01-28 00:00:00|                     Public Enemy|       5|        5|20.62466666666667|4.124933333333334|\n",
      "+-------------------+---------------------------------+--------+---------+-----------------+-----------------+\n",
      "\n"
     ]
    },
    {
     "name": "stderr",
     "output_type": "stream",
     "text": [
      "                                                                                \r"
     ]
    },
    {
     "name": "stdout",
     "output_type": "stream",
     "text": [
      "-------------------------------------------\n",
      "Batch: 5\n",
      "-------------------------------------------\n",
      "+-------------------+---------------------------------+--------+---------+------------------+-----------------+\n",
      "|                day|master_metadata_album_artist_name|q_tracks|qd_tracks|    sum_min_played|   avg_min_played|\n",
      "+-------------------+---------------------------------+--------+---------+------------------+-----------------+\n",
      "|2017-01-28 00:00:00|                     Public Enemy|       6|        6|24.392000000000003|4.065333333333334|\n",
      "|2017-01-28 00:00:00|                      The Prodigy|       1|        1| 4.333333333333333|4.333333333333333|\n",
      "+-------------------+---------------------------------+--------+---------+------------------+-----------------+\n",
      "\n"
     ]
    },
    {
     "name": "stderr",
     "output_type": "stream",
     "text": [
      "                                                                                \r"
     ]
    },
    {
     "name": "stdout",
     "output_type": "stream",
     "text": [
      "-------------------------------------------\n",
      "Batch: 6\n",
      "-------------------------------------------\n",
      "+-------------------+---------------------------------+--------+---------+--------------------+--------------------+\n",
      "|                day|master_metadata_album_artist_name|q_tracks|qd_tracks|      sum_min_played|      avg_min_played|\n",
      "+-------------------+---------------------------------+--------+---------+--------------------+--------------------+\n",
      "|2017-01-28 00:00:00|                     Public Enemy|       7|        7|  25.276733333333336|   3.610961904761905|\n",
      "|2017-01-28 00:00:00|                           N.W.A.|       1|        1|  3.8494666666666664|  3.8494666666666664|\n",
      "|2017-01-28 00:00:00|                            Adele|       1|        1|0.027466666666666664|0.027466666666666664|\n",
      "+-------------------+---------------------------------+--------+---------+--------------------+--------------------+\n",
      "\n"
     ]
    },
    {
     "name": "stderr",
     "output_type": "stream",
     "text": [
      "                                                                                \r"
     ]
    },
    {
     "name": "stdout",
     "output_type": "stream",
     "text": [
      "-------------------------------------------\n",
      "Batch: 7\n",
      "-------------------------------------------\n",
      "+-------------------+---------------------------------+--------+---------+--------------------+--------------------+\n",
      "|                day|master_metadata_album_artist_name|q_tracks|qd_tracks|      sum_min_played|      avg_min_played|\n",
      "+-------------------+---------------------------------+--------+---------+--------------------+--------------------+\n",
      "|2017-01-28 00:00:00|                             Moby|       1|        1|0.012766666666666667|0.012766666666666667|\n",
      "|2017-01-28 00:00:00|                     Depeche Mode|       1|        1|0.014316666666666667|0.014316666666666667|\n",
      "|2017-01-28 00:00:00|                       Ana Tijoux|       1|        1|0.017016666666666666|0.017016666666666666|\n",
      "+-------------------+---------------------------------+--------+---------+--------------------+--------------------+\n",
      "\n"
     ]
    },
    {
     "name": "stderr",
     "output_type": "stream",
     "text": [
      "                                                                                \r"
     ]
    },
    {
     "name": "stdout",
     "output_type": "stream",
     "text": [
      "-------------------------------------------\n",
      "Batch: 8\n",
      "-------------------------------------------\n",
      "+-------------------+---------------------------------+--------+---------+--------------------+--------------------+\n",
      "|                day|master_metadata_album_artist_name|q_tracks|qd_tracks|      sum_min_played|      avg_min_played|\n",
      "+-------------------+---------------------------------+--------+---------+--------------------+--------------------+\n",
      "|2017-01-28 00:00:00|                   Massive Attack|       2|        1|                 0.0|                 0.0|\n",
      "|2017-01-28 00:00:00|                     Depeche Mode|       2|        1|0.014316666666666667|0.007158333333333333|\n",
      "+-------------------+---------------------------------+--------+---------+--------------------+--------------------+\n",
      "\n"
     ]
    },
    {
     "name": "stderr",
     "output_type": "stream",
     "text": [
      "                                                                                \r"
     ]
    },
    {
     "name": "stdout",
     "output_type": "stream",
     "text": [
      "-------------------------------------------\n",
      "Batch: 9\n",
      "-------------------------------------------\n",
      "+-------------------+---------------------------------+--------+---------+--------------+--------------+\n",
      "|                day|master_metadata_album_artist_name|q_tracks|qd_tracks|sum_min_played|avg_min_played|\n",
      "+-------------------+---------------------------------+--------+---------+--------------+--------------+\n",
      "|2017-01-28 00:00:00|                          Placebo|       1|        1|           0.0|           0.0|\n",
      "|2017-01-28 00:00:00|                   Gustavo Cerati|       1|        1|        0.0503|        0.0503|\n",
      "|2017-01-28 00:00:00|                       The Police|       1|        1|           0.0|           0.0|\n",
      "+-------------------+---------------------------------+--------+---------+--------------+--------------+\n",
      "\n"
     ]
    },
    {
     "name": "stderr",
     "output_type": "stream",
     "text": [
      "                                                                                \r"
     ]
    },
    {
     "name": "stdout",
     "output_type": "stream",
     "text": [
      "-------------------------------------------\n",
      "Batch: 10\n",
      "-------------------------------------------\n",
      "+-------------------+---------------------------------+--------+---------+--------------------+--------------------+\n",
      "|                day|master_metadata_album_artist_name|q_tracks|qd_tracks|      sum_min_played|      avg_min_played|\n",
      "+-------------------+---------------------------------+--------+---------+--------------------+--------------------+\n",
      "|2017-01-28 00:00:00|                    Amy Winehouse|       1|        1|  4.2824333333333335|  4.2824333333333335|\n",
      "|2017-01-28 00:00:00|                               U2|       1|        1|0.005416666666666667|0.005416666666666667|\n",
      "|2017-01-28 00:00:00|                    Kings of Leon|       1|        1|  3.8459999999999996|  3.8459999999999996|\n",
      "+-------------------+---------------------------------+--------+---------+--------------------+--------------------+\n",
      "\n"
     ]
    },
    {
     "name": "stderr",
     "output_type": "stream",
     "text": [
      "                                                                                \r"
     ]
    },
    {
     "name": "stdout",
     "output_type": "stream",
     "text": [
      "-------------------------------------------\n",
      "Batch: 11\n",
      "-------------------------------------------\n",
      "+-------------------+---------------------------------+--------+---------+-------------------+-------------------+\n",
      "|                day|master_metadata_album_artist_name|q_tracks|qd_tracks|     sum_min_played|     avg_min_played|\n",
      "+-------------------+---------------------------------+--------+---------+-------------------+-------------------+\n",
      "|2017-01-28 00:00:00|                        Morrissey|       2|        2|            3.60595|           1.802975|\n",
      "|2017-01-28 00:00:00|                       Blackfield|       1|        1|0.41828333333333334|0.41828333333333334|\n",
      "+-------------------+---------------------------------+--------+---------+-------------------+-------------------+\n",
      "\n"
     ]
    },
    {
     "name": "stderr",
     "output_type": "stream",
     "text": [
      "                                                                                \r"
     ]
    },
    {
     "name": "stdout",
     "output_type": "stream",
     "text": [
      "-------------------------------------------\n",
      "Batch: 12\n",
      "-------------------------------------------\n",
      "+-------------------+---------------------------------+--------+---------+--------------+--------------+\n",
      "|                day|master_metadata_album_artist_name|q_tracks|qd_tracks|sum_min_played|avg_min_played|\n",
      "+-------------------+---------------------------------+--------+---------+--------------+--------------+\n",
      "|2017-01-28 00:00:00|                    The Gathering|       2|        2|       0.03945|      0.019725|\n",
      "|2017-01-28 00:00:00|                        Katatonia|       1|        1|           0.0|           0.0|\n",
      "+-------------------+---------------------------------+--------+---------+--------------+--------------+\n",
      "\n"
     ]
    },
    {
     "name": "stderr",
     "output_type": "stream",
     "text": [
      "                                                                                \r"
     ]
    },
    {
     "name": "stdout",
     "output_type": "stream",
     "text": [
      "-------------------------------------------\n",
      "Batch: 13\n",
      "-------------------------------------------\n",
      "+-------------------+---------------------------------+--------+---------+-----------------+-----------------+\n",
      "|                day|master_metadata_album_artist_name|q_tracks|qd_tracks|   sum_min_played|   avg_min_played|\n",
      "+-------------------+---------------------------------+--------+---------+-----------------+-----------------+\n",
      "|2017-01-28 00:00:00|                            Björk|       1|        1|              0.0|              0.0|\n",
      "|2017-01-28 00:00:00|                      David Bowie|       1|        1|4.807766666666667|4.807766666666667|\n",
      "+-------------------+---------------------------------+--------+---------+-----------------+-----------------+\n",
      "\n"
     ]
    },
    {
     "name": "stderr",
     "output_type": "stream",
     "text": [
      "                                                                                \r"
     ]
    },
    {
     "name": "stdout",
     "output_type": "stream",
     "text": [
      "-------------------------------------------\n",
      "Batch: 14\n",
      "-------------------------------------------\n",
      "+-------------------+---------------------------------+--------+---------+------------------+------------------+\n",
      "|                day|master_metadata_album_artist_name|q_tracks|qd_tracks|    sum_min_played|    avg_min_played|\n",
      "+-------------------+---------------------------------+--------+---------+------------------+------------------+\n",
      "|2017-01-28 00:00:00|                             Moby|       2|        2|4.0323166666666665|2.0161583333333333|\n",
      "|2017-01-28 00:00:00|                     Depeche Mode|       4|        3| 8.410083333333333| 2.102520833333333|\n",
      "+-------------------+---------------------------------+--------+---------+------------------+------------------+\n",
      "\n"
     ]
    },
    {
     "name": "stderr",
     "output_type": "stream",
     "text": [
      "                                                                                \r"
     ]
    },
    {
     "name": "stdout",
     "output_type": "stream",
     "text": [
      "-------------------------------------------\n",
      "Batch: 15\n",
      "-------------------------------------------\n",
      "+-------------------+---------------------------------+--------+---------+--------------------+--------------------+\n",
      "|                day|master_metadata_album_artist_name|q_tracks|qd_tracks|      sum_min_played|      avg_min_played|\n",
      "+-------------------+---------------------------------+--------+---------+--------------------+--------------------+\n",
      "|2017-01-28 00:00:00|                       Pink Floyd|       1|        1|  2.0478333333333336|  2.0478333333333336|\n",
      "|2017-01-28 00:00:00|                  The Cranberries|       1|        1|0.042166666666666665|0.042166666666666665|\n",
      "|2017-01-28 00:00:00|                 Jay-Jay Johanson|       1|        1|   6.012216666666666|   6.012216666666666|\n",
      "+-------------------+---------------------------------+--------+---------+--------------------+--------------------+\n",
      "\n"
     ]
    },
    {
     "name": "stderr",
     "output_type": "stream",
     "text": [
      "                                                                                \r"
     ]
    },
    {
     "name": "stdout",
     "output_type": "stream",
     "text": [
      "-------------------------------------------\n",
      "Batch: 16\n",
      "-------------------------------------------\n",
      "+-------------------+---------------------------------+--------+---------+--------------------+--------------------+\n",
      "|                day|master_metadata_album_artist_name|q_tracks|qd_tracks|      sum_min_played|      avg_min_played|\n",
      "+-------------------+---------------------------------+--------+---------+--------------------+--------------------+\n",
      "|2017-01-28 00:00:00|                            Björk|       2|        2|  3.9366666666666665|  1.9683333333333333|\n",
      "|2017-01-28 00:00:00|                   Porcupine Tree|       1|        1|   5.940433333333333|   5.940433333333333|\n",
      "|2017-01-28 00:00:00|                         Coldplay|       1|        1|0.036366666666666665|0.036366666666666665|\n",
      "+-------------------+---------------------------------+--------+---------+--------------------+--------------------+\n",
      "\n"
     ]
    },
    {
     "name": "stderr",
     "output_type": "stream",
     "text": [
      "24/10/16 21:49:24 WARN TextSocketMicroBatchStream: Stream closed by localhost:9999\n",
      "                                                                                \r"
     ]
    },
    {
     "name": "stdout",
     "output_type": "stream",
     "text": [
      "-------------------------------------------\n",
      "Batch: 17\n",
      "-------------------------------------------\n",
      "+-------------------+---------------------------------+--------+---------+------------------+-----------------+\n",
      "|                day|master_metadata_album_artist_name|q_tracks|qd_tracks|    sum_min_played|   avg_min_played|\n",
      "+-------------------+---------------------------------+--------+---------+------------------+-----------------+\n",
      "|2017-01-28 00:00:00|                  John McLaughlin|       1|        1| 5.004916666666667|5.004916666666667|\n",
      "|2017-01-28 00:00:00|                      Soda Stereo|       2|        2|13.276433333333333|6.638216666666667|\n",
      "+-------------------+---------------------------------+--------+---------+------------------+-----------------+\n",
      "\n"
     ]
    }
   ],
   "source": [
    "from pyspark.sql.functions import count, approx_count_distinct, sum, avg, date_trunc\n",
    "\n",
    "query = parsed_stream \\\n",
    "    .groupBy(date_trunc(\"day\",\"ts\").alias(\"day\"), 'master_metadata_album_artist_name').agg(\n",
    "    count(\"master_metadata_track_name\").alias(\"q_tracks\"),\n",
    "    approx_count_distinct(\"master_metadata_track_name\").alias(\"qd_tracks\"),\n",
    "    sum(expr(\"ms_played/1000/60\")).alias(\"sum_min_played\"),\n",
    "    avg(expr(\"ms_played/1000/60\")).alias(\"avg_min_played\")\n",
    ")\\\n",
    ".writeStream \\\n",
    ".format(\"console\")\\\n",
    ".outputMode(\"update\")\\\n",
    ".start()\n",
    "\n",
    "#query.awaitTermination()"
   ]
  },
  {
   "cell_type": "code",
   "execution_count": 48,
   "metadata": {},
   "outputs": [
    {
     "name": "stderr",
     "output_type": "stream",
     "text": [
      "24/10/16 21:55:18 WARN TextSocketSourceProvider: The socket source should not be used for production applications! It does not support recovery.\n"
     ]
    }
   ],
   "source": [
    "socket_stream = spark.readStream.format(\"socket\").option(\"host\", \"localhost\").option(\"port\", 9999)\\\n",
    "    .option(\"includeTimestamp\", True)\\\n",
    "    .load()"
   ]
  },
  {
   "cell_type": "code",
   "execution_count": 49,
   "metadata": {},
   "outputs": [
    {
     "name": "stdout",
     "output_type": "stream",
     "text": [
      "root\n",
      " |-- value: string (nullable = true)\n",
      " |-- timestamp: timestamp (nullable = true)\n",
      "\n"
     ]
    }
   ],
   "source": [
    "socket_stream.printSchema()"
   ]
  },
  {
   "cell_type": "code",
   "execution_count": 53,
   "metadata": {},
   "outputs": [
    {
     "name": "stderr",
     "output_type": "stream",
     "text": [
      "24/10/16 21:58:15 WARN ResolveWriteToStream: Temporary checkpoint location created which is deleted normally when the query didn't fail: /private/var/folders/yc/93pqpkn533n6nlff1n38pb2c0000gn/T/temporary-3b28e9f6-f2a5-4bfc-843f-e1629b729ac4. If it's required to delete it under any circumstances, please set spark.sql.streaming.forceDeleteTempCheckpointLocation to true. Important to know deleting temp checkpoint folder is best effort.\n",
      "24/10/16 21:58:15 WARN ResolveWriteToStream: spark.sql.adaptive.enabled is not supported in streaming DataFrames/Datasets and will be disabled.\n"
     ]
    },
    {
     "name": "stderr",
     "output_type": "stream",
     "text": [
      "                                                                                \r"
     ]
    },
    {
     "name": "stdout",
     "output_type": "stream",
     "text": [
      "-------------------------------------------\n",
      "Batch: 0\n",
      "-------------------------------------------\n",
      "+----+-----+\n",
      "|word|count|\n",
      "+----+-----+\n",
      "+----+-----+\n",
      "\n"
     ]
    },
    {
     "name": "stderr",
     "output_type": "stream",
     "text": [
      "                                                                                \r"
     ]
    },
    {
     "name": "stdout",
     "output_type": "stream",
     "text": [
      "-------------------------------------------\n",
      "Batch: 1\n",
      "-------------------------------------------\n",
      "+---------+-----+\n",
      "|     word|count|\n",
      "+---------+-----+\n",
      "|      don|    2|\n",
      "|      del|    1|\n",
      "|   Mancha|    1|\n",
      "|   salida|    1|\n",
      "|   tierra|    1|\n",
      "|       de|    4|\n",
      "|    trata|    2|\n",
      "|     hizo|    1|\n",
      "|       el|    1|\n",
      "|       su|    1|\n",
      "|ejercicio|    1|\n",
      "|   famoso|    1|\n",
      "|condición|    1|\n",
      "|        y|    1|\n",
      "|      que|    1|\n",
      "|  hidalgo|    1|\n",
      "|      Que|    1|\n",
      "|ingenioso|    1|\n",
      "|       la|    3|\n",
      "|  Quijote|    2|\n",
      "+---------+-----+\n",
      "only showing top 20 rows\n",
      "\n"
     ]
    },
    {
     "name": "stderr",
     "output_type": "stream",
     "text": [
      "                                                                                \r"
     ]
    },
    {
     "name": "stdout",
     "output_type": "stream",
     "text": [
      "-------------------------------------------\n",
      "Batch: 2\n",
      "-------------------------------------------\n",
      "+---------+-----+\n",
      "|     word|count|\n",
      "+---------+-----+\n",
      "|       en|    1|\n",
      "|      don|    3|\n",
      "|   cuando|    1|\n",
      "|  nuestro|    1|\n",
      "|       De|    1|\n",
      "|     tuvo|    1|\n",
      "|   cuenta|    1|\n",
      "|  armarse|    1|\n",
      "|       de|    5|\n",
      "| graciosa|    1|\n",
      "|    venta|    1|\n",
      "|   manera|    1|\n",
      "|  sucedió|    1|\n",
      "|caballero|    2|\n",
      "|    Donde|    1|\n",
      "|      que|    3|\n",
      "|    salió|    1|\n",
      "|        a|    1|\n",
      "|       le|    1|\n",
      "|       se|    1|\n",
      "+---------+-----+\n",
      "only showing top 20 rows\n",
      "\n"
     ]
    },
    {
     "name": "stderr",
     "output_type": "stream",
     "text": [
      "                                                                                \r"
     ]
    },
    {
     "name": "stdout",
     "output_type": "stream",
     "text": [
      "-------------------------------------------\n",
      "Batch: 3\n",
      "-------------------------------------------\n",
      "+----------+-----+\n",
      "|      word|count|\n",
      "+----------+-----+\n",
      "| narración|    1|\n",
      "|   nuestro|    2|\n",
      "|  prosigue|    1|\n",
      "|        de|    7|\n",
      "|        el|    3|\n",
      "| caballero|    3|\n",
      "|         y|    3|\n",
      "| desgracia|    1|\n",
      "|    donoso|    1|\n",
      "|     Donde|    2|\n",
      "|       que|    4|\n",
      "|escrutinio|    1|\n",
      "|    grande|    1|\n",
      "|        se|    2|\n",
      "|      cura|    1|\n",
      "|        la|    7|\n",
      "|       Del|    1|\n",
      "+----------+-----+\n",
      "\n"
     ]
    },
    {
     "name": "stderr",
     "output_type": "stream",
     "text": [
      "                                                                                \r"
     ]
    },
    {
     "name": "stdout",
     "output_type": "stream",
     "text": [
      "-------------------------------------------\n",
      "Batch: 4\n",
      "-------------------------------------------\n",
      "+---------+-----+\n",
      "|     word|count|\n",
      "+---------+-----+\n",
      "|       en|    2|\n",
      "|      don|    4|\n",
      "|  nuestro|    4|\n",
      "|  segunda|    1|\n",
      "|       De|    2|\n",
      "| librería|    1|\n",
      "|   Mancha|    2|\n",
      "|  barbero|    1|\n",
      "|   salida|    2|\n",
      "|       de|   10|\n",
      "|caballero|    4|\n",
      "|  hidalgo|    2|\n",
      "| hicieron|    1|\n",
      "|ingenioso|    2|\n",
      "|     buen|    1|\n",
      "|       la|   10|\n",
      "|  Quijote|    4|\n",
      "+---------+-----+\n",
      "\n"
     ]
    },
    {
     "name": "stderr",
     "output_type": "stream",
     "text": [
      "                                                                                \r"
     ]
    },
    {
     "name": "stdout",
     "output_type": "stream",
     "text": [
      "-------------------------------------------\n",
      "Batch: 5\n",
      "-------------------------------------------\n",
      "+-----------+-----+\n",
      "|       word|count|\n",
      "+-----------+-----+\n",
      "|         en|    3|\n",
      "|        don|    5|\n",
      "|      jamás|    1|\n",
      "|     felice|    1|\n",
      "|     suceso|    1|\n",
      "|       tuvo|    2|\n",
      "|    molinos|    1|\n",
      "|  imaginada|    1|\n",
      "|     dignos|    1|\n",
      "|         de|   13|\n",
      "|        con|    1|\n",
      "|         el|    4|\n",
      "| espantable|    1|\n",
      "|   aventura|    1|\n",
      "|          y|    4|\n",
      "|        que|    5|\n",
      "|recordación|    1|\n",
      "|    viento,|    1|\n",
      "|    sucesos|    1|\n",
      "|       buen|    2|\n",
      "+-----------+-----+\n",
      "only showing top 20 rows\n",
      "\n"
     ]
    },
    {
     "name": "stderr",
     "output_type": "stream",
     "text": [
      "                                                                                \r"
     ]
    },
    {
     "name": "stdout",
     "output_type": "stream",
     "text": [
      "-------------------------------------------\n",
      "Batch: 6\n",
      "-------------------------------------------\n",
      "+---------+-----+\n",
      "|     word|count|\n",
      "+---------+-----+\n",
      "|      don|    6|\n",
      "| vizcaíno|    1|\n",
      "|vizcaíno,|    1|\n",
      "| gallardo|    1|\n",
      "|      fin|    1|\n",
      "| concluye|    1|\n",
      "|       De|    3|\n",
      "| valiente|    1|\n",
      "|      con|    2|\n",
      "|       el|    7|\n",
      "|  batalla|    1|\n",
      "|        y|    7|\n",
      "|    Donde|    3|\n",
      "|      que|    7|\n",
      "|    avino|    1|\n",
      "| manchego|    1|\n",
      "| tuvieron|    1|\n",
      "|estupenda|    1|\n",
      "|        a|    3|\n",
      "|       le|    2|\n",
      "+---------+-----+\n",
      "only showing top 20 rows\n",
      "\n"
     ]
    },
    {
     "name": "stderr",
     "output_type": "stream",
     "text": [
      "                                                                                \r"
     ]
    },
    {
     "name": "stdout",
     "output_type": "stream",
     "text": [
      "-------------------------------------------\n",
      "Batch: 7\n",
      "-------------------------------------------\n",
      "+---------+-----+\n",
      "|     word|count|\n",
      "+---------+-----+\n",
      "|       en|    4|\n",
      "|      una|    1|\n",
      "|      don|    7|\n",
      "|      del|    2|\n",
      "|       De|    4|\n",
      "| cabreros|    1|\n",
      "|      vio|    1|\n",
      "|       de|   14|\n",
      "|  peligro|    1|\n",
      "|    turba|    1|\n",
      "|      con|    4|\n",
      "|  sucedió|    2|\n",
      "|     unos|    1|\n",
      "|      que|    9|\n",
      "|yangüeses|    1|\n",
      "|        a|    4|\n",
      "|       le|    3|\n",
      "|       se|    4|\n",
      "|  Quijote|    7|\n",
      "|       lo|    3|\n",
      "+---------+-----+\n",
      "\n"
     ]
    },
    {
     "name": "stderr",
     "output_type": "stream",
     "text": [
      "                                                                                \r"
     ]
    },
    {
     "name": "stdout",
     "output_type": "stream",
     "text": [
      "-------------------------------------------\n",
      "Batch: 8\n",
      "-------------------------------------------\n",
      "+--------+-----+\n",
      "|    word|count|\n",
      "+--------+-----+\n",
      "|     don|    8|\n",
      "| pastora|    1|\n",
      "|Marcela,|    1|\n",
      "| estaban|    1|\n",
      "|     fin|    2|\n",
      "|      De|    5|\n",
      "|  cuento|    1|\n",
      "| cabrero|    1|\n",
      "|      de|   15|\n",
      "|     con|    6|\n",
      "|   contó|    1|\n",
      "|      al|    1|\n",
      "|     que|   11|\n",
      "|   Donde|    4|\n",
      "|      un|    1|\n",
      "|       a|    5|\n",
      "|      se|    5|\n",
      "|      la|   13|\n",
      "|     los|    2|\n",
      "| Quijote|    8|\n",
      "+--------+-----+\n",
      "only showing top 20 rows\n",
      "\n"
     ]
    },
    {
     "name": "stderr",
     "output_type": "stream",
     "text": [
      "                                                                                \r"
     ]
    },
    {
     "name": "stdout",
     "output_type": "stream",
     "text": [
      "-------------------------------------------\n",
      "Batch: 9\n",
      "-------------------------------------------\n",
      "+------------+-----+\n",
      "|        word|count|\n",
      "+------------+-----+\n",
      "|      versos|    1|\n",
      "|desesperados|    1|\n",
      "|         del|    3|\n",
      "|       ponen|    1|\n",
      "|   esperados|    1|\n",
      "|     pastor,|    1|\n",
      "|         con|    7|\n",
      "|     difunto|    1|\n",
      "|       Donde|    5|\n",
      "|          no|    1|\n",
      "|     sucesos|    3|\n",
      "|          se|    6|\n",
      "|         los|    3|\n",
      "|       otros|    3|\n",
      "+------------+-----+\n",
      "\n"
     ]
    },
    {
     "name": "stderr",
     "output_type": "stream",
     "text": [
      "                                                                                \r"
     ]
    },
    {
     "name": "stdout",
     "output_type": "stream",
     "text": [
      "-------------------------------------------\n",
      "Batch: 10\n",
      "-------------------------------------------\n",
      "+-----------+-----+\n",
      "|       word|count|\n",
      "+-----------+-----+\n",
      "|         en|    6|\n",
      "|        don|    9|\n",
      "|desgraciada|    1|\n",
      "|      topar|    1|\n",
      "|         De|    6|\n",
      "|     cuenta|    2|\n",
      "|        con|    8|\n",
      "|      venta|    2|\n",
      "|   aventura|    2|\n",
      "|    sucedió|    3|\n",
      "|         al|    2|\n",
      "|       unos|    2|\n",
      "|       topó|    1|\n",
      "|      Donde|    6|\n",
      "|        que|   13|\n",
      "|    hidalgo|    3|\n",
      "|  yangüeses|    2|\n",
      "|  ingenioso|    3|\n",
      "|         le|    4|\n",
      "|         se|    8|\n",
      "+-----------+-----+\n",
      "only showing top 20 rows\n",
      "\n"
     ]
    },
    {
     "name": "stderr",
     "output_type": "stream",
     "text": [
      "                                                                                \r"
     ]
    },
    {
     "name": "stdout",
     "output_type": "stream",
     "text": [
      "-------------------------------------------\n",
      "Batch: 11\n",
      "-------------------------------------------\n",
      "+------------+-----+\n",
      "|        word|count|\n",
      "+------------+-----+\n",
      "|          en|    7|\n",
      "|         don|   10|\n",
      "|    trabajos|    1|\n",
      "|innumerables|    1|\n",
      "|          él|    1|\n",
      "|   prosiguen|    1|\n",
      "|       bravo|    1|\n",
      "|   imaginaba|    1|\n",
      "|          el|    8|\n",
      "|       venta|    3|\n",
      "|          su|    2|\n",
      "|           y|    8|\n",
      "|    escudero|    1|\n",
      "|         que|   15|\n",
      "|       Donde|    7|\n",
      "|      Sancho|    1|\n",
      "|         ser|    1|\n",
      "|          se|    9|\n",
      "|        buen|    3|\n",
      "|       Panza|    1|\n",
      "+------------+-----+\n",
      "only showing top 20 rows\n",
      "\n"
     ]
    },
    {
     "name": "stderr",
     "output_type": "stream",
     "text": [
      "                                                                                \r"
     ]
    },
    {
     "name": "stdout",
     "output_type": "stream",
     "text": [
      "-------------------------------------------\n",
      "Batch: 12\n",
      "-------------------------------------------\n",
      "+---------+-----+\n",
      "|     word|count|\n",
      "+---------+-----+\n",
      "|     que,|    1|\n",
      "|    señor|    1|\n",
      "|  razones|    1|\n",
      "|      Don|    1|\n",
      "|     mal,|    1|\n",
      "|    otras|    1|\n",
      "|      era|    1|\n",
      "|      las|    1|\n",
      "|      por|    1|\n",
      "|     pasó|    1|\n",
      "|    pensó|    1|\n",
      "|   dignas|    1|\n",
      "|       de|   16|\n",
      "|      con|   10|\n",
      "|       su|    4|\n",
      "|aventuras|    1|\n",
      "| Quijote,|    1|\n",
      "|      que|   17|\n",
      "|    Donde|    8|\n",
      "|  cuentan|    1|\n",
      "+---------+-----+\n",
      "only showing top 20 rows\n",
      "\n"
     ]
    },
    {
     "name": "stderr",
     "output_type": "stream",
     "text": [
      "                                                                                \r"
     ]
    },
    {
     "name": "stdout",
     "output_type": "stream",
     "text": [
      "-------------------------------------------\n",
      "Batch: 13\n",
      "-------------------------------------------\n",
      "+---------+-----+\n",
      "|     word|count|\n",
      "+---------+-----+\n",
      "|   pasaba|    1|\n",
      "|  muerto,|    1|\n",
      "|       De|    7|\n",
      "|  razones|    2|\n",
      "|      las|    2|\n",
      "|       de|   17|\n",
      "| contadas|    1|\n",
      "|      con|   13|\n",
      "|       su|    5|\n",
      "| aventura|    3|\n",
      "|  sucedió|    4|\n",
      "|        y|    9|\n",
      "|      que|   19|\n",
      "|   Sancho|    3|\n",
      "|       un|    2|\n",
      "|   cuerpo|    1|\n",
      "|discretas|    1|\n",
      "|       le|    5|\n",
      "|       la|   17|\n",
      "|    otros|    4|\n",
      "+---------+-----+\n",
      "only showing top 20 rows\n",
      "\n"
     ]
    },
    {
     "name": "stderr",
     "output_type": "stream",
     "text": [
      "                                                                                \r"
     ]
    },
    {
     "name": "stdout",
     "output_type": "stream",
     "text": [
      "-------------------------------------------\n",
      "Batch: 14\n",
      "-------------------------------------------\n",
      "+---------------+-----+\n",
      "|           word|count|\n",
      "+---------------+-----+\n",
      "|             en|    8|\n",
      "|          jamás|    2|\n",
      "|           oída|    1|\n",
      "|        acabada|    1|\n",
      "|            fue|    1|\n",
      "|             De|    8|\n",
      "|             ni|    1|\n",
      "|acontecimientos|    1|\n",
      "|             de|   18|\n",
      "|        peligro|    2|\n",
      "|         mundo,|    1|\n",
      "|            con|   14|\n",
      "|             el|    9|\n",
      "|        famosos|    1|\n",
      "|           poco|    1|\n",
      "|       aventura|    4|\n",
      "|         famoso|    2|\n",
      "|          vista|    1|\n",
      "|      caballero|    5|\n",
      "|            que|   21|\n",
      "+---------------+-----+\n",
      "only showing top 20 rows\n",
      "\n"
     ]
    },
    {
     "name": "stderr",
     "output_type": "stream",
     "text": [
      "                                                                                \r"
     ]
    },
    {
     "name": "stdout",
     "output_type": "stream",
     "text": [
      "-------------------------------------------\n",
      "Batch: 15\n",
      "-------------------------------------------\n",
      "+----------+-----+\n",
      "|      word|count|\n",
      "+----------+-----+\n",
      "|       don|   11|\n",
      "|      rica|    1|\n",
      "|       del|    4|\n",
      "|   nuestro|    5|\n",
      "|invencible|    1|\n",
      "|    Mancha|    3|\n",
      "|     otras|    2|\n",
      "| sucedidas|    1|\n",
      "| Mambrino,|    1|\n",
      "|        de|   21|\n",
      "|     trata|    3|\n",
      "|       con|   15|\n",
      "|        el|   10|\n",
      "|     yelmo|    1|\n",
      "|  aventura|    5|\n",
      "|         y|   10|\n",
      "|     cosas|    1|\n",
      "|       Que|    2|\n",
      "|      alta|    1|\n",
      "|  ganancia|    1|\n",
      "+----------+-----+\n",
      "only showing top 20 rows\n",
      "\n"
     ]
    },
    {
     "name": "stderr",
     "output_type": "stream",
     "text": [
      "                                                                                \r"
     ]
    },
    {
     "name": "stdout",
     "output_type": "stream",
     "text": [
      "-------------------------------------------\n",
      "Batch: 16\n",
      "-------------------------------------------\n",
      "+-----------+-----+\n",
      "|       word|count|\n",
      "+-----------+-----+\n",
      "|        don|   12|\n",
      "|       que,|    2|\n",
      "|        mal|    1|\n",
      "|         De|    9|\n",
      "|      donde|    1|\n",
      "|     grado,|    1|\n",
      "|         de|   22|\n",
      "|         su|    6|\n",
      "|  caballero|    6|\n",
      "|   llevaban|    1|\n",
      "|  quisieran|    1|\n",
      "|        que|   22|\n",
      "|desdichados|    1|\n",
      "|     muchos|    1|\n",
      "|         no|    2|\n",
      "|   libertad|    1|\n",
      "|          a|    7|\n",
      "|         la|   22|\n",
      "|        los|    5|\n",
      "|    Quijote|   12|\n",
      "+-----------+-----+\n",
      "only showing top 20 rows\n",
      "\n"
     ]
    },
    {
     "name": "stderr",
     "output_type": "stream",
     "text": [
      "                                                                                \r"
     ]
    },
    {
     "name": "stdout",
     "output_type": "stream",
     "text": [
      "-------------------------------------------\n",
      "Batch: 17\n",
      "-------------------------------------------\n",
      "+---------+-----+\n",
      "|     word|count|\n",
      "+---------+-----+\n",
      "|       en|   10|\n",
      "|      una|    2|\n",
      "|      don|   13|\n",
      "|     esta|    1|\n",
      "|      fue|    2|\n",
      "|       ir|    1|\n",
      "|       De|   10|\n",
      "|    raras|    1|\n",
      "|      las|    3|\n",
      "|aconteció|    1|\n",
      "|  Morena,|    1|\n",
      "|       de|   23|\n",
      "|aventuras|    2|\n",
      "|   Sierra|    1|\n",
      "|   famoso|    3|\n",
      "|       al|    3|\n",
      "|      que|   25|\n",
      "|       le|    6|\n",
      "|  Quijote|   13|\n",
      "|       lo|    6|\n",
      "+---------+-----+\n",
      "only showing top 20 rows\n",
      "\n"
     ]
    },
    {
     "name": "stderr",
     "output_type": "stream",
     "text": [
      "                                                                                \r"
     ]
    },
    {
     "name": "stdout",
     "output_type": "stream",
     "text": [
      "-------------------------------------------\n",
      "Batch: 18\n",
      "-------------------------------------------\n",
      "+---------+-----+\n",
      "|     word|count|\n",
      "+---------+-----+\n",
      "|verdadera|    1|\n",
      "|       en|   11|\n",
      "| prosigue|    2|\n",
      "| historia|    1|\n",
      "|      las|    4|\n",
      "|       de|   25|\n",
      "|    trata|    4|\n",
      "|   Morena|    2|\n",
      "|   Sierra|    3|\n",
      "| aventura|    6|\n",
      "|    Donde|    9|\n",
      "|      que|   26|\n",
      "| estrañas|    1|\n",
      "|    cosas|    2|\n",
      "|      Que|    3|\n",
      "|  cuentan|    2|\n",
      "|       se|   12|\n",
      "|       la|   24|\n",
      "+---------+-----+\n",
      "\n"
     ]
    },
    {
     "name": "stderr",
     "output_type": "stream",
     "text": [
      "                                                                                \r"
     ]
    },
    {
     "name": "stdout",
     "output_type": "stream",
     "text": [
      "-------------------------------------------\n",
      "Batch: 19\n",
      "-------------------------------------------\n",
      "+-----------+-----+\n",
      "|       word|count|\n",
      "+-----------+-----+\n",
      "|Beltenebros|    1|\n",
      "| penitencia|    1|\n",
      "|  imitación|    1|\n",
      "|    Mancha,|    1|\n",
      "|        las|    5|\n",
      "|  prosiguen|    2|\n",
      "|  enamorado|    1|\n",
      "|         de|   29|\n",
      "|   valiente|    2|\n",
      "|       hizo|    3|\n",
      "|         al|    4|\n",
      "|  caballero|    7|\n",
      "|          y|   11|\n",
      "|        que|   28|\n",
      "|      Donde|   10|\n",
      "|          a|    8|\n",
      "|         se|   13|\n",
      "| sucedieron|    1|\n",
      "|    finezas|    1|\n",
      "|         la|   27|\n",
      "+-----------+-----+\n",
      "\n"
     ]
    },
    {
     "name": "stderr",
     "output_type": "stream",
     "text": [
      "                                                                                \r"
     ]
    },
    {
     "name": "stdout",
     "output_type": "stream",
     "text": [
      "-------------------------------------------\n",
      "Batch: 20\n",
      "-------------------------------------------\n",
      "+--------+-----+\n",
      "|    word|count|\n",
      "+--------+-----+\n",
      "|      en|   13|\n",
      "|     don|   14|\n",
      "|    esta|    2|\n",
      "| cuenten|    1|\n",
      "|      De|   11|\n",
      "|   otras|    3|\n",
      "|salieron|    1|\n",
      "|  dignas|    2|\n",
      "|      de|   30|\n",
      "|  Morena|    3|\n",
      "|     con|   17|\n",
      "|      el|   12|\n",
      "|      su|    7|\n",
      "|barbero,|    1|\n",
      "|  Sierra|    4|\n",
      "|       y|   12|\n",
      "|     que|   29|\n",
      "|   cosas|    3|\n",
      "|  grande|    2|\n",
      "|      se|   14|\n",
      "+--------+-----+\n",
      "only showing top 20 rows\n",
      "\n"
     ]
    },
    {
     "name": "stderr",
     "output_type": "stream",
     "text": [
      "                                                                                \r"
     ]
    },
    {
     "name": "stdout",
     "output_type": "stream",
     "text": [
      "-------------------------------------------\n",
      "Batch: 21\n",
      "-------------------------------------------\n",
      "+---------+-----+\n",
      "|     word|count|\n",
      "+---------+-----+\n",
      "|       en|   14|\n",
      "|   sierra|    1|\n",
      "| historia|    2|\n",
      "|    nueva|    1|\n",
      "|agradable|    1|\n",
      "|  barbero|    2|\n",
      "|       de|   31|\n",
      "|    trata|    5|\n",
      "| aventura|    7|\n",
      "|  sucedió|    5|\n",
      "|       al|    5|\n",
      "|        y|   14|\n",
      "|      que|   30|\n",
      "|      Que|    4|\n",
      "|     cura|    3|\n",
      "|       la|   29|\n",
      "|    mesma|    1|\n",
      "+---------+-----+\n",
      "\n"
     ]
    },
    {
     "name": "stderr",
     "output_type": "stream",
     "text": [
      "                                                                                \r"
     ]
    },
    {
     "name": "stdout",
     "output_type": "stream",
     "text": [
      "-------------------------------------------\n",
      "Batch: 22\n",
      "-------------------------------------------\n",
      "+----------+-----+\n",
      "|      word|count|\n",
      "+----------+-----+\n",
      "|       del|    5|\n",
      "| artificio|    1|\n",
      "|pasatiempo|    1|\n",
      "|   hermosa|    1|\n",
      "|discreción|    1|\n",
      "|     otras|    4|\n",
      "|  gracioso|    1|\n",
      "|      tuvo|    3|\n",
      "|     mucho|    1|\n",
      "|        de|   34|\n",
      "|     trata|    7|\n",
      "|       con|   18|\n",
      "|         y|   16|\n",
      "|       que|   31|\n",
      "|     cosas|    4|\n",
      "|       Que|    6|\n",
      "|     gusto|    1|\n",
      "|        se|   15|\n",
      "|     orden|    1|\n",
      "|        la|   31|\n",
      "+----------+-----+\n",
      "only showing top 20 rows\n",
      "\n"
     ]
    },
    {
     "name": "stderr",
     "output_type": "stream",
     "text": [
      "24/10/16 21:59:28 WARN TextSocketMicroBatchStream: Stream closed by localhost:9999\n",
      "                                                                                \r"
     ]
    },
    {
     "name": "stdout",
     "output_type": "stream",
     "text": [
      "-------------------------------------------\n",
      "Batch: 23\n",
      "-------------------------------------------\n",
      "+-------------+-----+\n",
      "|         word|count|\n",
      "+-------------+-----+\n",
      "|           en|   16|\n",
      "|       puesto|    1|\n",
      "|          don|   15|\n",
      "|   penitencia|    2|\n",
      "|      nuestro|    6|\n",
      "|           De|   12|\n",
      "|razonamientos|    1|\n",
      "|        entre|    1|\n",
      "|        había|    1|\n",
      "|    enamorado|    2|\n",
      "|        sacar|    1|\n",
      "|           de|   35|\n",
      "|     sabrosos|    1|\n",
      "|    caballero|    8|\n",
      "|          que|   33|\n",
      "|   asperísima|    1|\n",
      "|            a|    9|\n",
      "|           se|   16|\n",
      "|           la|   32|\n",
      "|      pasaron|    2|\n",
      "+-------------+-----+\n",
      "only showing top 20 rows\n",
      "\n"
     ]
    },
    {
     "name": "stderr",
     "output_type": "stream",
     "text": [
      "                                                                                \r"
     ]
    },
    {
     "name": "stdout",
     "output_type": "stream",
     "text": [
      "-------------------------------------------\n",
      "Batch: 24\n",
      "-------------------------------------------\n",
      "+---------+-----+\n",
      "|     word|count|\n",
      "+---------+-----+\n",
      "|       en|   17|\n",
      "|     toda|    1|\n",
      "|       de|   36|\n",
      "|    trata|    8|\n",
      "|      con|   19|\n",
      "|    venta|    4|\n",
      "|       su|    8|\n",
      "|  sucedió|    6|\n",
      "|        y|   17|\n",
      "|   Panza,|    1|\n",
      "|      que|   34|\n",
      "|      Que|    7|\n",
      "|   Sancho|    4|\n",
      "|  sucesos|    4|\n",
      "|        a|   10|\n",
      "|escudero,|    1|\n",
      "|       la|   34|\n",
      "|    otros|    5|\n",
      "|  Quijote|   15|\n",
      "|       lo|    7|\n",
      "+---------+-----+\n",
      "\n"
     ]
    }
   ],
   "source": [
    "from pyspark.sql.functions import explode, split\n",
    "\n",
    "words_data = socket_stream.select(split(\"value\", ' ').alias(\"words\"))\n",
    "\n",
    "word_count = words_data.select(\n",
    "     explode(\"words\").alias(\"word\")\n",
    " ).groupBy(\n",
    "     col(\"word\")\n",
    " ).count()\n",
    "\n",
    "#query = words.writeStream.format(\"console\").start()\n",
    "query = word_count.writeStream.outputMode(\"update\").format(\"console\").start()\n",
    "\n",
    "#query.awaitTermination()"
   ]
  },
  {
   "cell_type": "code",
   "execution_count": null,
   "metadata": {},
   "outputs": [],
   "source": []
  }
 ],
 "metadata": {
  "kernelspec": {
   "display_name": "pyspark",
   "language": "python",
   "name": "python3"
  },
  "language_info": {
   "codemirror_mode": {
    "name": "ipython",
    "version": 3
   },
   "file_extension": ".py",
   "mimetype": "text/x-python",
   "name": "python",
   "nbconvert_exporter": "python",
   "pygments_lexer": "ipython3",
   "version": "3.10.14"
  }
 },
 "nbformat": 4,
 "nbformat_minor": 2
}
