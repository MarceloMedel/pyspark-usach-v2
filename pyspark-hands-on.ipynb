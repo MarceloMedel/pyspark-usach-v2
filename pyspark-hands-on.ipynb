{
 "cells": [
  {
   "cell_type": "markdown",
   "metadata": {},
   "source": [
    "    # Clase - Computación Distribuida\n",
    "\n",
    "    ## Pyspark Hands-on \n",
    "    #### Marcelo Medel Vergara - Diplomado Data Engineer USACH"
   ]
  },
  {
   "cell_type": "markdown",
   "metadata": {},
   "source": [
    "## Instalación de librerías necesarias"
   ]
  },
  {
   "cell_type": "markdown",
   "metadata": {},
   "source": [
    "Si utilizas Anaconda para administrar ambientes de desarrollo la mejor vía para asegurar que funcionen correctamente las librerías es instalando directo desde Conda. Adicionalmente se instalan todas las librerías que necesita Spark.\n",
    "- `conda create -n pyspark-DE`\n",
    "- `conda activate pyspark-DE`\n",
    "- `conda install -c conda-forge pyspark python=3.10`\n",
    "\n",
    "De igual forma se puede instalar a través de PIP, pero sin asegurar funcionamiento correcto ni la instalación de dependencias. Adicionalmente será necesario tener instalado Pandas.\n",
    "- `conda create -n pyspark-DE python=3.10`\n",
    "- `conda activate pyspark-DE`\n",
    "- `pip install pyspark`\n",
    "- `pip install pandas`.\n",
    "\n",
    "Para Google Colab:\n",
    "- `!pip install pyspark`"
   ]
  },
  {
   "cell_type": "markdown",
   "metadata": {},
   "source": [
    "## SparkSession"
   ]
  },
  {
   "cell_type": "markdown",
   "metadata": {},
   "source": [
    "SparkSession es una clase en PySpark que existe desde la versión 2.0 (2016) que simplifica la forma de trabajar con Spark, tanto en las configuraciones como en la manipulación de datos estructurados. \n"
   ]
  },
  {
   "cell_type": "markdown",
   "metadata": {},
   "source": [
    "#### Funcionalidades principales de SparkSession:"
   ]
  },
  {
   "cell_type": "markdown",
   "metadata": {},
   "source": [
    "1. **Configura Spark**: Para profundizar en las configuraciones posibles de Spark, visite https://spark.apache.org/docs/latest/configuration.html.\n",
    "    - `SparkSession.builder.appName(\"some name\").**config(\"some config key,value\")**.getOrCreate()`\n",
    "    - `spark.conf.get(\"some config key\")`\n",
    "\n",
    "2. **Crear DataFrames**: permite leer y escribir (Input/Output) diversas fuentes de datos y crear DataFrames para la manipulación de datos.\n",
    "    - `spark.createDataFrame(data [, schema])`\n",
    "    - `spark.read.json(\"path to some json\")`\n",
    "\n",
    "3. **Ejecutar SQL**: facilita la ejecución de consultas en SQL sobre los DataFrames.\n",
    "    - `spark.sql(\"query to some view\")`\n",
    "    \n",
    "4. **Gestiona contexto de Spark**: facilita la configuración y acceso a diferentes componentes y funcionalidades de Spark\n",
    "    - `spark.sql.shuffle.partitions`\n",
    "    - `spark.executor.memory`\n",
    "    - `spark.catalog.listTables()`\n",
    "    - `spark.catalog.listColumns(\"someTable\")`\n",
    "    - `spark.udf.register(\"someName\", someUdf)`"
   ]
  },
  {
   "cell_type": "code",
   "execution_count": 5,
   "metadata": {},
   "outputs": [
    {
     "data": {
      "text/html": [
       "\n",
       "            <div>\n",
       "                <p><b>SparkSession - in-memory</b></p>\n",
       "                \n",
       "        <div>\n",
       "            <p><b>SparkContext</b></p>\n",
       "\n",
       "            <p><a href=\"http://192.168.100.26:4041\">Spark UI</a></p>\n",
       "\n",
       "            <dl>\n",
       "              <dt>Version</dt>\n",
       "                <dd><code>v3.5.1</code></dd>\n",
       "              <dt>Master</dt>\n",
       "                <dd><code>local[*]</code></dd>\n",
       "              <dt>AppName</dt>\n",
       "                <dd><code>hands-on-pyspark</code></dd>\n",
       "            </dl>\n",
       "        </div>\n",
       "        \n",
       "            </div>\n",
       "        "
      ],
      "text/plain": [
       "<pyspark.sql.session.SparkSession at 0x115d6f1c0>"
      ]
     },
     "execution_count": 5,
     "metadata": {},
     "output_type": "execute_result"
    }
   ],
   "source": [
    "from pyspark.sql import SparkSession\n",
    "\n",
    "spark = SparkSession.builder\\\n",
    "        .appName(\"hands-on-pyspark\")\\\n",
    "        .config(\"spark.executor.memory\",\"2g\")\\\n",
    "        .getOrCreate()\n",
    "\n",
    "spark.sparkContext.setLogLevel(\"ERROR\") #ALL, OFF, ERROR, DEBUG, INFO, WARN\n",
    "spark.active()"
   ]
  },
  {
   "cell_type": "code",
   "execution_count": 6,
   "metadata": {},
   "outputs": [
    {
     "data": {
      "text/plain": [
       "'2g'"
      ]
     },
     "execution_count": 6,
     "metadata": {},
     "output_type": "execute_result"
    }
   ],
   "source": [
    "spark.conf.get(\"spark.executor.memory\")"
   ]
  },
  {
   "cell_type": "code",
   "execution_count": 7,
   "metadata": {},
   "outputs": [
    {
     "data": {
      "text/plain": [
       "[('spark.app.name', 'hands-on-pyspark'),\n",
       " ('spark.executor.memory', '2g'),\n",
       " ('spark.driver.extraJavaOptions',\n",
       "  '-Djava.net.preferIPv6Addresses=false -XX:+IgnoreUnrecognizedVMOptions --add-opens=java.base/java.lang=ALL-UNNAMED --add-opens=java.base/java.lang.invoke=ALL-UNNAMED --add-opens=java.base/java.lang.reflect=ALL-UNNAMED --add-opens=java.base/java.io=ALL-UNNAMED --add-opens=java.base/java.net=ALL-UNNAMED --add-opens=java.base/java.nio=ALL-UNNAMED --add-opens=java.base/java.util=ALL-UNNAMED --add-opens=java.base/java.util.concurrent=ALL-UNNAMED --add-opens=java.base/java.util.concurrent.atomic=ALL-UNNAMED --add-opens=java.base/jdk.internal.ref=ALL-UNNAMED --add-opens=java.base/sun.nio.ch=ALL-UNNAMED --add-opens=java.base/sun.nio.cs=ALL-UNNAMED --add-opens=java.base/sun.security.action=ALL-UNNAMED --add-opens=java.base/sun.util.calendar=ALL-UNNAMED --add-opens=java.security.jgss/sun.security.krb5=ALL-UNNAMED -Djdk.reflect.useDirectMethodHandle=false'),\n",
       " ('spark.app.id', 'local-1724112625074'),\n",
       " ('spark.app.submitTime', '1724112624458'),\n",
       " ('spark.app.startTime', '1724112624523'),\n",
       " ('spark.executor.id', 'driver'),\n",
       " ('spark.sql.warehouse.dir',\n",
       "  'file:/Users/marcelomedel/Library/CloudStorage/GoogleDrive-marcelo.medel.v@gmail.com/My%20Drive/github_repos/personal/clases/PYSPARK-DE-USACH/spark-warehouse'),\n",
       " ('spark.driver.host', '192.168.100.26'),\n",
       " ('spark.rdd.compress', 'True'),\n",
       " ('spark.executor.extraJavaOptions',\n",
       "  '-Djava.net.preferIPv6Addresses=false -XX:+IgnoreUnrecognizedVMOptions --add-opens=java.base/java.lang=ALL-UNNAMED --add-opens=java.base/java.lang.invoke=ALL-UNNAMED --add-opens=java.base/java.lang.reflect=ALL-UNNAMED --add-opens=java.base/java.io=ALL-UNNAMED --add-opens=java.base/java.net=ALL-UNNAMED --add-opens=java.base/java.nio=ALL-UNNAMED --add-opens=java.base/java.util=ALL-UNNAMED --add-opens=java.base/java.util.concurrent=ALL-UNNAMED --add-opens=java.base/java.util.concurrent.atomic=ALL-UNNAMED --add-opens=java.base/jdk.internal.ref=ALL-UNNAMED --add-opens=java.base/sun.nio.ch=ALL-UNNAMED --add-opens=java.base/sun.nio.cs=ALL-UNNAMED --add-opens=java.base/sun.security.action=ALL-UNNAMED --add-opens=java.base/sun.util.calendar=ALL-UNNAMED --add-opens=java.security.jgss/sun.security.krb5=ALL-UNNAMED -Djdk.reflect.useDirectMethodHandle=false'),\n",
       " ('spark.serializer.objectStreamReset', '100'),\n",
       " ('spark.driver.port', '63808'),\n",
       " ('spark.master', 'local[*]'),\n",
       " ('spark.submit.pyFiles', ''),\n",
       " ('spark.submit.deployMode', 'client'),\n",
       " ('spark.ui.showConsoleProgress', 'true')]"
      ]
     },
     "execution_count": 7,
     "metadata": {},
     "output_type": "execute_result"
    }
   ],
   "source": [
    "spark.sparkContext.getConf().getAll()"
   ]
  },
  {
   "cell_type": "markdown",
   "metadata": {},
   "source": [
    "## DataFrame en Spark"
   ]
  },
  {
   "cell_type": "markdown",
   "metadata": {},
   "source": [
    "Un DataFrame es una estructura de datos bidimensional similar a cualquier tabla en una base de datos estructurada. Algunas de las características que tiene un DataFrame en PySpark son:\n",
    "- **Distribuido**: Los datos están distribuidos en un clúster de nodos, lo que permite el procesamiento paralelo.\n",
    "\n",
    "- **Inmutable**: Cada transformación produce un nuevo DataFrame.\n",
    "\n",
    "- **SQL**: Permite operaciones tipo SQL y ofrece una interfaz similar a Pandas pero a gran escala.\n",
    "\n",
    "- **Conexiones diversas**: Puede leer datos de múltiples fuentes (ej: JSON, CSV, Parquet, JDBC).\n",
    "\n",
    "- **Optimización Automática**: Utiliza *Catalyst Optimizer* para optimizar automáticamente las consultas."
   ]
  },
  {
   "cell_type": "markdown",
   "metadata": {},
   "source": [
    "### Creación de un DataFrame"
   ]
  },
  {
   "cell_type": "code",
   "execution_count": 25,
   "metadata": {},
   "outputs": [],
   "source": [
    "from datetime import date\n",
    "data = [\n",
    "    {\n",
    "        \"nombre\":\"Marcelo\",\n",
    "        \"nacimiento\": date(1987,10,7),\n",
    "        \"mail\":\"marcelo@gmail.com\",\n",
    "        \"x\":5689,\n",
    "        \"y\":15.26,\n",
    "        \"active\":True\n",
    "    },\n",
    "    {\n",
    "        \"nombre\":\"Andrea\",\n",
    "        \"nacimiento\": date(1990,8,19),\n",
    "        \"mail\":\"andre@gmail.com\",\n",
    "        \"x\":4510,\n",
    "        \"y\":14.058,\n",
    "        \"active\":False\n",
    "    },\n",
    "    {\n",
    "        \"nombre\":\"Juan\",\n",
    "        \"nacimiento\": date(2000,9,7),\n",
    "        \"mail\":\"juan@gmail.com\",\n",
    "        \"x\":3000,\n",
    "        \"y\":1.2,\n",
    "        \"active\":True\n",
    "    }\n",
    "]\n",
    "\n",
    "df1 = spark.createDataFrame(data)\n"
   ]
  },
  {
   "cell_type": "code",
   "execution_count": 10,
   "metadata": {},
   "outputs": [
    {
     "name": "stderr",
     "output_type": "stream",
     "text": [
      "                                                                                \r"
     ]
    },
    {
     "name": "stdout",
     "output_type": "stream",
     "text": [
      "+------+------+----------+-------+----+------+\n",
      "|active|género|nacimiento| nombre|   x|     y|\n",
      "+------+------+----------+-------+----+------+\n",
      "|  true|     M|1987-10-07|Marcelo|5689| 15.26|\n",
      "| false|     F|1990-08-19| Andrea|4510|14.058|\n",
      "|  true|     M|2000-09-07|   Juan|3000|   1.2|\n",
      "+------+------+----------+-------+----+------+\n",
      "\n"
     ]
    }
   ],
   "source": [
    "df1.show()"
   ]
  },
  {
   "cell_type": "code",
   "execution_count": 11,
   "metadata": {},
   "outputs": [
    {
     "name": "stdout",
     "output_type": "stream",
     "text": [
      "+------+------+----------+-------+----+-----+\n",
      "|active|género|nacimiento| nombre|   x|    y|\n",
      "+------+------+----------+-------+----+-----+\n",
      "|  true|     M|1987-10-07|Marcelo|5689|15.26|\n",
      "+------+------+----------+-------+----+-----+\n",
      "\n"
     ]
    }
   ],
   "source": [
    "df1.limit(1).show()"
   ]
  },
  {
   "cell_type": "code",
   "execution_count": 19,
   "metadata": {},
   "outputs": [
    {
     "name": "stdout",
     "output_type": "stream",
     "text": [
      "+-------+----------+--------------------+----+------+------+\n",
      "| nombre|nacimiento|                mail|   x|     y|active|\n",
      "+-------+----------+--------------------+----+------+------+\n",
      "|Marcelo|1987-10-07|marcelo.medel.v@g...|2356| 23.56|  true|\n",
      "| Andrea|1990-08-19|    andrea@gmail.com|6352|  1.56| false|\n",
      "|   Juan|2000-09-19|      juan@gmail.com|5555|222.56| false|\n",
      "+-------+----------+--------------------+----+------+------+\n",
      "\n"
     ]
    }
   ],
   "source": [
    "from pyspark.sql import Row\n",
    "\n",
    "df2 = spark.createDataFrame([\n",
    "    Row(nombre=\"Marcelo\", nacimiento=date(1987,10,7), mail=\"marcelo.medel.v@gmail.com\", x=2356, y=23.56, active=True),\n",
    "    Row(nombre=\"Andrea\", nacimiento=date(1990,8,19), mail=\"andrea@gmail.com\", x=6352, y=1.56, active=False),\n",
    "    Row(nombre=\"Juan\", nacimiento=date(2000,9,19), mail=\"juan@gmail.com\", x=5555, y=222.56, active=False)\n",
    "])\n",
    "\n",
    "df2.show()"
   ]
  },
  {
   "cell_type": "code",
   "execution_count": 20,
   "metadata": {},
   "outputs": [
    {
     "name": "stdout",
     "output_type": "stream",
     "text": [
      "root\n",
      " |-- active: boolean (nullable = true)\n",
      " |-- género: string (nullable = true)\n",
      " |-- nacimiento: date (nullable = true)\n",
      " |-- nombre: string (nullable = true)\n",
      " |-- x: long (nullable = true)\n",
      " |-- y: double (nullable = true)\n",
      "\n",
      "root\n",
      " |-- nombre: string (nullable = true)\n",
      " |-- nacimiento: date (nullable = true)\n",
      " |-- mail: string (nullable = true)\n",
      " |-- x: long (nullable = true)\n",
      " |-- y: double (nullable = true)\n",
      " |-- active: boolean (nullable = true)\n",
      "\n"
     ]
    }
   ],
   "source": [
    "df1.printSchema()\n",
    "df2.printSchema()"
   ]
  },
  {
   "cell_type": "markdown",
   "metadata": {},
   "source": []
  },
  {
   "cell_type": "markdown",
   "metadata": {},
   "source": [
    "### Data Types"
   ]
  },
  {
   "cell_type": "code",
   "execution_count": 27,
   "metadata": {},
   "outputs": [
    {
     "name": "stdout",
     "output_type": "stream",
     "text": [
      "+---------------+----------+----+---+---+------+\n",
      "|nombre_completo|nacimiento|mail|  x|  y|active|\n",
      "+---------------+----------+----+---+---+------+\n",
      "+---------------+----------+----+---+---+------+\n",
      "\n",
      "root\n",
      " |-- nombre_completo: struct (nullable = true)\n",
      " |    |-- nombre: string (nullable = false)\n",
      " |    |-- apellido: string (nullable = false)\n",
      " |-- nacimiento: date (nullable = true)\n",
      " |-- mail: string (nullable = true)\n",
      " |-- x: integer (nullable = false)\n",
      " |-- y: float (nullable = false)\n",
      " |-- active: boolean (nullable = false)\n",
      "\n"
     ]
    }
   ],
   "source": [
    "from pyspark.sql.types import (\n",
    "    StringType, #texto\n",
    "    IntegerType, # entero\n",
    "    DateType, # datetime.date\n",
    "    FloatType, # 2.33\n",
    "    DecimalType, # DecimalType(10,2)\n",
    "    BooleanType, #True or False\n",
    "    ArrayType, # Lista, tupla...\n",
    "    StructType, # colección de StructField\n",
    "    StructField, # un campo estructurado\n",
    "    MapType,\n",
    "    LongType,\n",
    "    DoubleType\n",
    ")\n",
    "\n",
    "cols = [\n",
    "    #StructField(\"nombre\", StringType(), False),\n",
    "    StructField(\"nombre_completo\", StructType([\n",
    "        StructField(\"nombre\", StringType(), False),\n",
    "        StructField(\"apellido\", StringType(), False)\n",
    "    ]) ),\n",
    "    StructField(\"nacimiento\", DateType(), True),\n",
    "    StructField(\"mail\", StringType(), True),\n",
    "    StructField(\"x\", IntegerType(), False),\n",
    "    StructField(\"y\", FloatType(), False),\n",
    "    StructField(\"active\", BooleanType(), False),\n",
    "]\n",
    "\n",
    "schema = StructType(cols)\n",
    "\n",
    "df3 = spark.createDataFrame([], schema)\n",
    "\n",
    "df3.show()\n",
    "df3.printSchema()"
   ]
  },
  {
   "cell_type": "code",
   "execution_count": 32,
   "metadata": {},
   "outputs": [
    {
     "name": "stdout",
     "output_type": "stream",
     "text": [
      "+-----------------+----------+-----------------+----+------+------+\n",
      "|  nombre_completo|nacimiento|             mail|   x|     y|active|\n",
      "+-----------------+----------+-----------------+----+------+------+\n",
      "| {Marcelo, Medel}|1987-10-07|marcelo@gmail.com|5689| 15.26|  true|\n",
      "|{Andrea, Vergara}|1990-08-19|  andre@gmail.com|4510|14.058| false|\n",
      "| {Juan, Bautista}|2000-09-07|   juan@gmail.com|3000|   1.2|  true|\n",
      "+-----------------+----------+-----------------+----+------+------+\n",
      "\n",
      "root\n",
      " |-- nombre_completo: struct (nullable = true)\n",
      " |    |-- nombre: string (nullable = false)\n",
      " |    |-- apellido: string (nullable = false)\n",
      " |-- nacimiento: date (nullable = true)\n",
      " |-- mail: string (nullable = true)\n",
      " |-- x: integer (nullable = false)\n",
      " |-- y: float (nullable = false)\n",
      " |-- active: boolean (nullable = false)\n",
      "\n"
     ]
    }
   ],
   "source": [
    "data = [\n",
    "    {\n",
    "        \"nombre_completo\":[\"Marcelo\",\"Medel\"],\n",
    "        \"nacimiento\": date(1987,10,7),\n",
    "        \"mail\":\"marcelo@gmail.com\",\n",
    "        \"x\":5689,\n",
    "        \"y\":15.26,\n",
    "        \"active\":True\n",
    "    },\n",
    "    {\n",
    "        \"nombre_completo\":[\"Andrea\",\"Vergara\"],\n",
    "        \"nacimiento\": date(1990,8,19),\n",
    "        \"mail\":\"andre@gmail.com\",\n",
    "        \"x\":4510,\n",
    "        \"y\":14.058,\n",
    "        \"active\":False\n",
    "    },\n",
    "    {\n",
    "        \"nombre_completo\":[\"Juan\",\"Bautista\"],\n",
    "        \"nacimiento\": date(2000,9,7),\n",
    "        \"mail\":\"juan@gmail.com\",\n",
    "        \"x\":3000,\n",
    "        \"y\":1.2,\n",
    "        \"active\":True\n",
    "    }\n",
    "]\n",
    "\n",
    "df = spark.createDataFrame(data,schema)\n",
    "df.show()\n",
    "df.printSchema()"
   ]
  },
  {
   "cell_type": "markdown",
   "metadata": {},
   "source": [
    "## Operaciones básicas sobre un DataFrame"
   ]
  },
  {
   "cell_type": "markdown",
   "metadata": {},
   "source": [
    "### Select, Columns y Expressions"
   ]
  },
  {
   "cell_type": "markdown",
   "metadata": {},
   "source": [
    "***Select*** permite seleccionar un set de columnas y también puede ser usado para renombrar o aplicar *expresiones* a las columnas.\n",
    "\n",
    "***Columns*** en Spark hace referencia a cualquier columna conocida en algun RDBMS, planilla de excel, pandas dataframes, etc. Estas columnas pueden ser seleccionadas, manipuladas o removidas de un DataFrame, por lo que estas operaciones son representadas como ***expressions***\n",
    "\n",
    "-  `col` y `column` son utilizadas para referencias a columnas en un DataFrame\n",
    "- `expr` es utilizado para crear expresiones mas complejas, recibe un string con SQL para ejecutar la operación.\n"
   ]
  },
  {
   "cell_type": "code",
   "execution_count": 39,
   "metadata": {},
   "outputs": [
    {
     "name": "stdout",
     "output_type": "stream",
     "text": [
      "+-----------------+-----------------+-----------------+-----------------+-----------------+-----------------+\n",
      "|  nombre_completo|  nombre_completo|  nombre_completo|  nombre_completo|  nombre_completo|  nombre_completo|\n",
      "+-----------------+-----------------+-----------------+-----------------+-----------------+-----------------+\n",
      "| {Marcelo, Medel}| {Marcelo, Medel}| {Marcelo, Medel}| {Marcelo, Medel}| {Marcelo, Medel}| {Marcelo, Medel}|\n",
      "|{Andrea, Vergara}|{Andrea, Vergara}|{Andrea, Vergara}|{Andrea, Vergara}|{Andrea, Vergara}|{Andrea, Vergara}|\n",
      "| {Juan, Bautista}| {Juan, Bautista}| {Juan, Bautista}| {Juan, Bautista}| {Juan, Bautista}| {Juan, Bautista}|\n",
      "+-----------------+-----------------+-----------------+-----------------+-----------------+-----------------+\n",
      "\n"
     ]
    }
   ],
   "source": [
    "from pyspark.sql.functions import col, column, expr\n",
    "\n",
    "df.select('nombre_completo'\n",
    "          ,df.nombre_completo\n",
    "          ,df['nombre_completo']\n",
    "          ,col(\"nombre_completo\")\n",
    "          ,column(\"nombre_completo\")\n",
    "          ,expr(\"nombre_completo\")\n",
    "          ).show()"
   ]
  },
  {
   "cell_type": "code",
   "execution_count": 40,
   "metadata": {},
   "outputs": [
    {
     "name": "stdout",
     "output_type": "stream",
     "text": [
      "+-------+--------+--------+--------+--------+\n",
      "| nombre|apellido|apellido|apellido|apellido|\n",
      "+-------+--------+--------+--------+--------+\n",
      "|Marcelo|   Medel|   Medel|   Medel|   Medel|\n",
      "| Andrea| Vergara| Vergara| Vergara| Vergara|\n",
      "|   Juan|Bautista|Bautista|Bautista|Bautista|\n",
      "+-------+--------+--------+--------+--------+\n",
      "\n"
     ]
    }
   ],
   "source": [
    "df.select('nombre_completo.*'\n",
    "        ,'nombre_completo.apellido'\n",
    "        ,col('nombre_completo.apellido')\n",
    "        ,expr('nombre_completo.apellido')\n",
    "        ).show()\n"
   ]
  },
  {
   "cell_type": "code",
   "execution_count": 41,
   "metadata": {},
   "outputs": [
    {
     "name": "stdout",
     "output_type": "stream",
     "text": [
      "+-----------------+----------+-----------------+----+------+------+--------+\n",
      "|  nombre_completo|nacimiento|             mail|   x|     y|active|pago_iva|\n",
      "+-----------------+----------+-----------------+----+------+------+--------+\n",
      "| {Marcelo, Medel}|1987-10-07|marcelo@gmail.com|5689| 15.26|  true| 6769.91|\n",
      "|{Andrea, Vergara}|1990-08-19|  andre@gmail.com|4510|14.058| false| 5366.90|\n",
      "| {Juan, Bautista}|2000-09-07|   juan@gmail.com|3000|   1.2|  true| 3570.00|\n",
      "+-----------------+----------+-----------------+----+------+------+--------+\n",
      "\n"
     ]
    }
   ],
   "source": [
    "df.select(\n",
    "    expr(\"*\"),\n",
    "    expr(\"x*1.19 as pago_iva\")\n",
    ").show()"
   ]
  },
  {
   "cell_type": "code",
   "execution_count": 42,
   "metadata": {},
   "outputs": [
    {
     "name": "stdout",
     "output_type": "stream",
     "text": [
      "+-----------------+----------+-----------------+----+------+------+--------+\n",
      "|  nombre_completo|nacimiento|             mail|   x|     y|active|pago_iva|\n",
      "+-----------------+----------+-----------------+----+------+------+--------+\n",
      "| {Marcelo, Medel}|1987-10-07|marcelo@gmail.com|5689| 15.26|  true| 6769.91|\n",
      "|{Andrea, Vergara}|1990-08-19|  andre@gmail.com|4510|14.058| false| 5366.90|\n",
      "| {Juan, Bautista}|2000-09-07|   juan@gmail.com|3000|   1.2|  true| 3570.00|\n",
      "+-----------------+----------+-----------------+----+------+------+--------+\n",
      "\n"
     ]
    }
   ],
   "source": [
    "df.selectExpr(\"*\",\"x*1.19 as pago_iva\").show()"
   ]
  },
  {
   "cell_type": "code",
   "execution_count": 47,
   "metadata": {},
   "outputs": [
    {
     "name": "stdout",
     "output_type": "stream",
     "text": [
      "+-------------+-------------+---------------+\n",
      "|avg(pago_iva)|max(pago_iva)|min(nacimiento)|\n",
      "+-------------+-------------+---------------+\n",
      "|  5235.603333|      6769.91|     1987-10-07|\n",
      "+-------------+-------------+---------------+\n",
      "\n"
     ]
    }
   ],
   "source": [
    "df.selectExpr(\"*\",\"x*1.19 as pago_iva\").selectExpr(\"avg(pago_iva)\", \"max(pago_iva)\", \"min(nacimiento)\").show()"
   ]
  },
  {
   "cell_type": "markdown",
   "metadata": {},
   "source": [
    "### Literals, withColumn, withColumnRenamed y alias"
   ]
  },
  {
   "cell_type": "code",
   "execution_count": 53,
   "metadata": {},
   "outputs": [
    {
     "name": "stdout",
     "output_type": "stream",
     "text": [
      "+-----------------+----------+-----------------+----+------+------+----+\n",
      "|  nombre_completo|nacimiento|             mail|   x|     y|active|flag|\n",
      "+-----------------+----------+-----------------+----+------+------+----+\n",
      "| {Marcelo, Medel}|1987-10-07|marcelo@gmail.com|5689| 15.26|  true|   1|\n",
      "|{Andrea, Vergara}|1990-08-19|  andre@gmail.com|4510|14.058| false|   1|\n",
      "| {Juan, Bautista}|2000-09-07|   juan@gmail.com|3000|   1.2|  true|   1|\n",
      "+-----------------+----------+-----------------+----+------+------+----+\n",
      "\n",
      "+-----------------+----------+-----------------+----+------+------+----+\n",
      "|  nombre_completo|nacimiento|             mail|   x|     y|active|flag|\n",
      "+-----------------+----------+-----------------+----+------+------+----+\n",
      "| {Marcelo, Medel}|1987-10-07|marcelo@gmail.com|5689| 15.26|  true|   1|\n",
      "|{Andrea, Vergara}|1990-08-19|  andre@gmail.com|4510|14.058| false|   1|\n",
      "| {Juan, Bautista}|2000-09-07|   juan@gmail.com|3000|   1.2|  true|   1|\n",
      "+-----------------+----------+-----------------+----+------+------+----+\n",
      "\n"
     ]
    }
   ],
   "source": [
    "from pyspark.sql.functions import lit\n",
    "\n",
    "#df.selectExpr(\"*\",\"x*1.19 as pago_iva\", lit(1).alias(\"flag\")).show()\n",
    "df.select(expr(\"*\"), lit(1).alias(\"flag\")).show()\n",
    "\n",
    "df.selectExpr(\"*\", \"1 as flag\").show()"
   ]
  },
  {
   "cell_type": "code",
   "execution_count": 56,
   "metadata": {},
   "outputs": [
    {
     "name": "stdout",
     "output_type": "stream",
     "text": [
      "+-----------------+----------+-----------------+----+------+------+----+\n",
      "|  nombre_completo|nacimiento|             mail|   x|     y|active|flag|\n",
      "+-----------------+----------+-----------------+----+------+------+----+\n",
      "| {Marcelo, Medel}|1987-10-07|marcelo@gmail.com|5689| 15.26|  true|   1|\n",
      "|{Andrea, Vergara}|1990-08-19|  andre@gmail.com|4510|14.058| false|   1|\n",
      "| {Juan, Bautista}|2000-09-07|   juan@gmail.com|3000|   1.2|  true|   1|\n",
      "+-----------------+----------+-----------------+----+------+------+----+\n",
      "\n"
     ]
    }
   ],
   "source": [
    "df.withColumn(\"flag\",lit(1)).show()"
   ]
  },
  {
   "cell_type": "code",
   "execution_count": 61,
   "metadata": {},
   "outputs": [
    {
     "name": "stdout",
     "output_type": "stream",
     "text": [
      "+-------+\n",
      "| nombre|\n",
      "+-------+\n",
      "|Marcelo|\n",
      "| Andrea|\n",
      "|   Juan|\n",
      "+-------+\n",
      "\n",
      "+-----------------+----------+-----------------+----+------+------+\n",
      "|           nombre|nacimiento|             mail|   x|     y|active|\n",
      "+-----------------+----------+-----------------+----+------+------+\n",
      "| {Marcelo, Medel}|1987-10-07|marcelo@gmail.com|5689| 15.26|  true|\n",
      "|{Andrea, Vergara}|1990-08-19|  andre@gmail.com|4510|14.058| false|\n",
      "| {Juan, Bautista}|2000-09-07|   juan@gmail.com|3000|   1.2|  true|\n",
      "+-----------------+----------+-----------------+----+------+------+\n",
      "\n"
     ]
    }
   ],
   "source": [
    "df.withColumnRenamed(\"nombre_completo\",\"nombre\").select(\"nombre.nombre\").show()\n",
    "df =  df.withColumnRenamed(\"nombre_completo\",\"nombre\")\n",
    "df.show()"
   ]
  },
  {
   "cell_type": "code",
   "execution_count": 64,
   "metadata": {},
   "outputs": [
    {
     "name": "stdout",
     "output_type": "stream",
     "text": [
      "+-----------------+----------+-----------------+----+------+------+\n",
      "|           nombre|nacimiento|             mail|pago|   uso|active|\n",
      "+-----------------+----------+-----------------+----+------+------+\n",
      "| {Marcelo, Medel}|1987-10-07|marcelo@gmail.com|5689| 15.26|  true|\n",
      "|{Andrea, Vergara}|1990-08-19|  andre@gmail.com|4510|14.058| false|\n",
      "| {Juan, Bautista}|2000-09-07|   juan@gmail.com|3000|   1.2|  true|\n",
      "+-----------------+----------+-----------------+----+------+------+\n",
      "\n"
     ]
    }
   ],
   "source": [
    "df = df.withColumnsRenamed({\"nombre_completo\":\"nombre\",\n",
    "                       \"x\":\"pago\",\n",
    "                       \"y\":\"uso\"})\n",
    "df.show()"
   ]
  },
  {
   "cell_type": "markdown",
   "metadata": {},
   "source": [
    "### Filter, where, drop y cast"
   ]
  },
  {
   "cell_type": "code",
   "execution_count": 73,
   "metadata": {},
   "outputs": [
    {
     "name": "stdout",
     "output_type": "stream",
     "text": [
      "+----------------+----------+-----------------+----+-----+------+\n",
      "|          nombre|nacimiento|             mail|pago|  uso|active|\n",
      "+----------------+----------+-----------------+----+-----+------+\n",
      "|{Marcelo, Medel}|1987-10-07|marcelo@gmail.com|5689|15.26|  true|\n",
      "+----------------+----------+-----------------+----+-----+------+\n",
      "\n",
      "+----------------+----------+-----------------+----+-----+------+\n",
      "|          nombre|nacimiento|             mail|pago|  uso|active|\n",
      "+----------------+----------+-----------------+----+-----+------+\n",
      "|{Marcelo, Medel}|1987-10-07|marcelo@gmail.com|5689|15.26|  true|\n",
      "+----------------+----------+-----------------+----+-----+------+\n",
      "\n"
     ]
    }
   ],
   "source": [
    "#df.filter(df.active).show()\n",
    "#df.filter(\"active\").show()\n",
    "#df.filter(\"active = True\").show()\n",
    "#df.filter(\"active = 'false'\").show()\n",
    "#df.filter(\"active = 0\").show()\n",
    "\n",
    "df.filter(\"pago > 5000\").show()\n",
    "df.filter(df.pago > 5000).show()"
   ]
  },
  {
   "cell_type": "code",
   "execution_count": 74,
   "metadata": {},
   "outputs": [
    {
     "name": "stdout",
     "output_type": "stream",
     "text": [
      "+----------------+----------+-----------------+----+-----+------+\n",
      "|          nombre|nacimiento|             mail|pago|  uso|active|\n",
      "+----------------+----------+-----------------+----+-----+------+\n",
      "|{Marcelo, Medel}|1987-10-07|marcelo@gmail.com|5689|15.26|  true|\n",
      "+----------------+----------+-----------------+----+-----+------+\n",
      "\n",
      "+----------------+----------+-----------------+----+-----+------+\n",
      "|          nombre|nacimiento|             mail|pago|  uso|active|\n",
      "+----------------+----------+-----------------+----+-----+------+\n",
      "|{Marcelo, Medel}|1987-10-07|marcelo@gmail.com|5689|15.26|  true|\n",
      "+----------------+----------+-----------------+----+-----+------+\n",
      "\n",
      "+----------------+----------+-----------------+----+-----+------+\n",
      "|          nombre|nacimiento|             mail|pago|  uso|active|\n",
      "+----------------+----------+-----------------+----+-----+------+\n",
      "|{Marcelo, Medel}|1987-10-07|marcelo@gmail.com|5689|15.26|  true|\n",
      "|{Juan, Bautista}|2000-09-07|   juan@gmail.com|3000|  1.2|  true|\n",
      "+----------------+----------+-----------------+----+-----+------+\n",
      "\n"
     ]
    }
   ],
   "source": [
    "df.where(\"pago > 5000\").show()\n",
    "df.where(df.pago > 5000).show()\n",
    "df.where(\"active = 1\").show()"
   ]
  },
  {
   "cell_type": "code",
   "execution_count": 82,
   "metadata": {},
   "outputs": [
    {
     "name": "stdout",
     "output_type": "stream",
     "text": [
      "+-----------------+----------+-----------------+----+------+------+--------+\n",
      "|           nombre|nacimiento|             mail|pago|   uso|active|pago_iva|\n",
      "+-----------------+----------+-----------------+----+------+------+--------+\n",
      "| {Marcelo, Medel}|1987-10-07|marcelo@gmail.com|5689| 15.26|  true| 6769.91|\n",
      "|{Andrea, Vergara}|1990-08-19|  andre@gmail.com|4510|14.058| false| 5366.90|\n",
      "+-----------------+----------+-----------------+----+------+------+--------+\n",
      "\n"
     ]
    }
   ],
   "source": [
    "df.selectExpr(\"*\", \"pago*1.19 as pago_iva\").where(\"pago_iva > 5000\").show()"
   ]
  },
  {
   "cell_type": "code",
   "execution_count": 88,
   "metadata": {},
   "outputs": [
    {
     "name": "stdout",
     "output_type": "stream",
     "text": [
      "+-----------------+----------+-----------------+----+------+------+--------+\n",
      "|           nombre|nacimiento|             mail|pago|   uso|active|pago_str|\n",
      "+-----------------+----------+-----------------+----+------+------+--------+\n",
      "| {Marcelo, Medel}|1987-10-07|marcelo@gmail.com|5689| 15.26|  true|    5689|\n",
      "|{Andrea, Vergara}|1990-08-19|  andre@gmail.com|4510|14.058| false|    4510|\n",
      "| {Juan, Bautista}|2000-09-07|   juan@gmail.com|3000|   1.2|  true|    3000|\n",
      "+-----------------+----------+-----------------+----+------+------+--------+\n",
      "\n"
     ]
    }
   ],
   "source": [
    "#df.withColumn(\"pago_str\", col(\"pago\").cast(\"string\")).show()\n",
    "df = df.withColumn(\"pago_str\", col(\"pago\").cast(\"string\"))\n",
    "df.show()"
   ]
  },
  {
   "cell_type": "code",
   "execution_count": 92,
   "metadata": {},
   "outputs": [
    {
     "name": "stdout",
     "output_type": "stream",
     "text": [
      "root\n",
      " |-- nombre: struct (nullable = true)\n",
      " |    |-- nombre: string (nullable = false)\n",
      " |    |-- apellido: string (nullable = false)\n",
      " |-- nacimiento: date (nullable = true)\n",
      " |-- mail: string (nullable = true)\n",
      " |-- pago: integer (nullable = false)\n",
      " |-- uso: float (nullable = false)\n",
      "\n"
     ]
    }
   ],
   "source": [
    "df = df.drop(\"pago_str\", \"active\")\n",
    "df.printSchema()"
   ]
  },
  {
   "cell_type": "markdown",
   "metadata": {},
   "source": [
    "## Pandas DataFrame to Spark DataFrame"
   ]
  },
  {
   "cell_type": "markdown",
   "metadata": {},
   "source": [
    "![spark-pandas](./files/spark_pandas.png)"
   ]
  },
  {
   "cell_type": "code",
   "execution_count": 93,
   "metadata": {},
   "outputs": [],
   "source": [
    "from datetime import date\n",
    "\n",
    "data = [\n",
    "    {\n",
    "        \"nombre_completo\": [\"Carla\", \"Pérez\"],\n",
    "        \"nacimiento\": date(1985, 2, 14),\n",
    "        \"mail\": \"carla.p@gmail.com\",\n",
    "        \"x\": 6012,\n",
    "        \"y\": 20.54,\n",
    "        \"active\": True\n",
    "    },\n",
    "    {\n",
    "        \"nombre_completo\": [\"Pedro\", \"González\"],\n",
    "        \"nacimiento\": date(1992, 11, 3),\n",
    "        \"mail\": \"pedro.g@gmail.com\",\n",
    "        \"x\": 4521,\n",
    "        \"y\": 9.8,\n",
    "        \"active\": False\n",
    "    },\n",
    "    {\n",
    "        \"nombre_completo\": [\"Lucía\", \"Ramírez\"],\n",
    "        \"nacimiento\": date(1989, 5, 22),\n",
    "        \"mail\": \"lucia.r@gmail.com\",\n",
    "        \"x\": 3790,\n",
    "        \"y\": 12.34,\n",
    "        \"active\": True\n",
    "    },\n",
    "    {\n",
    "        \"nombre_completo\": [\"Diego\", \"Martínez\"],\n",
    "        \"nacimiento\": date(1995, 12, 19),\n",
    "        \"mail\": \"diego.m@gmail.com\",\n",
    "        \"x\": 5120,\n",
    "        \"y\": 6.87,\n",
    "        \"active\": True\n",
    "    },\n",
    "    {\n",
    "        \"nombre_completo\": [\"Ana\", \"López\"],\n",
    "        \"nacimiento\": date(1987, 8, 30),\n",
    "        \"mail\": \"ana.l@gmail.com\",\n",
    "        \"x\": 4250,\n",
    "        \"y\": 10.52,\n",
    "        \"active\": False\n",
    "    },\n",
    "    {\n",
    "        \"nombre_completo\": [\"Fernando\", \"Sánchez\"],\n",
    "        \"nacimiento\": date(1991, 3, 17),\n",
    "        \"mail\": \"fernando.s@gmail.com\",\n",
    "        \"x\": 5789,\n",
    "        \"y\": 13.67,\n",
    "        \"active\": True\n",
    "    },\n",
    "    {\n",
    "        \"nombre_completo\": [\"Marta\", \"Rivas\"],\n",
    "        \"nacimiento\": date(1994, 6, 8),\n",
    "        \"mail\": \"marta.r@gmail.com\",\n",
    "        \"x\": 4892,\n",
    "        \"y\": 8.9,\n",
    "        \"active\": False\n",
    "    },\n",
    "    {\n",
    "        \"nombre_completo\": [\"Luis\", \"Ortiz\"],\n",
    "        \"nacimiento\": date(1988, 9, 29),\n",
    "        \"mail\": \"luis.o@gmail.com\",\n",
    "        \"x\": 3400,\n",
    "        \"y\": 14.6,\n",
    "        \"active\": True\n",
    "    },\n",
    "    {\n",
    "        \"nombre_completo\": [\"Elena\", \"Torres\"],\n",
    "        \"nacimiento\": date(1993, 4, 15),\n",
    "        \"mail\": \"elena.t@gmail.com\",\n",
    "        \"x\": 4603,\n",
    "        \"y\": 7.45,\n",
    "        \"active\": True\n",
    "    },\n",
    "    {\n",
    "        \"nombre_completo\": [\"Javier\", \"Fernández\"],\n",
    "        \"nacimiento\": date(1986, 7, 21),\n",
    "        \"mail\": \"javier.f@gmail.com\",\n",
    "        \"x\": 5950,\n",
    "        \"y\": 18.7,\n",
    "        \"active\": False\n",
    "    },\n",
    "    {\n",
    "        \"nombre_completo\": [\"Patricia\", \"Suárez\"],\n",
    "        \"nacimiento\": date(1990, 1, 11),\n",
    "        \"mail\": \"patricia.s@gmail.com\",\n",
    "        \"x\": 3290,\n",
    "        \"y\": 10.85,\n",
    "        \"active\": True\n",
    "    },\n",
    "    {\n",
    "        \"nombre_completo\": [\"Raúl\", \"Vega\"],\n",
    "        \"nacimiento\": date(1992, 10, 10),\n",
    "        \"mail\": \"raul.v@gmail.com\",\n",
    "        \"x\": 5125,\n",
    "        \"y\": 12.2,\n",
    "        \"active\": False\n",
    "    },\n",
    "    {\n",
    "        \"nombre_completo\": [\"Sofía\", \"Gutiérrez\"],\n",
    "        \"nacimiento\": date(1984, 5, 5),\n",
    "        \"mail\": \"sofia.g@gmail.com\",\n",
    "        \"x\": 4701,\n",
    "        \"y\": 11.1,\n",
    "        \"active\": True\n",
    "    },\n",
    "    {\n",
    "        \"nombre_completo\": [\"David\", \"Morales\"],\n",
    "        \"nacimiento\": date(1996, 12, 25),\n",
    "        \"mail\": \"david.m@gmail.com\",\n",
    "        \"x\": 4156,\n",
    "        \"y\": 9.3,\n",
    "        \"active\": True\n",
    "    },\n",
    "    {\n",
    "        \"nombre_completo\": [\"Claudia\", \"Navarro\"],\n",
    "        \"nacimiento\": date(1989, 7, 16),\n",
    "        \"mail\": \"claudia.n@gmail.com\",\n",
    "        \"x\": 3958,\n",
    "        \"y\": 13.9,\n",
    "        \"active\": False\n",
    "    },\n",
    "    {\n",
    "        \"nombre_completo\": [\"Pablo\", \"Reyes\"],\n",
    "        \"nacimiento\": date(1991, 11, 7),\n",
    "        \"mail\": \"pablo.r@gmail.com\",\n",
    "        \"x\": 5012,\n",
    "        \"y\": 8.6,\n",
    "        \"active\": True\n",
    "    },\n",
    "    {\n",
    "        \"nombre_completo\": [\"Adriana\", \"Castro\"],\n",
    "        \"nacimiento\": date(1985, 6, 27),\n",
    "        \"mail\": \"adriana.c@gmail.com\",\n",
    "        \"x\": 3700,\n",
    "        \"y\": 11.75,\n",
    "        \"active\": True\n",
    "    },\n",
    "    {\n",
    "        \"nombre_completo\": [\"Carlos\", \"Herrera\"],\n",
    "        \"nacimiento\": date(1993, 2, 12),\n",
    "        \"mail\": \"carlos.h@gmail.com\",\n",
    "        \"x\": 4520,\n",
    "        \"y\": 7.9,\n",
    "        \"active\": False\n",
    "    },\n",
    "    {\n",
    "        \"nombre_completo\": [\"María\", \"Molina\"],\n",
    "        \"nacimiento\": date(1995, 9, 1),\n",
    "        \"mail\": \"maria.m@gmail.com\",\n",
    "        \"x\": 4398,\n",
    "        \"y\": 10.35,\n",
    "        \"active\": True\n",
    "    },\n",
    "    {\n",
    "        \"nombre_completo\": [\"Gustavo\", \"Cruz\"],\n",
    "        \"nacimiento\": date(1988, 12, 18),\n",
    "        \"mail\": \"gustavo.c@gmail.com\",\n",
    "        \"x\": 5803,\n",
    "        \"y\": 16.4,\n",
    "        \"active\": False\n",
    "    },\n",
    "    {\n",
    "        \"nombre_completo\": [\"Natalia\", \"Blanco\"],\n",
    "        \"nacimiento\": date(1990, 3, 22),\n",
    "        \"mail\": \"natalia.b@gmail.com\",\n",
    "        \"x\": 4990,\n",
    "        \"y\": 9.67,\n",
    "        \"active\": True\n",
    "    }\n",
    "]"
   ]
  },
  {
   "cell_type": "code",
   "execution_count": 95,
   "metadata": {},
   "outputs": [
    {
     "data": {
      "text/html": [
       "<div>\n",
       "<style scoped>\n",
       "    .dataframe tbody tr th:only-of-type {\n",
       "        vertical-align: middle;\n",
       "    }\n",
       "\n",
       "    .dataframe tbody tr th {\n",
       "        vertical-align: top;\n",
       "    }\n",
       "\n",
       "    .dataframe thead th {\n",
       "        text-align: right;\n",
       "    }\n",
       "</style>\n",
       "<table border=\"1\" class=\"dataframe\">\n",
       "  <thead>\n",
       "    <tr style=\"text-align: right;\">\n",
       "      <th></th>\n",
       "      <th>nombre_completo</th>\n",
       "      <th>nacimiento</th>\n",
       "      <th>mail</th>\n",
       "      <th>x</th>\n",
       "      <th>y</th>\n",
       "      <th>active</th>\n",
       "    </tr>\n",
       "  </thead>\n",
       "  <tbody>\n",
       "    <tr>\n",
       "      <th>0</th>\n",
       "      <td>[Carla, Pérez]</td>\n",
       "      <td>1985-02-14</td>\n",
       "      <td>carla.p@gmail.com</td>\n",
       "      <td>6012</td>\n",
       "      <td>20.54</td>\n",
       "      <td>True</td>\n",
       "    </tr>\n",
       "    <tr>\n",
       "      <th>1</th>\n",
       "      <td>[Pedro, González]</td>\n",
       "      <td>1992-11-03</td>\n",
       "      <td>pedro.g@gmail.com</td>\n",
       "      <td>4521</td>\n",
       "      <td>9.80</td>\n",
       "      <td>False</td>\n",
       "    </tr>\n",
       "    <tr>\n",
       "      <th>2</th>\n",
       "      <td>[Lucía, Ramírez]</td>\n",
       "      <td>1989-05-22</td>\n",
       "      <td>lucia.r@gmail.com</td>\n",
       "      <td>3790</td>\n",
       "      <td>12.34</td>\n",
       "      <td>True</td>\n",
       "    </tr>\n",
       "    <tr>\n",
       "      <th>3</th>\n",
       "      <td>[Diego, Martínez]</td>\n",
       "      <td>1995-12-19</td>\n",
       "      <td>diego.m@gmail.com</td>\n",
       "      <td>5120</td>\n",
       "      <td>6.87</td>\n",
       "      <td>True</td>\n",
       "    </tr>\n",
       "    <tr>\n",
       "      <th>4</th>\n",
       "      <td>[Ana, López]</td>\n",
       "      <td>1987-08-30</td>\n",
       "      <td>ana.l@gmail.com</td>\n",
       "      <td>4250</td>\n",
       "      <td>10.52</td>\n",
       "      <td>False</td>\n",
       "    </tr>\n",
       "  </tbody>\n",
       "</table>\n",
       "</div>"
      ],
      "text/plain": [
       "     nombre_completo  nacimiento               mail     x      y  active\n",
       "0     [Carla, Pérez]  1985-02-14  carla.p@gmail.com  6012  20.54    True\n",
       "1  [Pedro, González]  1992-11-03  pedro.g@gmail.com  4521   9.80   False\n",
       "2   [Lucía, Ramírez]  1989-05-22  lucia.r@gmail.com  3790  12.34    True\n",
       "3  [Diego, Martínez]  1995-12-19  diego.m@gmail.com  5120   6.87    True\n",
       "4       [Ana, López]  1987-08-30    ana.l@gmail.com  4250  10.52   False"
      ]
     },
     "execution_count": 95,
     "metadata": {},
     "output_type": "execute_result"
    }
   ],
   "source": [
    "import pandas as pd\n",
    "\n",
    "pdf = pd.DataFrame(data)\n",
    "pdf.head()"
   ]
  },
  {
   "cell_type": "code",
   "execution_count": 96,
   "metadata": {},
   "outputs": [
    {
     "data": {
      "text/html": [
       "<div>\n",
       "<style scoped>\n",
       "    .dataframe tbody tr th:only-of-type {\n",
       "        vertical-align: middle;\n",
       "    }\n",
       "\n",
       "    .dataframe tbody tr th {\n",
       "        vertical-align: top;\n",
       "    }\n",
       "\n",
       "    .dataframe thead th {\n",
       "        text-align: right;\n",
       "    }\n",
       "</style>\n",
       "<table border=\"1\" class=\"dataframe\">\n",
       "  <thead>\n",
       "    <tr style=\"text-align: right;\">\n",
       "      <th></th>\n",
       "      <th>nombre_completo</th>\n",
       "      <th>nacimiento</th>\n",
       "      <th>mail</th>\n",
       "      <th>x</th>\n",
       "      <th>y</th>\n",
       "      <th>active</th>\n",
       "    </tr>\n",
       "  </thead>\n",
       "  <tbody>\n",
       "    <tr>\n",
       "      <th>0</th>\n",
       "      <td>[Carla, Pérez]</td>\n",
       "      <td>1985-02-14</td>\n",
       "      <td>carla.p@gmail.com</td>\n",
       "      <td>6012</td>\n",
       "      <td>20.54</td>\n",
       "      <td>True</td>\n",
       "    </tr>\n",
       "    <tr>\n",
       "      <th>1</th>\n",
       "      <td>[Pedro, González]</td>\n",
       "      <td>1992-11-03</td>\n",
       "      <td>pedro.g@gmail.com</td>\n",
       "      <td>4521</td>\n",
       "      <td>9.80</td>\n",
       "      <td>False</td>\n",
       "    </tr>\n",
       "    <tr>\n",
       "      <th>2</th>\n",
       "      <td>[Lucía, Ramírez]</td>\n",
       "      <td>1989-05-22</td>\n",
       "      <td>lucia.r@gmail.com</td>\n",
       "      <td>3790</td>\n",
       "      <td>12.34</td>\n",
       "      <td>True</td>\n",
       "    </tr>\n",
       "    <tr>\n",
       "      <th>3</th>\n",
       "      <td>[Diego, Martínez]</td>\n",
       "      <td>1995-12-19</td>\n",
       "      <td>diego.m@gmail.com</td>\n",
       "      <td>5120</td>\n",
       "      <td>6.87</td>\n",
       "      <td>True</td>\n",
       "    </tr>\n",
       "    <tr>\n",
       "      <th>4</th>\n",
       "      <td>[Ana, López]</td>\n",
       "      <td>1987-08-30</td>\n",
       "      <td>ana.l@gmail.com</td>\n",
       "      <td>4250</td>\n",
       "      <td>10.52</td>\n",
       "      <td>False</td>\n",
       "    </tr>\n",
       "    <tr>\n",
       "      <th>5</th>\n",
       "      <td>[Fernando, Sánchez]</td>\n",
       "      <td>1991-03-17</td>\n",
       "      <td>fernando.s@gmail.com</td>\n",
       "      <td>5789</td>\n",
       "      <td>13.67</td>\n",
       "      <td>True</td>\n",
       "    </tr>\n",
       "    <tr>\n",
       "      <th>6</th>\n",
       "      <td>[Marta, Rivas]</td>\n",
       "      <td>1994-06-08</td>\n",
       "      <td>marta.r@gmail.com</td>\n",
       "      <td>4892</td>\n",
       "      <td>8.90</td>\n",
       "      <td>False</td>\n",
       "    </tr>\n",
       "    <tr>\n",
       "      <th>7</th>\n",
       "      <td>[Luis, Ortiz]</td>\n",
       "      <td>1988-09-29</td>\n",
       "      <td>luis.o@gmail.com</td>\n",
       "      <td>3400</td>\n",
       "      <td>14.60</td>\n",
       "      <td>True</td>\n",
       "    </tr>\n",
       "    <tr>\n",
       "      <th>8</th>\n",
       "      <td>[Elena, Torres]</td>\n",
       "      <td>1993-04-15</td>\n",
       "      <td>elena.t@gmail.com</td>\n",
       "      <td>4603</td>\n",
       "      <td>7.45</td>\n",
       "      <td>True</td>\n",
       "    </tr>\n",
       "    <tr>\n",
       "      <th>9</th>\n",
       "      <td>[Javier, Fernández]</td>\n",
       "      <td>1986-07-21</td>\n",
       "      <td>javier.f@gmail.com</td>\n",
       "      <td>5950</td>\n",
       "      <td>18.70</td>\n",
       "      <td>False</td>\n",
       "    </tr>\n",
       "    <tr>\n",
       "      <th>10</th>\n",
       "      <td>[Patricia, Suárez]</td>\n",
       "      <td>1990-01-11</td>\n",
       "      <td>patricia.s@gmail.com</td>\n",
       "      <td>3290</td>\n",
       "      <td>10.85</td>\n",
       "      <td>True</td>\n",
       "    </tr>\n",
       "    <tr>\n",
       "      <th>11</th>\n",
       "      <td>[Raúl, Vega]</td>\n",
       "      <td>1992-10-10</td>\n",
       "      <td>raul.v@gmail.com</td>\n",
       "      <td>5125</td>\n",
       "      <td>12.20</td>\n",
       "      <td>False</td>\n",
       "    </tr>\n",
       "    <tr>\n",
       "      <th>12</th>\n",
       "      <td>[Sofía, Gutiérrez]</td>\n",
       "      <td>1984-05-05</td>\n",
       "      <td>sofia.g@gmail.com</td>\n",
       "      <td>4701</td>\n",
       "      <td>11.10</td>\n",
       "      <td>True</td>\n",
       "    </tr>\n",
       "    <tr>\n",
       "      <th>13</th>\n",
       "      <td>[David, Morales]</td>\n",
       "      <td>1996-12-25</td>\n",
       "      <td>david.m@gmail.com</td>\n",
       "      <td>4156</td>\n",
       "      <td>9.30</td>\n",
       "      <td>True</td>\n",
       "    </tr>\n",
       "    <tr>\n",
       "      <th>14</th>\n",
       "      <td>[Claudia, Navarro]</td>\n",
       "      <td>1989-07-16</td>\n",
       "      <td>claudia.n@gmail.com</td>\n",
       "      <td>3958</td>\n",
       "      <td>13.90</td>\n",
       "      <td>False</td>\n",
       "    </tr>\n",
       "    <tr>\n",
       "      <th>15</th>\n",
       "      <td>[Pablo, Reyes]</td>\n",
       "      <td>1991-11-07</td>\n",
       "      <td>pablo.r@gmail.com</td>\n",
       "      <td>5012</td>\n",
       "      <td>8.60</td>\n",
       "      <td>True</td>\n",
       "    </tr>\n",
       "    <tr>\n",
       "      <th>16</th>\n",
       "      <td>[Adriana, Castro]</td>\n",
       "      <td>1985-06-27</td>\n",
       "      <td>adriana.c@gmail.com</td>\n",
       "      <td>3700</td>\n",
       "      <td>11.75</td>\n",
       "      <td>True</td>\n",
       "    </tr>\n",
       "    <tr>\n",
       "      <th>17</th>\n",
       "      <td>[Carlos, Herrera]</td>\n",
       "      <td>1993-02-12</td>\n",
       "      <td>carlos.h@gmail.com</td>\n",
       "      <td>4520</td>\n",
       "      <td>7.90</td>\n",
       "      <td>False</td>\n",
       "    </tr>\n",
       "    <tr>\n",
       "      <th>18</th>\n",
       "      <td>[María, Molina]</td>\n",
       "      <td>1995-09-01</td>\n",
       "      <td>maria.m@gmail.com</td>\n",
       "      <td>4398</td>\n",
       "      <td>10.35</td>\n",
       "      <td>True</td>\n",
       "    </tr>\n",
       "    <tr>\n",
       "      <th>19</th>\n",
       "      <td>[Gustavo, Cruz]</td>\n",
       "      <td>1988-12-18</td>\n",
       "      <td>gustavo.c@gmail.com</td>\n",
       "      <td>5803</td>\n",
       "      <td>16.40</td>\n",
       "      <td>False</td>\n",
       "    </tr>\n",
       "    <tr>\n",
       "      <th>20</th>\n",
       "      <td>[Natalia, Blanco]</td>\n",
       "      <td>1990-03-22</td>\n",
       "      <td>natalia.b@gmail.com</td>\n",
       "      <td>4990</td>\n",
       "      <td>9.67</td>\n",
       "      <td>True</td>\n",
       "    </tr>\n",
       "  </tbody>\n",
       "</table>\n",
       "</div>"
      ],
      "text/plain": [
       "        nombre_completo  nacimiento                  mail     x      y  active\n",
       "0        [Carla, Pérez]  1985-02-14     carla.p@gmail.com  6012  20.54    True\n",
       "1     [Pedro, González]  1992-11-03     pedro.g@gmail.com  4521   9.80   False\n",
       "2      [Lucía, Ramírez]  1989-05-22     lucia.r@gmail.com  3790  12.34    True\n",
       "3     [Diego, Martínez]  1995-12-19     diego.m@gmail.com  5120   6.87    True\n",
       "4          [Ana, López]  1987-08-30       ana.l@gmail.com  4250  10.52   False\n",
       "5   [Fernando, Sánchez]  1991-03-17  fernando.s@gmail.com  5789  13.67    True\n",
       "6        [Marta, Rivas]  1994-06-08     marta.r@gmail.com  4892   8.90   False\n",
       "7         [Luis, Ortiz]  1988-09-29      luis.o@gmail.com  3400  14.60    True\n",
       "8       [Elena, Torres]  1993-04-15     elena.t@gmail.com  4603   7.45    True\n",
       "9   [Javier, Fernández]  1986-07-21    javier.f@gmail.com  5950  18.70   False\n",
       "10   [Patricia, Suárez]  1990-01-11  patricia.s@gmail.com  3290  10.85    True\n",
       "11         [Raúl, Vega]  1992-10-10      raul.v@gmail.com  5125  12.20   False\n",
       "12   [Sofía, Gutiérrez]  1984-05-05     sofia.g@gmail.com  4701  11.10    True\n",
       "13     [David, Morales]  1996-12-25     david.m@gmail.com  4156   9.30    True\n",
       "14   [Claudia, Navarro]  1989-07-16   claudia.n@gmail.com  3958  13.90   False\n",
       "15       [Pablo, Reyes]  1991-11-07     pablo.r@gmail.com  5012   8.60    True\n",
       "16    [Adriana, Castro]  1985-06-27   adriana.c@gmail.com  3700  11.75    True\n",
       "17    [Carlos, Herrera]  1993-02-12    carlos.h@gmail.com  4520   7.90   False\n",
       "18      [María, Molina]  1995-09-01     maria.m@gmail.com  4398  10.35    True\n",
       "19      [Gustavo, Cruz]  1988-12-18   gustavo.c@gmail.com  5803  16.40   False\n",
       "20    [Natalia, Blanco]  1990-03-22   natalia.b@gmail.com  4990   9.67    True"
      ]
     },
     "execution_count": 96,
     "metadata": {},
     "output_type": "execute_result"
    }
   ],
   "source": [
    "pdf"
   ]
  },
  {
   "cell_type": "code",
   "execution_count": 97,
   "metadata": {},
   "outputs": [
    {
     "name": "stdout",
     "output_type": "stream",
     "text": [
      "+-------------------+----------+--------------------+----+-----+------+\n",
      "|    nombre_completo|nacimiento|                mail|   x|    y|active|\n",
      "+-------------------+----------+--------------------+----+-----+------+\n",
      "|     [Carla, Pérez]|1985-02-14|   carla.p@gmail.com|6012|20.54|  true|\n",
      "|  [Pedro, González]|1992-11-03|   pedro.g@gmail.com|4521|  9.8| false|\n",
      "|   [Lucía, Ramírez]|1989-05-22|   lucia.r@gmail.com|3790|12.34|  true|\n",
      "|  [Diego, Martínez]|1995-12-19|   diego.m@gmail.com|5120| 6.87|  true|\n",
      "|       [Ana, López]|1987-08-30|     ana.l@gmail.com|4250|10.52| false|\n",
      "|[Fernando, Sánchez]|1991-03-17|fernando.s@gmail.com|5789|13.67|  true|\n",
      "|     [Marta, Rivas]|1994-06-08|   marta.r@gmail.com|4892|  8.9| false|\n",
      "|      [Luis, Ortiz]|1988-09-29|    luis.o@gmail.com|3400| 14.6|  true|\n",
      "|    [Elena, Torres]|1993-04-15|   elena.t@gmail.com|4603| 7.45|  true|\n",
      "|[Javier, Fernández]|1986-07-21|  javier.f@gmail.com|5950| 18.7| false|\n",
      "| [Patricia, Suárez]|1990-01-11|patricia.s@gmail.com|3290|10.85|  true|\n",
      "|       [Raúl, Vega]|1992-10-10|    raul.v@gmail.com|5125| 12.2| false|\n",
      "| [Sofía, Gutiérrez]|1984-05-05|   sofia.g@gmail.com|4701| 11.1|  true|\n",
      "|   [David, Morales]|1996-12-25|   david.m@gmail.com|4156|  9.3|  true|\n",
      "| [Claudia, Navarro]|1989-07-16| claudia.n@gmail.com|3958| 13.9| false|\n",
      "|     [Pablo, Reyes]|1991-11-07|   pablo.r@gmail.com|5012|  8.6|  true|\n",
      "|  [Adriana, Castro]|1985-06-27| adriana.c@gmail.com|3700|11.75|  true|\n",
      "|  [Carlos, Herrera]|1993-02-12|  carlos.h@gmail.com|4520|  7.9| false|\n",
      "|    [María, Molina]|1995-09-01|   maria.m@gmail.com|4398|10.35|  true|\n",
      "|    [Gustavo, Cruz]|1988-12-18| gustavo.c@gmail.com|5803| 16.4| false|\n",
      "+-------------------+----------+--------------------+----+-----+------+\n",
      "only showing top 20 rows\n",
      "\n"
     ]
    }
   ],
   "source": [
    "df = spark.createDataFrame(pdf)\n",
    "df.show()"
   ]
  },
  {
   "cell_type": "code",
   "execution_count": 100,
   "metadata": {},
   "outputs": [
    {
     "data": {
      "text/html": [
       "<div>\n",
       "<style scoped>\n",
       "    .dataframe tbody tr th:only-of-type {\n",
       "        vertical-align: middle;\n",
       "    }\n",
       "\n",
       "    .dataframe tbody tr th {\n",
       "        vertical-align: top;\n",
       "    }\n",
       "\n",
       "    .dataframe thead th {\n",
       "        text-align: right;\n",
       "    }\n",
       "</style>\n",
       "<table border=\"1\" class=\"dataframe\">\n",
       "  <thead>\n",
       "    <tr style=\"text-align: right;\">\n",
       "      <th></th>\n",
       "      <th>0</th>\n",
       "      <th>1</th>\n",
       "      <th>2</th>\n",
       "      <th>3</th>\n",
       "      <th>4</th>\n",
       "    </tr>\n",
       "  </thead>\n",
       "  <tbody>\n",
       "    <tr>\n",
       "      <th>nombre_completo</th>\n",
       "      <td>[Carla, Pérez]</td>\n",
       "      <td>[Pedro, González]</td>\n",
       "      <td>[Lucía, Ramírez]</td>\n",
       "      <td>[Diego, Martínez]</td>\n",
       "      <td>[Ana, López]</td>\n",
       "    </tr>\n",
       "    <tr>\n",
       "      <th>nacimiento</th>\n",
       "      <td>1985-02-14</td>\n",
       "      <td>1992-11-03</td>\n",
       "      <td>1989-05-22</td>\n",
       "      <td>1995-12-19</td>\n",
       "      <td>1987-08-30</td>\n",
       "    </tr>\n",
       "    <tr>\n",
       "      <th>mail</th>\n",
       "      <td>carla.p@gmail.com</td>\n",
       "      <td>pedro.g@gmail.com</td>\n",
       "      <td>lucia.r@gmail.com</td>\n",
       "      <td>diego.m@gmail.com</td>\n",
       "      <td>ana.l@gmail.com</td>\n",
       "    </tr>\n",
       "    <tr>\n",
       "      <th>x</th>\n",
       "      <td>6012</td>\n",
       "      <td>4521</td>\n",
       "      <td>3790</td>\n",
       "      <td>5120</td>\n",
       "      <td>4250</td>\n",
       "    </tr>\n",
       "    <tr>\n",
       "      <th>y</th>\n",
       "      <td>20.54</td>\n",
       "      <td>9.8</td>\n",
       "      <td>12.34</td>\n",
       "      <td>6.87</td>\n",
       "      <td>10.52</td>\n",
       "    </tr>\n",
       "    <tr>\n",
       "      <th>active</th>\n",
       "      <td>True</td>\n",
       "      <td>False</td>\n",
       "      <td>True</td>\n",
       "      <td>True</td>\n",
       "      <td>False</td>\n",
       "    </tr>\n",
       "  </tbody>\n",
       "</table>\n",
       "</div>"
      ],
      "text/plain": [
       "                                 0                  1                  2  \\\n",
       "nombre_completo     [Carla, Pérez]  [Pedro, González]   [Lucía, Ramírez]   \n",
       "nacimiento              1985-02-14         1992-11-03         1989-05-22   \n",
       "mail             carla.p@gmail.com  pedro.g@gmail.com  lucia.r@gmail.com   \n",
       "x                             6012               4521               3790   \n",
       "y                            20.54                9.8              12.34   \n",
       "active                        True              False               True   \n",
       "\n",
       "                                 3                4  \n",
       "nombre_completo  [Diego, Martínez]     [Ana, López]  \n",
       "nacimiento              1995-12-19       1987-08-30  \n",
       "mail             diego.m@gmail.com  ana.l@gmail.com  \n",
       "x                             5120             4250  \n",
       "y                             6.87            10.52  \n",
       "active                        True            False  "
      ]
     },
     "execution_count": 100,
     "metadata": {},
     "output_type": "execute_result"
    }
   ],
   "source": [
    "pdf.head().T"
   ]
  },
  {
   "cell_type": "code",
   "execution_count": 98,
   "metadata": {},
   "outputs": [
    {
     "name": "stdout",
     "output_type": "stream",
     "text": [
      "root\n",
      " |-- nombre_completo: array (nullable = true)\n",
      " |    |-- element: string (containsNull = true)\n",
      " |-- nacimiento: date (nullable = true)\n",
      " |-- mail: string (nullable = true)\n",
      " |-- x: long (nullable = true)\n",
      " |-- y: double (nullable = true)\n",
      " |-- active: boolean (nullable = true)\n",
      "\n"
     ]
    }
   ],
   "source": [
    "df.printSchema()"
   ]
  },
  {
   "cell_type": "code",
   "execution_count": 99,
   "metadata": {},
   "outputs": [
    {
     "name": "stdout",
     "output_type": "stream",
     "text": [
      "-RECORD 0-------------------------------\n",
      " nombre_completo | [Carla, Pérez]       \n",
      " nacimiento      | 1985-02-14           \n",
      " mail            | carla.p@gmail.com    \n",
      " x               | 6012                 \n",
      " y               | 20.54                \n",
      " active          | true                 \n",
      "-RECORD 1-------------------------------\n",
      " nombre_completo | [Pedro, González]    \n",
      " nacimiento      | 1992-11-03           \n",
      " mail            | pedro.g@gmail.com    \n",
      " x               | 4521                 \n",
      " y               | 9.8                  \n",
      " active          | false                \n",
      "-RECORD 2-------------------------------\n",
      " nombre_completo | [Lucía, Ramírez]     \n",
      " nacimiento      | 1989-05-22           \n",
      " mail            | lucia.r@gmail.com    \n",
      " x               | 3790                 \n",
      " y               | 12.34                \n",
      " active          | true                 \n",
      "-RECORD 3-------------------------------\n",
      " nombre_completo | [Diego, Martínez]    \n",
      " nacimiento      | 1995-12-19           \n",
      " mail            | diego.m@gmail.com    \n",
      " x               | 5120                 \n",
      " y               | 6.87                 \n",
      " active          | true                 \n",
      "-RECORD 4-------------------------------\n",
      " nombre_completo | [Ana, López]         \n",
      " nacimiento      | 1987-08-30           \n",
      " mail            | ana.l@gmail.com      \n",
      " x               | 4250                 \n",
      " y               | 10.52                \n",
      " active          | false                \n",
      "-RECORD 5-------------------------------\n",
      " nombre_completo | [Fernando, Sánchez]  \n",
      " nacimiento      | 1991-03-17           \n",
      " mail            | fernando.s@gmail.com \n",
      " x               | 5789                 \n",
      " y               | 13.67                \n",
      " active          | true                 \n",
      "-RECORD 6-------------------------------\n",
      " nombre_completo | [Marta, Rivas]       \n",
      " nacimiento      | 1994-06-08           \n",
      " mail            | marta.r@gmail.com    \n",
      " x               | 4892                 \n",
      " y               | 8.9                  \n",
      " active          | false                \n",
      "-RECORD 7-------------------------------\n",
      " nombre_completo | [Luis, Ortiz]        \n",
      " nacimiento      | 1988-09-29           \n",
      " mail            | luis.o@gmail.com     \n",
      " x               | 3400                 \n",
      " y               | 14.6                 \n",
      " active          | true                 \n",
      "-RECORD 8-------------------------------\n",
      " nombre_completo | [Elena, Torres]      \n",
      " nacimiento      | 1993-04-15           \n",
      " mail            | elena.t@gmail.com    \n",
      " x               | 4603                 \n",
      " y               | 7.45                 \n",
      " active          | true                 \n",
      "-RECORD 9-------------------------------\n",
      " nombre_completo | [Javier, Fernández]  \n",
      " nacimiento      | 1986-07-21           \n",
      " mail            | javier.f@gmail.com   \n",
      " x               | 5950                 \n",
      " y               | 18.7                 \n",
      " active          | false                \n",
      "only showing top 10 rows\n",
      "\n"
     ]
    }
   ],
   "source": [
    "df.show(10, vertical=True)"
   ]
  },
  {
   "cell_type": "code",
   "execution_count": 101,
   "metadata": {},
   "outputs": [
    {
     "name": "stdout",
     "output_type": "stream",
     "text": [
      "+------+--------------------+----------+-------------------+----+-----+\n",
      "|active|                mail|nacimiento|    nombre_completo|   x|    y|\n",
      "+------+--------------------+----------+-------------------+----+-----+\n",
      "|  true|   carla.p@gmail.com|1985-02-14|     [Carla, Pérez]|6012|20.54|\n",
      "| false|   pedro.g@gmail.com|1992-11-03|  [Pedro, González]|4521|  9.8|\n",
      "|  true|   lucia.r@gmail.com|1989-05-22|   [Lucía, Ramírez]|3790|12.34|\n",
      "|  true|   diego.m@gmail.com|1995-12-19|  [Diego, Martínez]|5120| 6.87|\n",
      "| false|     ana.l@gmail.com|1987-08-30|       [Ana, López]|4250|10.52|\n",
      "|  true|fernando.s@gmail.com|1991-03-17|[Fernando, Sánchez]|5789|13.67|\n",
      "| false|   marta.r@gmail.com|1994-06-08|     [Marta, Rivas]|4892|  8.9|\n",
      "|  true|    luis.o@gmail.com|1988-09-29|      [Luis, Ortiz]|3400| 14.6|\n",
      "|  true|   elena.t@gmail.com|1993-04-15|    [Elena, Torres]|4603| 7.45|\n",
      "| false|  javier.f@gmail.com|1986-07-21|[Javier, Fernández]|5950| 18.7|\n",
      "|  true|patricia.s@gmail.com|1990-01-11| [Patricia, Suárez]|3290|10.85|\n",
      "| false|    raul.v@gmail.com|1992-10-10|       [Raúl, Vega]|5125| 12.2|\n",
      "|  true|   sofia.g@gmail.com|1984-05-05| [Sofía, Gutiérrez]|4701| 11.1|\n",
      "|  true|   david.m@gmail.com|1996-12-25|   [David, Morales]|4156|  9.3|\n",
      "| false| claudia.n@gmail.com|1989-07-16| [Claudia, Navarro]|3958| 13.9|\n",
      "|  true|   pablo.r@gmail.com|1991-11-07|     [Pablo, Reyes]|5012|  8.6|\n",
      "|  true| adriana.c@gmail.com|1985-06-27|  [Adriana, Castro]|3700|11.75|\n",
      "| false|  carlos.h@gmail.com|1993-02-12|  [Carlos, Herrera]|4520|  7.9|\n",
      "|  true|   maria.m@gmail.com|1995-09-01|    [María, Molina]|4398|10.35|\n",
      "| false| gustavo.c@gmail.com|1988-12-18|    [Gustavo, Cruz]|5803| 16.4|\n",
      "+------+--------------------+----------+-------------------+----+-----+\n",
      "only showing top 20 rows\n",
      "\n"
     ]
    },
    {
     "data": {
      "text/html": [
       "<div>\n",
       "<style scoped>\n",
       "    .dataframe tbody tr th:only-of-type {\n",
       "        vertical-align: middle;\n",
       "    }\n",
       "\n",
       "    .dataframe tbody tr th {\n",
       "        vertical-align: top;\n",
       "    }\n",
       "\n",
       "    .dataframe thead th {\n",
       "        text-align: right;\n",
       "    }\n",
       "</style>\n",
       "<table border=\"1\" class=\"dataframe\">\n",
       "  <thead>\n",
       "    <tr style=\"text-align: right;\">\n",
       "      <th></th>\n",
       "      <th>active</th>\n",
       "      <th>mail</th>\n",
       "      <th>nacimiento</th>\n",
       "      <th>nombre_completo</th>\n",
       "      <th>x</th>\n",
       "      <th>y</th>\n",
       "    </tr>\n",
       "  </thead>\n",
       "  <tbody>\n",
       "    <tr>\n",
       "      <th>0</th>\n",
       "      <td>True</td>\n",
       "      <td>carla.p@gmail.com</td>\n",
       "      <td>1985-02-14</td>\n",
       "      <td>[Carla, Pérez]</td>\n",
       "      <td>6012</td>\n",
       "      <td>20.54</td>\n",
       "    </tr>\n",
       "    <tr>\n",
       "      <th>1</th>\n",
       "      <td>False</td>\n",
       "      <td>pedro.g@gmail.com</td>\n",
       "      <td>1992-11-03</td>\n",
       "      <td>[Pedro, González]</td>\n",
       "      <td>4521</td>\n",
       "      <td>9.80</td>\n",
       "    </tr>\n",
       "    <tr>\n",
       "      <th>2</th>\n",
       "      <td>True</td>\n",
       "      <td>lucia.r@gmail.com</td>\n",
       "      <td>1989-05-22</td>\n",
       "      <td>[Lucía, Ramírez]</td>\n",
       "      <td>3790</td>\n",
       "      <td>12.34</td>\n",
       "    </tr>\n",
       "    <tr>\n",
       "      <th>3</th>\n",
       "      <td>True</td>\n",
       "      <td>diego.m@gmail.com</td>\n",
       "      <td>1995-12-19</td>\n",
       "      <td>[Diego, Martínez]</td>\n",
       "      <td>5120</td>\n",
       "      <td>6.87</td>\n",
       "    </tr>\n",
       "    <tr>\n",
       "      <th>4</th>\n",
       "      <td>False</td>\n",
       "      <td>ana.l@gmail.com</td>\n",
       "      <td>1987-08-30</td>\n",
       "      <td>[Ana, López]</td>\n",
       "      <td>4250</td>\n",
       "      <td>10.52</td>\n",
       "    </tr>\n",
       "  </tbody>\n",
       "</table>\n",
       "</div>"
      ],
      "text/plain": [
       "   active               mail  nacimiento    nombre_completo     x      y\n",
       "0    True  carla.p@gmail.com  1985-02-14     [Carla, Pérez]  6012  20.54\n",
       "1   False  pedro.g@gmail.com  1992-11-03  [Pedro, González]  4521   9.80\n",
       "2    True  lucia.r@gmail.com  1989-05-22   [Lucía, Ramírez]  3790  12.34\n",
       "3    True  diego.m@gmail.com  1995-12-19  [Diego, Martínez]  5120   6.87\n",
       "4   False    ana.l@gmail.com  1987-08-30       [Ana, López]  4250  10.52"
      ]
     },
     "execution_count": 101,
     "metadata": {},
     "output_type": "execute_result"
    }
   ],
   "source": [
    "df = spark.createDataFrame(data)\n",
    "df.show()\n",
    "pdf = df.toPandas()\n",
    "pdf.head()"
   ]
  },
  {
   "cell_type": "code",
   "execution_count": null,
   "metadata": {},
   "outputs": [],
   "source": []
  }
 ],
 "metadata": {
  "kernelspec": {
   "display_name": "pyspark",
   "language": "python",
   "name": "python3"
  },
  "language_info": {
   "codemirror_mode": {
    "name": "ipython",
    "version": 3
   },
   "file_extension": ".py",
   "mimetype": "text/x-python",
   "name": "python",
   "nbconvert_exporter": "python",
   "pygments_lexer": "ipython3",
   "version": "3.10.14"
  }
 },
 "nbformat": 4,
 "nbformat_minor": 2
}
