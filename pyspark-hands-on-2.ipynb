{
 "cells": [
  {
   "cell_type": "markdown",
   "metadata": {},
   "source": [
    "# Clase - Computación Distribuida\n",
    "\n",
    "## Pyspark Hands-on \n",
    "#### Marcelo Medel Vergara - Diplomado Data Engineer USACH\n"
   ]
  },
  {
   "cell_type": "markdown",
   "metadata": {},
   "source": [
    "### Carpeta con archivos del notebook\n",
    "\n",
    "Data: https://drive.google.com/drive/u/0/folders/1_nzJ7j44ZMacRGH8t-0ZgszX0-MM0pcq\n",
    "\n",
    "\n",
    "### Read / Write datos desde múltiples fuentes de datos\n",
    "<!-- insert url -->\n",
    "\n",
    "Documentación de referencia: https://spark.apache.org/docs/3.5.2/api/python/reference/pyspark.sql/io.html\n",
    "\n",
    "- `pyspark.sql.SparkSession.read`\n",
    "- `pyspark.sql.DataFrameWriter`"
   ]
  },
  {
   "cell_type": "code",
   "execution_count": 1,
   "metadata": {},
   "outputs": [
    {
     "data": {
      "text/plain": [
       "'/Users/marcelomedel/opt/anaconda3/envs/pyspark-v2/lib/python3.10/site-packages/pyspark'"
      ]
     },
     "execution_count": 1,
     "metadata": {},
     "output_type": "execute_result"
    }
   ],
   "source": [
    "import findspark\n",
    "findspark.find()"
   ]
  },
  {
   "cell_type": "code",
   "execution_count": 2,
   "metadata": {},
   "outputs": [],
   "source": [
    "findspark.init()"
   ]
  },
  {
   "cell_type": "code",
   "execution_count": 3,
   "metadata": {},
   "outputs": [
    {
     "name": "stderr",
     "output_type": "stream",
     "text": [
      "Setting default log level to \"WARN\".\n",
      "To adjust logging level use sc.setLogLevel(newLevel). For SparkR, use setLogLevel(newLevel).\n",
      "24/10/14 19:38:44 WARN NativeCodeLoader: Unable to load native-hadoop library for your platform... using builtin-java classes where applicable\n"
     ]
    },
    {
     "data": {
      "text/html": [
       "\n",
       "            <div>\n",
       "                <p><b>SparkSession - in-memory</b></p>\n",
       "                \n",
       "        <div>\n",
       "            <p><b>SparkContext</b></p>\n",
       "\n",
       "            <p><a href=\"http://192.168.100.26:4040\">Spark UI</a></p>\n",
       "\n",
       "            <dl>\n",
       "              <dt>Version</dt>\n",
       "                <dd><code>v3.5.1</code></dd>\n",
       "              <dt>Master</dt>\n",
       "                <dd><code>local[*]</code></dd>\n",
       "              <dt>AppName</dt>\n",
       "                <dd><code>hands-on-2</code></dd>\n",
       "            </dl>\n",
       "        </div>\n",
       "        \n",
       "            </div>\n",
       "        "
      ],
      "text/plain": [
       "<pyspark.sql.session.SparkSession at 0x115a1fcd0>"
      ]
     },
     "execution_count": 3,
     "metadata": {},
     "output_type": "execute_result"
    }
   ],
   "source": [
    "from pyspark.sql import SparkSession\n",
    "\n",
    "spark = SparkSession.builder.appName(\"hands-on-2\").getOrCreate()\n",
    "spark.active()"
   ]
  },
  {
   "cell_type": "code",
   "execution_count": 4,
   "metadata": {},
   "outputs": [
    {
     "name": "stdout",
     "output_type": "stream",
     "text": [
      "+--------------------+-------------------+-----+\n",
      "|   DEST_COUNTRY_NAME|ORIGIN_COUNTRY_NAME|count|\n",
      "+--------------------+-------------------+-----+\n",
      "|       United States|            Romania|   15|\n",
      "|       United States|            Croatia|    1|\n",
      "|       United States|            Ireland|  344|\n",
      "|               Egypt|      United States|   15|\n",
      "|       United States|              India|   62|\n",
      "|       United States|          Singapore|    1|\n",
      "|       United States|            Grenada|   62|\n",
      "|          Costa Rica|      United States|  588|\n",
      "|             Senegal|      United States|   40|\n",
      "|             Moldova|      United States|    1|\n",
      "|       United States|       Sint Maarten|  325|\n",
      "|       United States|   Marshall Islands|   39|\n",
      "|              Guyana|      United States|   64|\n",
      "|               Malta|      United States|    1|\n",
      "|            Anguilla|      United States|   41|\n",
      "|             Bolivia|      United States|   30|\n",
      "|       United States|           Paraguay|    6|\n",
      "|             Algeria|      United States|    4|\n",
      "|Turks and Caicos ...|      United States|  230|\n",
      "|       United States|          Gibraltar|    1|\n",
      "+--------------------+-------------------+-----+\n",
      "only showing top 20 rows\n",
      "\n"
     ]
    }
   ],
   "source": [
    "path_csv = \"data/2015-summary.csv\"\n",
    "\n",
    "df = spark.read.csv(path_csv, header=True, sep=\",\", inferSchema=True)\n",
    "df.show()"
   ]
  },
  {
   "cell_type": "code",
   "execution_count": 9,
   "metadata": {},
   "outputs": [],
   "source": [
    "path_json = \"data/2015-summary-v2.json\"\n",
    "df.write.json(path_json, mode = \"overwrite\") # overwrite, append, error, ignore"
   ]
  },
  {
   "cell_type": "code",
   "execution_count": 10,
   "metadata": {},
   "outputs": [
    {
     "name": "stdout",
     "output_type": "stream",
     "text": [
      "+-----------------+-------------------+-----+\n",
      "|DEST_COUNTRY_NAME|ORIGIN_COUNTRY_NAME|count|\n",
      "+-----------------+-------------------+-----+\n",
      "|    United States|            Romania|   15|\n",
      "|    United States|            Croatia|    1|\n",
      "|    United States|            Ireland|  344|\n",
      "|            Egypt|      United States|   15|\n",
      "|    United States|              India|   62|\n",
      "|    United States|          Singapore|    1|\n",
      "|    United States|            Grenada|   62|\n",
      "|       Costa Rica|      United States|  588|\n",
      "|          Senegal|      United States|   40|\n",
      "|          Moldova|      United States|    1|\n",
      "+-----------------+-------------------+-----+\n",
      "only showing top 10 rows\n",
      "\n"
     ]
    }
   ],
   "source": [
    "spark.read.json(path_json).show(10)"
   ]
  },
  {
   "cell_type": "code",
   "execution_count": 11,
   "metadata": {},
   "outputs": [
    {
     "name": "stdout",
     "output_type": "stream",
     "text": [
      "+--------------------+\n",
      "|               value|\n",
      "+--------------------+\n",
      "|The Project Guten...|\n",
      "|                    |\n",
      "|This ebook is for...|\n",
      "|most other parts ...|\n",
      "|whatsoever. You m...|\n",
      "|of the Project Gu...|\n",
      "|at www.gutenberg....|\n",
      "|you will have to ...|\n",
      "|before using this...|\n",
      "|                    |\n",
      "|  Title: Don Quijote|\n",
      "|                    |\n",
      "|Author: Miguel de...|\n",
      "|                    |\n",
      "|Release date: Dec...|\n",
      "|                M...|\n",
      "|                    |\n",
      "|   Language: Spanish|\n",
      "|                    |\n",
      "|Credits: an anony...|\n",
      "+--------------------+\n",
      "only showing top 20 rows\n",
      "\n"
     ]
    }
   ],
   "source": [
    "path_txt = 'data/Don-Quijote.txt'\n",
    "spark.read.text(path_txt).show()"
   ]
  },
  {
   "cell_type": "code",
   "execution_count": 12,
   "metadata": {},
   "outputs": [
    {
     "name": "stdout",
     "output_type": "stream",
     "text": [
      "+-----------------+-------------------+-----+\n",
      "|DEST_COUNTRY_NAME|ORIGIN_COUNTRY_NAME|count|\n",
      "+-----------------+-------------------+-----+\n",
      "|    United States|            Romania|   15|\n",
      "|    United States|            Croatia|    1|\n",
      "|    United States|            Ireland|  344|\n",
      "|            Egypt|      United States|   15|\n",
      "|    United States|              India|   62|\n",
      "|    United States|          Singapore|    1|\n",
      "|    United States|            Grenada|   62|\n",
      "|       Costa Rica|      United States|  588|\n",
      "|          Senegal|      United States|   40|\n",
      "|          Moldova|      United States|    1|\n",
      "+-----------------+-------------------+-----+\n",
      "only showing top 10 rows\n",
      "\n"
     ]
    }
   ],
   "source": [
    "path_json = \"data/2015-summary-v2.json\"\n",
    "spark.read.format(\"json\").load(path_json).show(10)"
   ]
  },
  {
   "cell_type": "code",
   "execution_count": 13,
   "metadata": {},
   "outputs": [
    {
     "name": "stdout",
     "output_type": "stream",
     "text": [
      "+-----------------+-------------------+-----+\n",
      "|              _c0|                _c1|  _c2|\n",
      "+-----------------+-------------------+-----+\n",
      "|DEST_COUNTRY_NAME|ORIGIN_COUNTRY_NAME|count|\n",
      "|    United States|            Romania|   15|\n",
      "|    United States|            Croatia|    1|\n",
      "|    United States|            Ireland|  344|\n",
      "|            Egypt|      United States|   15|\n",
      "|    United States|              India|   62|\n",
      "|    United States|          Singapore|    1|\n",
      "|    United States|            Grenada|   62|\n",
      "|       Costa Rica|      United States|  588|\n",
      "|          Senegal|      United States|   40|\n",
      "+-----------------+-------------------+-----+\n",
      "only showing top 10 rows\n",
      "\n"
     ]
    }
   ],
   "source": [
    "spark.read.format(\"csv\").load(path_csv).show(10)"
   ]
  },
  {
   "cell_type": "code",
   "execution_count": 17,
   "metadata": {},
   "outputs": [
    {
     "name": "stdout",
     "output_type": "stream",
     "text": [
      "+----------+-----------+--------------------------------------------------+----------+----------+-------------------+----------------------------+-------+--------------+-----+--------------------------+---------+------------+---------------------------------+--------------+--------------+\n",
      "|job_id    |company_id |title                                             |min_salary|pay_period|formatted_work_type|location                    |applies|remote_allowed|views|formatted_experience_level|sponsored|company_size|industry                         |employee_count|follower_count|\n",
      "+----------+-----------+--------------------------------------------------+----------+----------+-------------------+----------------------------+-------+--------------+-----+--------------------------+---------+------------+---------------------------------+--------------+--------------+\n",
      "|2148434586|2780388.0  |Manager, Salesforce Platform                      |98640.0   |YEARLY    |Full-time          |New Hampshire, United States|0.0    |0.0           |0.0  |Mid-Senior level          |0        |5.0         |Real Estate                      |1132.0        |29459.0       |\n",
      "|2148434616|15564.0    |Lead Solar Maintenance Roofer, Residential Service|19.0      |HOURLY    |Full-time          |San Diego, CA               |0.0    |0.0           |0.0  |Mid-Senior level          |0        |7.0         |Automotive                       |61796.0       |1.1874439E7   |\n",
      "|2148434725|13074.0    |Mental Health Professional                        |55280.0   |YEARLY    |Full-time          |Spokane, WA                 |0.0    |0.0           |0.0  |Entry level               |0        |7.0         |Hospital & Health Care           |10035.0       |42011.0       |\n",
      "|2148434726|13074.0    |Mental Health Professional                        |55280.0   |YEARLY    |Full-time          |Spokane, WA                 |0.0    |0.0           |0.0  |Entry level               |0        |7.0         |Hospital & Health Care           |10035.0       |42011.0       |\n",
      "|2148434909|6600327.0  |Clinic Managers - Physical Therapist              |91010.65  |YEARLY    |Full-time          |Puyallup, WA                |0.0    |0.0           |0.0  |Mid-Senior level          |0        |3.0         |Hospital & Health Care           |198.0         |643.0         |\n",
      "|2649106600|1.0496448E7|Lead Software Engineer                            |160000.0  |YEARLY    |Full-time          |United States               |1.0    |1.0           |10.0 |Mid-Senior level          |0        |2.0         |Information Technology & Services|219.0         |25751.0       |\n",
      "|3557311439|9817526.0  |Territory Associate                               |45000.0   |YEARLY    |Full-time          |San Gabriel, CA             |0.0    |0.0           |0.0  |Entry level               |0        |4.0         |Medical Device                   |472.0         |9590.0        |\n",
      "|3584068782|583005.0   |Sales Account Executive - Court & Process         |60000.0   |YEARLY    |Full-time          |San Francisco Bay Area      |2.0    |0.0           |5.0  |Executive                 |0        |4.0         |Law Practice                     |352.0         |4485.0        |\n",
      "|3636503102|408636.0   |Remote Licensed Health Insurance Agent            |18.0      |HOURLY    |Full-time          |United States               |0.0    |1.0           |0.0  |Associate                 |1        |5.0         |Staffing & Recruiting            |4303.0        |44848.0       |\n",
      "|3680164564|6648075.0  |Principal                                         |160000.0  |YEARLY    |Full-time          |Chicago, IL                 |21.0   |0.0           |117.0|Director                  |0        |1.0         |Staffing & Recruiting            |17.0          |27218.0       |\n",
      "+----------+-----------+--------------------------------------------------+----------+----------+-------------------+----------------------------+-------+--------------+-----+--------------------------+---------+------------+---------------------------------+--------------+--------------+\n",
      "only showing top 10 rows\n",
      "\n"
     ]
    }
   ],
   "source": [
    "df = spark.read.parquet(\"data/linkedin.parquet\")\n",
    "df.show(10, truncate=False)"
   ]
  },
  {
   "cell_type": "code",
   "execution_count": 16,
   "metadata": {},
   "outputs": [
    {
     "name": "stdout",
     "output_type": "stream",
     "text": [
      "-RECORD 0--------------------------------------------------\n",
      " job_id                     | 2148434586                   \n",
      " company_id                 | 2780388.0                    \n",
      " title                      | Manager, Salesforce Platform \n",
      " min_salary                 | 98640.0                      \n",
      " pay_period                 | YEARLY                       \n",
      " formatted_work_type        | Full-time                    \n",
      " location                   | New Hampshire, United States \n",
      " applies                    | 0.0                          \n",
      " remote_allowed             | 0.0                          \n",
      " views                      | 0.0                          \n",
      " formatted_experience_level | Mid-Senior level             \n",
      " sponsored                  | 0                            \n",
      " company_size               | 5.0                          \n",
      " industry                   | Real Estate                  \n",
      " employee_count             | 1132.0                       \n",
      " follower_count             | 29459.0                      \n",
      "only showing top 1 row\n",
      "\n"
     ]
    }
   ],
   "source": [
    "df.show(1, vertical=True, truncate=False)"
   ]
  },
  {
   "cell_type": "code",
   "execution_count": 18,
   "metadata": {},
   "outputs": [
    {
     "name": "stdout",
     "output_type": "stream",
     "text": [
      "root\n",
      " |-- job_id: long (nullable = true)\n",
      " |-- company_id: double (nullable = true)\n",
      " |-- title: string (nullable = true)\n",
      " |-- min_salary: double (nullable = true)\n",
      " |-- pay_period: string (nullable = true)\n",
      " |-- formatted_work_type: string (nullable = true)\n",
      " |-- location: string (nullable = true)\n",
      " |-- applies: double (nullable = true)\n",
      " |-- remote_allowed: double (nullable = true)\n",
      " |-- views: double (nullable = true)\n",
      " |-- formatted_experience_level: string (nullable = true)\n",
      " |-- sponsored: integer (nullable = true)\n",
      " |-- company_size: double (nullable = true)\n",
      " |-- industry: string (nullable = true)\n",
      " |-- employee_count: double (nullable = true)\n",
      " |-- follower_count: double (nullable = true)\n",
      "\n"
     ]
    }
   ],
   "source": [
    "df.printSchema()"
   ]
  },
  {
   "cell_type": "markdown",
   "metadata": {},
   "source": [
    "### Data Type Conversion\n"
   ]
  },
  {
   "cell_type": "code",
   "execution_count": 21,
   "metadata": {},
   "outputs": [
    {
     "name": "stdout",
     "output_type": "stream",
     "text": [
      "root\n",
      " |-- job_id: string (nullable = true)\n",
      " |-- company_id: string (nullable = true)\n",
      " |-- title: string (nullable = true)\n",
      " |-- min_salary: integer (nullable = true)\n",
      " |-- pay_period: string (nullable = true)\n",
      " |-- formatted_work_type: string (nullable = true)\n",
      " |-- location: string (nullable = true)\n",
      " |-- applies: double (nullable = true)\n",
      " |-- remote_allowed: boolean (nullable = true)\n",
      " |-- views: double (nullable = true)\n",
      " |-- formatted_experience_level: string (nullable = true)\n",
      " |-- sponsored: integer (nullable = true)\n",
      " |-- company_size: double (nullable = true)\n",
      " |-- industry: string (nullable = true)\n",
      " |-- employee_count: double (nullable = true)\n",
      " |-- follower_count: double (nullable = true)\n",
      "\n"
     ]
    }
   ],
   "source": [
    "from pyspark.sql.functions import col\n",
    "from pyspark.sql.types import StringType, IntegerType, BooleanType\n",
    "\n",
    "df = df.withColumn(\"job_id\", col(\"job_id\").cast(StringType()))\n",
    "df = df.withColumn(\"company_id\", col(\"company_id\").cast(StringType()))\n",
    "df = df.withColumn(\"min_salary\", col(\"min_salary\").cast(IntegerType()))\n",
    "df = df.withColumn(\"remote_allowed\", col(\"remote_allowed\").cast(BooleanType()))\n",
    "df.printSchema()"
   ]
  },
  {
   "cell_type": "code",
   "execution_count": 20,
   "metadata": {},
   "outputs": [
    {
     "name": "stdout",
     "output_type": "stream",
     "text": [
      "+----------+-----------+--------------------+----------+----------+-------------------+--------------------+-------+--------------+-----+--------------------------+---------+------------+--------------------+--------------+--------------+\n",
      "|    job_id| company_id|               title|min_salary|pay_period|formatted_work_type|            location|applies|remote_allowed|views|formatted_experience_level|sponsored|company_size|            industry|employee_count|follower_count|\n",
      "+----------+-----------+--------------------+----------+----------+-------------------+--------------------+-------+--------------+-----+--------------------------+---------+------------+--------------------+--------------+--------------+\n",
      "|2148434586|  2780388.0|Manager, Salesfor...|     98640|    YEARLY|          Full-time|New Hampshire, Un...|    0.0|         false|  0.0|          Mid-Senior level|        0|         5.0|         Real Estate|        1132.0|       29459.0|\n",
      "|2148434616|    15564.0|Lead Solar Mainte...|        19|    HOURLY|          Full-time|       San Diego, CA|    0.0|         false|  0.0|          Mid-Senior level|        0|         7.0|          Automotive|       61796.0|   1.1874439E7|\n",
      "|2148434725|    13074.0|Mental Health Pro...|     55280|    YEARLY|          Full-time|         Spokane, WA|    0.0|         false|  0.0|               Entry level|        0|         7.0|Hospital & Health...|       10035.0|       42011.0|\n",
      "|2148434726|    13074.0|Mental Health Pro...|     55280|    YEARLY|          Full-time|         Spokane, WA|    0.0|         false|  0.0|               Entry level|        0|         7.0|Hospital & Health...|       10035.0|       42011.0|\n",
      "|2148434909|  6600327.0|Clinic Managers -...|     91010|    YEARLY|          Full-time|        Puyallup, WA|    0.0|         false|  0.0|          Mid-Senior level|        0|         3.0|Hospital & Health...|         198.0|         643.0|\n",
      "|2649106600|1.0496448E7|Lead Software Eng...|    160000|    YEARLY|          Full-time|       United States|    1.0|          true| 10.0|          Mid-Senior level|        0|         2.0|Information Techn...|         219.0|       25751.0|\n",
      "|3557311439|  9817526.0|Territory Associate |     45000|    YEARLY|          Full-time|     San Gabriel, CA|    0.0|         false|  0.0|               Entry level|        0|         4.0|      Medical Device|         472.0|        9590.0|\n",
      "|3584068782|   583005.0|Sales Account Exe...|     60000|    YEARLY|          Full-time|San Francisco Bay...|    2.0|         false|  5.0|                 Executive|        0|         4.0|        Law Practice|         352.0|        4485.0|\n",
      "|3636503102|   408636.0|Remote Licensed H...|        18|    HOURLY|          Full-time|       United States|    0.0|          true|  0.0|                 Associate|        1|         5.0|Staffing & Recrui...|        4303.0|       44848.0|\n",
      "|3680164564|  6648075.0|           Principal|    160000|    YEARLY|          Full-time|         Chicago, IL|   21.0|         false|117.0|                  Director|        0|         1.0|Staffing & Recrui...|          17.0|       27218.0|\n",
      "|3682818140|6.8921004E7|Senior Business I...|       100|    YEARLY|           Contract|        McKinney, TX|   41.0|         false|155.0|                 Executive|        0|         1.0|Information Techn...|          12.0|       10327.0|\n",
      "|3689687080|   252624.0|        Area Manager|     90000|    YEARLY|          Full-time|         Buffalo, NY|   39.0|         false|114.0|          Mid-Senior level|        1|         6.0|           Utilities|        1771.0|       11720.0|\n",
      "|3690804650|   260776.0|Director of Engin...|    127000|    YEARLY|          Full-time|           Largo, FL|   86.0|         false|433.0|          Mid-Senior level|        0|         4.0|     Pharmaceuticals|         311.0|        5405.0|\n",
      "|3690841406|   477012.0|Russian Linguist ...|    100000|    YEARLY|          Full-time|        Quantico, VA|   16.0|         false|185.0|          Mid-Senior level|        0|         2.0|Information Techn...|          16.0|        2274.0|\n",
      "|3690867240|  1724775.0| Mechanical Designer|        40|    HOURLY|           Contract|        Manassas, VA|   26.0|         false|100.0|                 Associate|        0|         4.0|        Oil & Energy|         140.0|       35612.0|\n",
      "|3692301171|   298409.0|   Project Assistant|     35000|    YEARLY|          Full-time|      Minnetonka, MN|    3.0|         false|  6.0|               Entry level|        0|         4.0|Staffing & Recrui...|         395.0|      146780.0|\n",
      "|3692302089|    37768.0|Data Scientist/ P...|        70|    HOURLY|           Contract|   San Francisco, CA|    7.0|         false| 37.0|          Mid-Senior level|        0|         5.0|Information Techn...|        2025.0|      231947.0|\n",
      "|3692362958|  2413926.0|TicketManager - C...|        22|    HOURLY|          Full-time|           Tempe, AZ|    1.0|         false| 13.0|               Entry level|        0|         1.0|Staffing & Recrui...|          13.0|        8106.0|\n",
      "|3692364560|  4857886.0|President TOA Glo...|    250000|    YEARLY|          Full-time|      Fort Worth, TX|    1.0|         false|  5.0|                 Executive|        0|         5.0|Outsourcing/Offsh...|        2948.0|       45509.0|\n",
      "|3692368330|9.0723074E7|Assistant Resourc...|     45052|    YEARLY|          Full-time|          Tucson, AZ|    0.0|         false|  6.0|          Mid-Senior level|        0|         2.0|Non-profit Organi...|          96.0|         548.0|\n",
      "+----------+-----------+--------------------+----------+----------+-------------------+--------------------+-------+--------------+-----+--------------------------+---------+------------+--------------------+--------------+--------------+\n",
      "only showing top 20 rows\n",
      "\n"
     ]
    }
   ],
   "source": [
    "df.show()"
   ]
  },
  {
   "cell_type": "markdown",
   "metadata": {},
   "source": [
    "### String Manipulation\n",
    "\n"
   ]
  },
  {
   "cell_type": "code",
   "execution_count": 22,
   "metadata": {},
   "outputs": [
    {
     "name": "stdout",
     "output_type": "stream",
     "text": [
      "+----------+-----------+--------------------+----------+----------+-------------------+--------------------+-------+--------------+-----+--------------------------+---------+------------+--------------------+--------------+--------------+\n",
      "|    job_id| company_id|               title|min_salary|pay_period|formatted_work_type|            location|applies|remote_allowed|views|formatted_experience_level|sponsored|company_size|            industry|employee_count|follower_count|\n",
      "+----------+-----------+--------------------+----------+----------+-------------------+--------------------+-------+--------------+-----+--------------------------+---------+------------+--------------------+--------------+--------------+\n",
      "|2148434586|  2780388.0|Manager, Salesfor...|     98640|         Y|          Full-time|New Hampshire, Un...|    0.0|         false|  0.0|          Mid-Senior level|        0|         5.0|         Real Estate|        1132.0|       29459.0|\n",
      "|2148434616|    15564.0|Lead Solar Mainte...|        19|         H|          Full-time|       San Diego, CA|    0.0|         false|  0.0|          Mid-Senior level|        0|         7.0|          Automotive|       61796.0|   1.1874439E7|\n",
      "|2148434725|    13074.0|Mental Health Pro...|     55280|         Y|          Full-time|         Spokane, WA|    0.0|         false|  0.0|               Entry level|        0|         7.0|Hospital & Health...|       10035.0|       42011.0|\n",
      "|2148434726|    13074.0|Mental Health Pro...|     55280|         Y|          Full-time|         Spokane, WA|    0.0|         false|  0.0|               Entry level|        0|         7.0|Hospital & Health...|       10035.0|       42011.0|\n",
      "|2148434909|  6600327.0|Clinic Managers -...|     91010|         Y|          Full-time|        Puyallup, WA|    0.0|         false|  0.0|          Mid-Senior level|        0|         3.0|Hospital & Health...|         198.0|         643.0|\n",
      "|2649106600|1.0496448E7|Lead Software Eng...|    160000|         Y|          Full-time|       United States|    1.0|          true| 10.0|          Mid-Senior level|        0|         2.0|Information Techn...|         219.0|       25751.0|\n",
      "|3557311439|  9817526.0|Territory Associate |     45000|         Y|          Full-time|     San Gabriel, CA|    0.0|         false|  0.0|               Entry level|        0|         4.0|      Medical Device|         472.0|        9590.0|\n",
      "|3584068782|   583005.0|Sales Account Exe...|     60000|         Y|          Full-time|San Francisco Bay...|    2.0|         false|  5.0|                 Executive|        0|         4.0|        Law Practice|         352.0|        4485.0|\n",
      "|3636503102|   408636.0|Remote Licensed H...|        18|         H|          Full-time|       United States|    0.0|          true|  0.0|                 Associate|        1|         5.0|Staffing & Recrui...|        4303.0|       44848.0|\n",
      "|3680164564|  6648075.0|           Principal|    160000|         Y|          Full-time|         Chicago, IL|   21.0|         false|117.0|                  Director|        0|         1.0|Staffing & Recrui...|          17.0|       27218.0|\n",
      "|3682818140|6.8921004E7|Senior Business I...|       100|         Y|           Contract|        McKinney, TX|   41.0|         false|155.0|                 Executive|        0|         1.0|Information Techn...|          12.0|       10327.0|\n",
      "|3689687080|   252624.0|        Area Manager|     90000|         Y|          Full-time|         Buffalo, NY|   39.0|         false|114.0|          Mid-Senior level|        1|         6.0|           Utilities|        1771.0|       11720.0|\n",
      "|3690804650|   260776.0|Director of Engin...|    127000|         Y|          Full-time|           Largo, FL|   86.0|         false|433.0|          Mid-Senior level|        0|         4.0|     Pharmaceuticals|         311.0|        5405.0|\n",
      "|3690841406|   477012.0|Russian Linguist ...|    100000|         Y|          Full-time|        Quantico, VA|   16.0|         false|185.0|          Mid-Senior level|        0|         2.0|Information Techn...|          16.0|        2274.0|\n",
      "|3690867240|  1724775.0| Mechanical Designer|        40|         H|           Contract|        Manassas, VA|   26.0|         false|100.0|                 Associate|        0|         4.0|        Oil & Energy|         140.0|       35612.0|\n",
      "|3692301171|   298409.0|   Project Assistant|     35000|         Y|          Full-time|      Minnetonka, MN|    3.0|         false|  6.0|               Entry level|        0|         4.0|Staffing & Recrui...|         395.0|      146780.0|\n",
      "|3692302089|    37768.0|Data Scientist/ P...|        70|         H|           Contract|   San Francisco, CA|    7.0|         false| 37.0|          Mid-Senior level|        0|         5.0|Information Techn...|        2025.0|      231947.0|\n",
      "|3692362958|  2413926.0|TicketManager - C...|        22|         H|          Full-time|           Tempe, AZ|    1.0|         false| 13.0|               Entry level|        0|         1.0|Staffing & Recrui...|          13.0|        8106.0|\n",
      "|3692364560|  4857886.0|President TOA Glo...|    250000|         Y|          Full-time|      Fort Worth, TX|    1.0|         false|  5.0|                 Executive|        0|         5.0|Outsourcing/Offsh...|        2948.0|       45509.0|\n",
      "|3692368330|9.0723074E7|Assistant Resourc...|     45052|         Y|          Full-time|          Tucson, AZ|    0.0|         false|  6.0|          Mid-Senior level|        0|         2.0|Non-profit Organi...|          96.0|         548.0|\n",
      "+----------+-----------+--------------------+----------+----------+-------------------+--------------------+-------+--------------+-----+--------------------------+---------+------------+--------------------+--------------+--------------+\n",
      "only showing top 20 rows\n",
      "\n"
     ]
    }
   ],
   "source": [
    "from pyspark.sql.functions import substring, concat, lower, upper, split\n",
    "\n",
    "df = df.withColumn(\"pay_period\", substring(\"pay_period\",1,1))\n",
    "df.show()"
   ]
  },
  {
   "cell_type": "code",
   "execution_count": 28,
   "metadata": {},
   "outputs": [
    {
     "name": "stdout",
     "output_type": "stream",
     "text": [
      "+----------+-----------+--------------------------------------------------+----------+----------+-------------------+----------------------------+-------+--------------+-----+--------------------------+---------+------------+---------------------------------+--------------+--------------+---------------------------------------------------------------------+\n",
      "|job_id    |company_id |title                                             |min_salary|pay_period|formatted_work_type|location                    |applies|remote_allowed|views|formatted_experience_level|sponsored|company_size|industry                         |employee_count|follower_count|title_extendido                                                      |\n",
      "+----------+-----------+--------------------------------------------------+----------+----------+-------------------+----------------------------+-------+--------------+-----+--------------------------+---------+------------+---------------------------------+--------------+--------------+---------------------------------------------------------------------+\n",
      "|2148434586|2780388.0  |Manager, Salesforce Platform                      |98640     |Y         |Full-time          |New Hampshire, United States|0.0    |false         |0.0  |Mid-Senior level          |0        |5.0         |Real Estate                      |1132.0        |29459.0       |mid-senior level - manager, salesforce platform                      |\n",
      "|2148434616|15564.0    |Lead Solar Maintenance Roofer, Residential Service|19        |H         |Full-time          |San Diego, CA               |0.0    |false         |0.0  |Mid-Senior level          |0        |7.0         |Automotive                       |61796.0       |1.1874439E7   |mid-senior level - lead solar maintenance roofer, residential service|\n",
      "|2148434725|13074.0    |Mental Health Professional                        |55280     |Y         |Full-time          |Spokane, WA                 |0.0    |false         |0.0  |Entry level               |0        |7.0         |Hospital & Health Care           |10035.0       |42011.0       |entry level - mental health professional                             |\n",
      "|2148434726|13074.0    |Mental Health Professional                        |55280     |Y         |Full-time          |Spokane, WA                 |0.0    |false         |0.0  |Entry level               |0        |7.0         |Hospital & Health Care           |10035.0       |42011.0       |entry level - mental health professional                             |\n",
      "|2148434909|6600327.0  |Clinic Managers - Physical Therapist              |91010     |Y         |Full-time          |Puyallup, WA                |0.0    |false         |0.0  |Mid-Senior level          |0        |3.0         |Hospital & Health Care           |198.0         |643.0         |mid-senior level - clinic managers - physical therapist              |\n",
      "|2649106600|1.0496448E7|Lead Software Engineer                            |160000    |Y         |Full-time          |United States               |1.0    |true          |10.0 |Mid-Senior level          |0        |2.0         |Information Technology & Services|219.0         |25751.0       |mid-senior level - lead software engineer                            |\n",
      "|3557311439|9817526.0  |Territory Associate                               |45000     |Y         |Full-time          |San Gabriel, CA             |0.0    |false         |0.0  |Entry level               |0        |4.0         |Medical Device                   |472.0         |9590.0        |entry level - territory associate                                    |\n",
      "|3584068782|583005.0   |Sales Account Executive - Court & Process         |60000     |Y         |Full-time          |San Francisco Bay Area      |2.0    |false         |5.0  |Executive                 |0        |4.0         |Law Practice                     |352.0         |4485.0        |executive - sales account executive - court & process                |\n",
      "|3636503102|408636.0   |Remote Licensed Health Insurance Agent            |18        |H         |Full-time          |United States               |0.0    |true          |0.0  |Associate                 |1        |5.0         |Staffing & Recruiting            |4303.0        |44848.0       |associate - remote licensed health insurance agent                   |\n",
      "|3680164564|6648075.0  |Principal                                         |160000    |Y         |Full-time          |Chicago, IL                 |21.0   |false         |117.0|Director                  |0        |1.0         |Staffing & Recruiting            |17.0          |27218.0       |director - principal                                                 |\n",
      "+----------+-----------+--------------------------------------------------+----------+----------+-------------------+----------------------------+-------+--------------+-----+--------------------------+---------+------------+---------------------------------+--------------+--------------+---------------------------------------------------------------------+\n",
      "only showing top 10 rows\n",
      "\n",
      "+----------+-----------+--------------------+----------+----------+-------------------+--------------------+-------+--------------+-----+--------------------------+---------+------------+--------------------+--------------+--------------+--------------------+\n",
      "|    job_id| company_id|               title|min_salary|pay_period|formatted_work_type|            location|applies|remote_allowed|views|formatted_experience_level|sponsored|company_size|            industry|employee_count|follower_count|     title_extendido|\n",
      "+----------+-----------+--------------------+----------+----------+-------------------+--------------------+-------+--------------+-----+--------------------------+---------+------------+--------------------+--------------+--------------+--------------------+\n",
      "|2148434586|  2780388.0|Manager, Salesfor...|     98640|         Y|          Full-time|New Hampshire, Un...|    0.0|         false|  0.0|          Mid-Senior level|        0|         5.0|         Real Estate|        1132.0|       29459.0|MID-SENIOR LEVEL ...|\n",
      "|2148434616|    15564.0|Lead Solar Mainte...|        19|         H|          Full-time|       San Diego, CA|    0.0|         false|  0.0|          Mid-Senior level|        0|         7.0|          Automotive|       61796.0|   1.1874439E7|MID-SENIOR LEVEL ...|\n",
      "|2148434725|    13074.0|Mental Health Pro...|     55280|         Y|          Full-time|         Spokane, WA|    0.0|         false|  0.0|               Entry level|        0|         7.0|Hospital & Health...|       10035.0|       42011.0|ENTRY LEVEL - MEN...|\n",
      "|2148434726|    13074.0|Mental Health Pro...|     55280|         Y|          Full-time|         Spokane, WA|    0.0|         false|  0.0|               Entry level|        0|         7.0|Hospital & Health...|       10035.0|       42011.0|ENTRY LEVEL - MEN...|\n",
      "|2148434909|  6600327.0|Clinic Managers -...|     91010|         Y|          Full-time|        Puyallup, WA|    0.0|         false|  0.0|          Mid-Senior level|        0|         3.0|Hospital & Health...|         198.0|         643.0|MID-SENIOR LEVEL ...|\n",
      "|2649106600|1.0496448E7|Lead Software Eng...|    160000|         Y|          Full-time|       United States|    1.0|          true| 10.0|          Mid-Senior level|        0|         2.0|Information Techn...|         219.0|       25751.0|MID-SENIOR LEVEL ...|\n",
      "|3557311439|  9817526.0|Territory Associate |     45000|         Y|          Full-time|     San Gabriel, CA|    0.0|         false|  0.0|               Entry level|        0|         4.0|      Medical Device|         472.0|        9590.0|ENTRY LEVEL - TER...|\n",
      "|3584068782|   583005.0|Sales Account Exe...|     60000|         Y|          Full-time|San Francisco Bay...|    2.0|         false|  5.0|                 Executive|        0|         4.0|        Law Practice|         352.0|        4485.0|EXECUTIVE - SALES...|\n",
      "|3636503102|   408636.0|Remote Licensed H...|        18|         H|          Full-time|       United States|    0.0|          true|  0.0|                 Associate|        1|         5.0|Staffing & Recrui...|        4303.0|       44848.0|ASSOCIATE - REMOT...|\n",
      "|3680164564|  6648075.0|           Principal|    160000|         Y|          Full-time|         Chicago, IL|   21.0|         false|117.0|                  Director|        0|         1.0|Staffing & Recrui...|          17.0|       27218.0|DIRECTOR - PRINCIPAL|\n",
      "+----------+-----------+--------------------+----------+----------+-------------------+--------------------+-------+--------------+-----+--------------------------+---------+------------+--------------------+--------------+--------------+--------------------+\n",
      "only showing top 10 rows\n",
      "\n"
     ]
    }
   ],
   "source": [
    "from pyspark.sql.functions import lit\n",
    "df.withColumn(\"title_extendido\",lower(concat(\"formatted_experience_level\", lit(\" - \"), \"title\"))).show(10, truncate=False)\n",
    "df.withColumn(\"title_extendido\",upper(concat(\"formatted_experience_level\", lit(\" - \"), \"title\"))).show(10, truncate=True)"
   ]
  },
  {
   "cell_type": "code",
   "execution_count": 36,
   "metadata": {},
   "outputs": [
    {
     "name": "stdout",
     "output_type": "stream",
     "text": [
      "+----------+-----------+--------------------------------------------------+----------+----------+-------------------+----------------------------+-------+--------------+-----+--------------------------+---------+------------+----------------------------------+--------------+--------------+-------------------------------+\n",
      "|job_id    |company_id |title                                             |min_salary|pay_period|formatted_work_type|location                    |applies|remote_allowed|views|formatted_experience_level|sponsored|company_size|industry                          |employee_count|follower_count|location2                      |\n",
      "+----------+-----------+--------------------------------------------------+----------+----------+-------------------+----------------------------+-------+--------------+-----+--------------------------+---------+------------+----------------------------------+--------------+--------------+-------------------------------+\n",
      "|2148434586|2780388.0  |Manager, Salesforce Platform                      |98640     |Y         |Full-time          |New Hampshire, United States|0.0    |false         |0.0  |Mid-Senior level          |0        |5.0         |Real Estate                       |1132.0        |29459.0       |[New Hampshire,  United States]|\n",
      "|2148434616|15564.0    |Lead Solar Maintenance Roofer, Residential Service|19        |H         |Full-time          |San Diego, CA               |0.0    |false         |0.0  |Mid-Senior level          |0        |7.0         |Automotive                        |61796.0       |1.1874439E7   |[San Diego,  CA]               |\n",
      "|2148434725|13074.0    |Mental Health Professional                        |55280     |Y         |Full-time          |Spokane, WA                 |0.0    |false         |0.0  |Entry level               |0        |7.0         |Hospital & Health Care            |10035.0       |42011.0       |[Spokane,  WA]                 |\n",
      "|2148434726|13074.0    |Mental Health Professional                        |55280     |Y         |Full-time          |Spokane, WA                 |0.0    |false         |0.0  |Entry level               |0        |7.0         |Hospital & Health Care            |10035.0       |42011.0       |[Spokane,  WA]                 |\n",
      "|2148434909|6600327.0  |Clinic Managers - Physical Therapist              |91010     |Y         |Full-time          |Puyallup, WA                |0.0    |false         |0.0  |Mid-Senior level          |0        |3.0         |Hospital & Health Care            |198.0         |643.0         |[Puyallup,  WA]                |\n",
      "|2649106600|1.0496448E7|Lead Software Engineer                            |160000    |Y         |Full-time          |United States               |1.0    |true          |10.0 |Mid-Senior level          |0        |2.0         |Information Technology & Services |219.0         |25751.0       |[United States]                |\n",
      "|3557311439|9817526.0  |Territory Associate                               |45000     |Y         |Full-time          |San Gabriel, CA             |0.0    |false         |0.0  |Entry level               |0        |4.0         |Medical Device                    |472.0         |9590.0        |[San Gabriel,  CA]             |\n",
      "|3584068782|583005.0   |Sales Account Executive - Court & Process         |60000     |Y         |Full-time          |San Francisco Bay Area      |2.0    |false         |5.0  |Executive                 |0        |4.0         |Law Practice                      |352.0         |4485.0        |[San Francisco Bay Area]       |\n",
      "|3636503102|408636.0   |Remote Licensed Health Insurance Agent            |18        |H         |Full-time          |United States               |0.0    |true          |0.0  |Associate                 |1        |5.0         |Staffing & Recruiting             |4303.0        |44848.0       |[United States]                |\n",
      "|3680164564|6648075.0  |Principal                                         |160000    |Y         |Full-time          |Chicago, IL                 |21.0   |false         |117.0|Director                  |0        |1.0         |Staffing & Recruiting             |17.0          |27218.0       |[Chicago,  IL]                 |\n",
      "|3682818140|6.8921004E7|Senior Business Intelligence Developer            |100       |Y         |Contract           |McKinney, TX                |41.0   |false         |155.0|Executive                 |0        |1.0         |Information Technology & Services |12.0          |10327.0       |[McKinney,  TX]                |\n",
      "|3689687080|252624.0   |Area Manager                                      |90000     |Y         |Full-time          |Buffalo, NY                 |39.0   |false         |114.0|Mid-Senior level          |1        |6.0         |Utilities                         |1771.0        |11720.0       |[Buffalo,  NY]                 |\n",
      "|3690804650|260776.0   |Director of Engineering                           |127000    |Y         |Full-time          |Largo, FL                   |86.0   |false         |433.0|Mid-Senior level          |0        |4.0         |Pharmaceuticals                   |311.0         |5405.0        |[Largo,  FL]                   |\n",
      "|3690841406|477012.0   |Russian Linguist with TS/SCI                      |100000    |Y         |Full-time          |Quantico, VA                |16.0   |false         |185.0|Mid-Senior level          |0        |2.0         |Information Technology & Services |16.0          |2274.0        |[Quantico,  VA]                |\n",
      "|3690867240|1724775.0  |Mechanical Designer                               |40        |H         |Contract           |Manassas, VA                |26.0   |false         |100.0|Associate                 |0        |4.0         |Oil & Energy                      |140.0         |35612.0       |[Manassas,  VA]                |\n",
      "|3692301171|298409.0   |Project Assistant                                 |35000     |Y         |Full-time          |Minnetonka, MN              |3.0    |false         |6.0  |Entry level               |0        |4.0         |Staffing & Recruiting             |395.0         |146780.0      |[Minnetonka,  MN]              |\n",
      "|3692302089|37768.0    |Data Scientist/ Product Analyst                   |70        |H         |Contract           |San Francisco, CA           |7.0    |false         |37.0 |Mid-Senior level          |0        |5.0         |Information Technology & Services |2025.0        |231947.0      |[San Francisco,  CA]           |\n",
      "|3692362958|2413926.0  |TicketManager - Customer Support Specialist       |22        |H         |Full-time          |Tempe, AZ                   |1.0    |false         |13.0 |Entry level               |0        |1.0         |Staffing & Recruiting             |13.0          |8106.0        |[Tempe,  AZ]                   |\n",
      "|3692364560|4857886.0  |President TOA Global - North America              |250000    |Y         |Full-time          |Fort Worth, TX              |1.0    |false         |5.0  |Executive                 |0        |5.0         |Outsourcing/Offshoring            |2948.0        |45509.0       |[Fort Worth,  TX]              |\n",
      "|3692368330|9.0723074E7|Assistant Resource Center Manager                 |45052     |Y         |Full-time          |Tucson, AZ                  |0.0    |false         |6.0  |Mid-Senior level          |0        |2.0         |Non-profit Organization Management|96.0          |548.0         |[Tucson,  AZ]                  |\n",
      "+----------+-----------+--------------------------------------------------+----------+----------+-------------------+----------------------------+-------+--------------+-----+--------------------------+---------+------------+----------------------------------+--------------+--------------+-------------------------------+\n",
      "only showing top 20 rows\n",
      "\n"
     ]
    }
   ],
   "source": [
    "df = df.withColumn(\"location2\", split(\"location\",\",\"))\n",
    "df.show(truncate=False)"
   ]
  },
  {
   "cell_type": "code",
   "execution_count": 31,
   "metadata": {},
   "outputs": [
    {
     "name": "stdout",
     "output_type": "stream",
     "text": [
      "root\n",
      " |-- job_id: string (nullable = true)\n",
      " |-- company_id: string (nullable = true)\n",
      " |-- title: string (nullable = true)\n",
      " |-- min_salary: integer (nullable = true)\n",
      " |-- pay_period: string (nullable = true)\n",
      " |-- formatted_work_type: string (nullable = true)\n",
      " |-- location: string (nullable = true)\n",
      " |-- applies: double (nullable = true)\n",
      " |-- remote_allowed: boolean (nullable = true)\n",
      " |-- views: double (nullable = true)\n",
      " |-- formatted_experience_level: string (nullable = true)\n",
      " |-- sponsored: integer (nullable = true)\n",
      " |-- company_size: double (nullable = true)\n",
      " |-- industry: string (nullable = true)\n",
      " |-- employee_count: double (nullable = true)\n",
      " |-- follower_count: double (nullable = true)\n",
      " |-- location2: array (nullable = true)\n",
      " |    |-- element: string (containsNull = false)\n",
      "\n"
     ]
    }
   ],
   "source": [
    "df.printSchema()"
   ]
  },
  {
   "cell_type": "code",
   "execution_count": 38,
   "metadata": {},
   "outputs": [
    {
     "name": "stdout",
     "output_type": "stream",
     "text": [
      "+----------+-----------+--------------------+----------+----------+-------------------+--------------------+-------+--------------+-----+--------------------------+---------+------------+--------------------+--------------+--------------+--------------------+--------------------+--------------+\n",
      "|    job_id| company_id|               title|min_salary|pay_period|formatted_work_type|            location|applies|remote_allowed|views|formatted_experience_level|sponsored|company_size|            industry|employee_count|follower_count|           location2|              ciudad|        estado|\n",
      "+----------+-----------+--------------------+----------+----------+-------------------+--------------------+-------+--------------+-----+--------------------------+---------+------------+--------------------+--------------+--------------+--------------------+--------------------+--------------+\n",
      "|2148434586|  2780388.0|Manager, Salesfor...|     98640|         Y|          Full-time|New Hampshire, Un...|    0.0|         false|  0.0|          Mid-Senior level|        0|         5.0|         Real Estate|        1132.0|       29459.0|[New Hampshire,  ...|       New Hampshire| United States|\n",
      "|2148434616|    15564.0|Lead Solar Mainte...|        19|         H|          Full-time|       San Diego, CA|    0.0|         false|  0.0|          Mid-Senior level|        0|         7.0|          Automotive|       61796.0|   1.1874439E7|    [San Diego,  CA]|           San Diego|            CA|\n",
      "|2148434725|    13074.0|Mental Health Pro...|     55280|         Y|          Full-time|         Spokane, WA|    0.0|         false|  0.0|               Entry level|        0|         7.0|Hospital & Health...|       10035.0|       42011.0|      [Spokane,  WA]|             Spokane|            WA|\n",
      "|2148434726|    13074.0|Mental Health Pro...|     55280|         Y|          Full-time|         Spokane, WA|    0.0|         false|  0.0|               Entry level|        0|         7.0|Hospital & Health...|       10035.0|       42011.0|      [Spokane,  WA]|             Spokane|            WA|\n",
      "|2148434909|  6600327.0|Clinic Managers -...|     91010|         Y|          Full-time|        Puyallup, WA|    0.0|         false|  0.0|          Mid-Senior level|        0|         3.0|Hospital & Health...|         198.0|         643.0|     [Puyallup,  WA]|            Puyallup|            WA|\n",
      "|2649106600|1.0496448E7|Lead Software Eng...|    160000|         Y|          Full-time|       United States|    1.0|          true| 10.0|          Mid-Senior level|        0|         2.0|Information Techn...|         219.0|       25751.0|     [United States]|       United States|          NULL|\n",
      "|3557311439|  9817526.0|Territory Associate |     45000|         Y|          Full-time|     San Gabriel, CA|    0.0|         false|  0.0|               Entry level|        0|         4.0|      Medical Device|         472.0|        9590.0|  [San Gabriel,  CA]|         San Gabriel|            CA|\n",
      "|3584068782|   583005.0|Sales Account Exe...|     60000|         Y|          Full-time|San Francisco Bay...|    2.0|         false|  5.0|                 Executive|        0|         4.0|        Law Practice|         352.0|        4485.0|[San Francisco Ba...|San Francisco Bay...|          NULL|\n",
      "|3636503102|   408636.0|Remote Licensed H...|        18|         H|          Full-time|       United States|    0.0|          true|  0.0|                 Associate|        1|         5.0|Staffing & Recrui...|        4303.0|       44848.0|     [United States]|       United States|          NULL|\n",
      "|3680164564|  6648075.0|           Principal|    160000|         Y|          Full-time|         Chicago, IL|   21.0|         false|117.0|                  Director|        0|         1.0|Staffing & Recrui...|          17.0|       27218.0|      [Chicago,  IL]|             Chicago|            IL|\n",
      "|3682818140|6.8921004E7|Senior Business I...|       100|         Y|           Contract|        McKinney, TX|   41.0|         false|155.0|                 Executive|        0|         1.0|Information Techn...|          12.0|       10327.0|     [McKinney,  TX]|            McKinney|            TX|\n",
      "|3689687080|   252624.0|        Area Manager|     90000|         Y|          Full-time|         Buffalo, NY|   39.0|         false|114.0|          Mid-Senior level|        1|         6.0|           Utilities|        1771.0|       11720.0|      [Buffalo,  NY]|             Buffalo|            NY|\n",
      "|3690804650|   260776.0|Director of Engin...|    127000|         Y|          Full-time|           Largo, FL|   86.0|         false|433.0|          Mid-Senior level|        0|         4.0|     Pharmaceuticals|         311.0|        5405.0|        [Largo,  FL]|               Largo|            FL|\n",
      "|3690841406|   477012.0|Russian Linguist ...|    100000|         Y|          Full-time|        Quantico, VA|   16.0|         false|185.0|          Mid-Senior level|        0|         2.0|Information Techn...|          16.0|        2274.0|     [Quantico,  VA]|            Quantico|            VA|\n",
      "|3690867240|  1724775.0| Mechanical Designer|        40|         H|           Contract|        Manassas, VA|   26.0|         false|100.0|                 Associate|        0|         4.0|        Oil & Energy|         140.0|       35612.0|     [Manassas,  VA]|            Manassas|            VA|\n",
      "|3692301171|   298409.0|   Project Assistant|     35000|         Y|          Full-time|      Minnetonka, MN|    3.0|         false|  6.0|               Entry level|        0|         4.0|Staffing & Recrui...|         395.0|      146780.0|   [Minnetonka,  MN]|          Minnetonka|            MN|\n",
      "|3692302089|    37768.0|Data Scientist/ P...|        70|         H|           Contract|   San Francisco, CA|    7.0|         false| 37.0|          Mid-Senior level|        0|         5.0|Information Techn...|        2025.0|      231947.0|[San Francisco,  CA]|       San Francisco|            CA|\n",
      "|3692362958|  2413926.0|TicketManager - C...|        22|         H|          Full-time|           Tempe, AZ|    1.0|         false| 13.0|               Entry level|        0|         1.0|Staffing & Recrui...|          13.0|        8106.0|        [Tempe,  AZ]|               Tempe|            AZ|\n",
      "|3692364560|  4857886.0|President TOA Glo...|    250000|         Y|          Full-time|      Fort Worth, TX|    1.0|         false|  5.0|                 Executive|        0|         5.0|Outsourcing/Offsh...|        2948.0|       45509.0|   [Fort Worth,  TX]|          Fort Worth|            TX|\n",
      "|3692368330|9.0723074E7|Assistant Resourc...|     45052|         Y|          Full-time|          Tucson, AZ|    0.0|         false|  6.0|          Mid-Senior level|        0|         2.0|Non-profit Organi...|          96.0|         548.0|       [Tucson,  AZ]|              Tucson|            AZ|\n",
      "+----------+-----------+--------------------+----------+----------+-------------------+--------------------+-------+--------------+-----+--------------------------+---------+------------+--------------------+--------------+--------------+--------------------+--------------------+--------------+\n",
      "only showing top 20 rows\n",
      "\n"
     ]
    }
   ],
   "source": [
    "df.select(\"*\",df.location2[0].alias(\"ciudad\"), df.location2[1].alias(\"estado\")).show()"
   ]
  },
  {
   "cell_type": "markdown",
   "metadata": {},
   "source": [
    "### Working with Dates\n"
   ]
  },
  {
   "cell_type": "code",
   "execution_count": 41,
   "metadata": {},
   "outputs": [
    {
     "name": "stdout",
     "output_type": "stream",
     "text": [
      "+----+----------+\n",
      "|tipo|     fecha|\n",
      "+----+----------+\n",
      "|   A|2023-01-01|\n",
      "|   b|2023-02-01|\n",
      "|   C|2024-02-01|\n",
      "|   E|2023-05-01|\n",
      "+----+----------+\n",
      "\n"
     ]
    }
   ],
   "source": [
    "from pyspark.sql.types import StructField, StructType, StringType\n",
    "\n",
    "data_dates = [\n",
    "    (\"A\",\"2023-01-01\"),\n",
    "    (\"b\",\"2023-02-01\"),\n",
    "    (\"C\",\"2024-02-01\"),\n",
    "    (\"E\",\"2023-05-01\"),\n",
    "]\n",
    "schema = StructType([\n",
    "    StructField(\"tipo\",StringType()),\n",
    "    StructField(\"fecha\",StringType()),\n",
    "])\n",
    "\n",
    "df_dates = spark.createDataFrame(data_dates, schema)\n",
    "df_dates.show()"
   ]
  },
  {
   "cell_type": "code",
   "execution_count": 45,
   "metadata": {},
   "outputs": [
    {
     "name": "stdout",
     "output_type": "stream",
     "text": [
      "root\n",
      " |-- tipo: string (nullable = true)\n",
      " |-- fecha: string (nullable = true)\n",
      " |-- fecha_dt: date (nullable = true)\n",
      "\n",
      "+----+----------+----------+\n",
      "|tipo|     fecha|  fecha_dt|\n",
      "+----+----------+----------+\n",
      "|   A|2023-01-01|2023-01-01|\n",
      "|   b|2023-02-01|2023-02-01|\n",
      "|   C|2024-02-01|2024-02-01|\n",
      "|   E|2023-05-01|2023-05-01|\n",
      "+----+----------+----------+\n",
      "\n"
     ]
    }
   ],
   "source": [
    "from pyspark.sql.functions import to_date, date_format, current_date, datediff\n",
    "\n",
    "df_dates = df_dates.withColumn(\"fecha_dt\", to_date(col(\"fecha\"), \"yyyy-MM-dd\"))\n",
    "df_dates.printSchema()\n",
    "df_dates.show(10)"
   ]
  },
  {
   "cell_type": "code",
   "execution_count": 53,
   "metadata": {},
   "outputs": [
    {
     "name": "stdout",
     "output_type": "stream",
     "text": [
      "root\n",
      " |-- tipo: string (nullable = true)\n",
      " |-- fecha: string (nullable = true)\n",
      " |-- fecha_dt: date (nullable = true)\n",
      " |-- format_dt: string (nullable = true)\n",
      " |-- format_dt2: string (nullable = true)\n",
      "\n",
      "+----+----------+----------+----------+----------+\n",
      "|tipo|     fecha|  fecha_dt| format_dt|format_dt2|\n",
      "+----+----------+----------+----------+----------+\n",
      "|   A|2023-01-01|2023-01-01|2023-01-01|      2301|\n",
      "|   b|2023-02-01|2023-02-01|2023-02-01|      2302|\n",
      "|   C|2024-02-01|2024-02-01|2024-02-01|      2402|\n",
      "|   E|2023-05-01|2023-05-01|2023-05-01|      2305|\n",
      "+----+----------+----------+----------+----------+\n",
      "\n"
     ]
    }
   ],
   "source": [
    "df_dates = df_dates.withColumn(\"format_dt\", date_format(\"fecha_dt\", \"yyyy-MM-dd\"))\n",
    "df_dates = df_dates.withColumn(\"format_dt2\", date_format(\"fecha\", \"yyMM\"))\n",
    "df_dates.printSchema()\n",
    "df_dates.show()"
   ]
  },
  {
   "cell_type": "code",
   "execution_count": 58,
   "metadata": {},
   "outputs": [
    {
     "name": "stdout",
     "output_type": "stream",
     "text": [
      "+----+----------+----------+----------+----------+---------+\n",
      "|tipo|     fecha|  fecha_dt| format_dt|format_dt2|diff_days|\n",
      "+----+----------+----------+----------+----------+---------+\n",
      "|   A|2023-01-01|2023-01-01|2023-01-01|      2301|      652|\n",
      "|   b|2023-02-01|2023-02-01|2023-02-01|      2302|      621|\n",
      "|   C|2024-02-01|2024-02-01|2024-02-01|      2402|      256|\n",
      "|   E|2023-05-01|2023-05-01|2023-05-01|      2305|      532|\n",
      "+----+----------+----------+----------+----------+---------+\n",
      "\n"
     ]
    }
   ],
   "source": [
    "df_dates.withColumn(\"diff_days\", datediff(current_date(),col(\"fecha_dt\"))).show()"
   ]
  },
  {
   "cell_type": "code",
   "execution_count": 57,
   "metadata": {},
   "outputs": [
    {
     "name": "stdout",
     "output_type": "stream",
     "text": [
      "+----+-----+--------+---------+----------+---------+\n",
      "|tipo|fecha|fecha_dt|format_dt|format_dt2|diff_days|\n",
      "+----+-----+--------+---------+----------+---------+\n",
      "+----+-----+--------+---------+----------+---------+\n",
      "\n"
     ]
    }
   ],
   "source": [
    "df_dates.where(\"fecha_dt >= current_date\").withColumn(\"diff_days\", datediff(current_date(),col(\"fecha_dt\"))).show()"
   ]
  },
  {
   "cell_type": "code",
   "execution_count": null,
   "metadata": {},
   "outputs": [],
   "source": []
  },
  {
   "cell_type": "markdown",
   "metadata": {},
   "source": [
    "### Handling Missing Data\n",
    "\n"
   ]
  },
  {
   "cell_type": "code",
   "execution_count": null,
   "metadata": {},
   "outputs": [],
   "source": []
  },
  {
   "cell_type": "markdown",
   "metadata": {},
   "source": [
    "### Aggregation and Grouping"
   ]
  },
  {
   "cell_type": "markdown",
   "metadata": {},
   "source": [
    "### Joining DataFrames"
   ]
  },
  {
   "cell_type": "markdown",
   "metadata": {},
   "source": [
    "## Spark SQL"
   ]
  },
  {
   "cell_type": "markdown",
   "metadata": {},
   "source": []
  }
 ],
 "metadata": {
  "kernelspec": {
   "display_name": "pyspark",
   "language": "python",
   "name": "python3"
  },
  "language_info": {
   "codemirror_mode": {
    "name": "ipython",
    "version": 3
   },
   "file_extension": ".py",
   "mimetype": "text/x-python",
   "name": "python",
   "nbconvert_exporter": "python",
   "pygments_lexer": "ipython3",
   "version": "3.10.15"
  }
 },
 "nbformat": 4,
 "nbformat_minor": 2
}
