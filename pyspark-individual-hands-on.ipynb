{
 "cells": [
  {
   "cell_type": "markdown",
   "metadata": {},
   "source": [
    "# Clase - Computación Distribuida\n",
    "\n",
    "## Pyspark Hands-on Tarea Individual\n",
    "#### Marcelo Medel Vergara - Diplomado Data Engineer USACH\n",
    "\n",
    "#### Instrucciones\n",
    "\n",
    "- Trabajo individual que debe ser entregado al correo marcelo.medel.v@gmail.com el día 21/10/2024.\n",
    "- Se debe entregar este mismo Notebook con el desarrollo de la tarea indicando el nombre completo y correo de contacto.\n",
    "- Utilice los datos de Linkedin compartidos en esta carpeta en Google Drive: \n",
    "    https://drive.google.com/drive/folders/12F56EeSLth5tKazqNsWcFFKPfe9e7B4d?usp=drive_link\n",
    "- Realice las siguientes tareas de procesamiento de datos:\n",
    "    - Join de datasets con información de los post de trabajos, habilidades necesarias e información referente a la compañia que publica el trabajo.\n",
    "    - Convertir tipo de datos para asegurar consistencia en los datos.\n",
    "    - Realizar algún tipo de tratamiento con los valores nulos.\n",
    "    - Validar que los datos estén dentro de los parámetros esperados (ej: revisar valores negativos en columnas que solo acepta números positivos incluyendo el 0).\n",
    "    - Realizar alguna manipulación de string y/o fecha.\n",
    "    - Filtrar, agrupar y agregar la información para realizar algún análisis que le parezca de interés.\n",
    "    - Revisión de valores duplicados.\n",
    "- El resultado del procesamiento de datos debe ser exportado al formato que encuentre mas conveniente.\n",
    "- Se evaluará que el código pueda ser ejecutado completamente en un ambiente con pyspark instalado. Que el código no se pueda ejecutar implicará nota mínima.\n"
   ]
  },
  {
   "cell_type": "markdown",
   "metadata": {},
   "source": []
  }
 ],
 "metadata": {
  "kernelspec": {
   "display_name": "pyspark",
   "language": "python",
   "name": "python3"
  },
  "language_info": {
   "codemirror_mode": {
    "name": "ipython",
    "version": 3
   },
   "file_extension": ".py",
   "mimetype": "text/x-python",
   "name": "python",
   "nbconvert_exporter": "python",
   "pygments_lexer": "ipython3",
   "version": "3.10.14"
  }
 },
 "nbformat": 4,
 "nbformat_minor": 2
}
